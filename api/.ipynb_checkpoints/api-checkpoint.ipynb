{
 "cells": [
  {
   "cell_type": "markdown",
   "id": "0f41014f",
   "metadata": {},
   "source": [
    "# API, peguei da internet"
   ]
  },
  {
   "cell_type": "code",
   "execution_count": 50,
   "id": "57ae6879",
   "metadata": {},
   "outputs": [],
   "source": [
    "import requests\n",
    "import json\n",
    "\n",
    "\n",
    "class ListaDeRepositorios():\n",
    "\n",
    "    def __init__(self, usuario):\n",
    "        self._usuario = usuario\n",
    "\n",
    "    def requisicao_api(self):\n",
    "        resposta = requests.get(\n",
    "            f'https://api.github.com/users/{self._usuario}/repos')\n",
    "        if resposta.status_code == 200:\n",
    "            return resposta.json()\n",
    "        else:\n",
    "            return resposta.status_code\n",
    "\n",
    "    def imprime_repositorios(self):\n",
    "        dados_api = self.requisicao_api()\n",
    "        if type(dados_api) is not int:\n",
    "            for i in range(len(dados_api)):\n",
    "                print(dados_api[i]['name'])\n",
    "        else:\n",
    "            print(dados_api)\n",
    "\n"
   ]
  },
  {
   "cell_type": "code",
   "execution_count": 51,
   "id": "cdbdf77f",
   "metadata": {},
   "outputs": [
    {
     "name": "stdout",
     "output_type": "stream",
     "text": [
      "2048\n",
      "Caixa-de-Supermercados-em-Java\n",
      "Chatbot-Telegram\n",
      "contador-de-palavras-e-caracteres\n",
      "dicionario-git-github\n",
      "e-Digi-Fundamentos\n",
      "Estudos-de-Python\n",
      "Fila-de-Prioridades-em-C\n",
      "GraphQL-Fundamentos\n",
      "Huffman-Coding\n",
      "JeffyMesquita\n",
      "nossa-casa-do-codigo\n",
      "O-Matador-de-Monstro-VueJS\n",
      "Palestra-Git-para-Iniciantes\n",
      "Portfolio-Power-BI\n",
      "pythonBrasilExercicios\n",
      "Recriando-Designs-com-Adobe-XD\n",
      "Semana-Omnistack-8.0\n",
      "Simple-Flask-API\n",
      "Tau-Prolog-Donkey-Kong\n",
      "Uri-Problem-Solutions\n",
      "Writing-Clean-Python-Code\n"
     ]
    }
   ],
   "source": [
    "repositorios = ListaDeRepositorios('nadiaaoliverr')\n",
    "\n",
    "repositorios.imprime_repositorios()"
   ]
  },
  {
   "cell_type": "code",
   "execution_count": 42,
   "id": "464b01fc",
   "metadata": {},
   "outputs": [
    {
     "name": "stdout",
     "output_type": "stream",
     "text": [
      "2048\n",
      "Caixa-de-Supermercados-em-Java\n",
      "Chatbot-Telegram\n",
      "contador-de-palavras-e-caracteres\n",
      "dicionario-git-github\n",
      "e-Digi-Fundamentos\n",
      "Estudos-de-Python\n",
      "Fila-de-Prioridades-em-C\n",
      "GraphQL-Fundamentos\n",
      "Huffman-Coding\n",
      "JeffyMesquita\n",
      "nossa-casa-do-codigo\n",
      "O-Matador-de-Monstro-VueJS\n",
      "Palestra-Git-para-Iniciantes\n",
      "Portfolio-Power-BI\n",
      "pythonBrasilExercicios\n",
      "Recriando-Designs-com-Adobe-XD\n",
      "Semana-Omnistack-8.0\n",
      "Simple-Flask-API\n",
      "Tau-Prolog-Donkey-Kong\n",
      "Uri-Problem-Solutions\n",
      "Writing-Clean-Python-Code\n"
     ]
    }
   ],
   "source": [
    "import requests\n",
    "import json\n",
    "\n",
    "\n",
    "class ListaDeRepositorios():\n",
    "\n",
    "    def __init__(self, usuario):\n",
    "        self._usuario = usuario\n",
    "\n",
    "    def requisicao_api(self):\n",
    "        resposta = requests.get(\n",
    "            f'https://api.github.com/users/{self._usuario}/repos')\n",
    "        if resposta.status_code == 200:\n",
    "            return resposta.json()\n",
    "        else:\n",
    "            return resposta.status_code\n",
    "\n",
    "    def imprime_repositorios(self):\n",
    "        dados_api = self.requisicao_api()\n",
    "        if type(dados_api) is not int:\n",
    "            for i in range(len(dados_api)):\n",
    "                print(dados_api[i]['name'])\n",
    "        else:\n",
    "            print(dados_api)\n",
    "\n",
    "\n",
    "repositorios = ListaDeRepositorios('nadiaaoliverr')\n",
    "repositorios.imprime_repositorios()"
   ]
  },
  {
   "cell_type": "code",
   "execution_count": null,
   "id": "33f007ff",
   "metadata": {},
   "outputs": [],
   "source": []
  }
 ],
 "metadata": {
  "kernelspec": {
   "display_name": "Python 3 (ipykernel)",
   "language": "python",
   "name": "python3"
  },
  "language_info": {
   "codemirror_mode": {
    "name": "ipython",
    "version": 3
   },
   "file_extension": ".py",
   "mimetype": "text/x-python",
   "name": "python",
   "nbconvert_exporter": "python",
   "pygments_lexer": "ipython3",
   "version": "3.9.7"
  }
 },
 "nbformat": 4,
 "nbformat_minor": 5
}
