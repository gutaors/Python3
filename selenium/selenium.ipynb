{
 "cells": [
  {
   "cell_type": "code",
   "execution_count": 7,
   "id": "29856a6e",
   "metadata": {},
   "outputs": [
    {
     "ename": "NameError",
     "evalue": "name '__file__' is not defined",
     "output_type": "error",
     "traceback": [
      "\u001b[1;31m---------------------------------------------------------------------------\u001b[0m",
      "\u001b[1;31mNameError\u001b[0m                                 Traceback (most recent call last)",
      "\u001b[1;32m~\\AppData\\Local\\Temp/ipykernel_9872/3705509342.py\u001b[0m in \u001b[0;36m<module>\u001b[1;34m\u001b[0m\n\u001b[0;32m      7\u001b[0m \u001b[1;33m\u001b[0m\u001b[0m\n\u001b[0;32m      8\u001b[0m \u001b[1;31m# Caminho para a raiz do projeto\u001b[0m\u001b[1;33m\u001b[0m\u001b[1;33m\u001b[0m\u001b[0m\n\u001b[1;32m----> 9\u001b[1;33m \u001b[0mROOT_FOLDER\u001b[0m \u001b[1;33m=\u001b[0m \u001b[0mPath\u001b[0m\u001b[1;33m(\u001b[0m\u001b[0m__file__\u001b[0m\u001b[1;33m)\u001b[0m\u001b[1;33m.\u001b[0m\u001b[0mparent\u001b[0m\u001b[1;33m.\u001b[0m\u001b[0mparent\u001b[0m\u001b[1;33m.\u001b[0m\u001b[0mparent\u001b[0m\u001b[1;33m\u001b[0m\u001b[1;33m\u001b[0m\u001b[0m\n\u001b[0m\u001b[0;32m     10\u001b[0m \u001b[1;31m# Caminho para a pasta onde o chromedriver está\u001b[0m\u001b[1;33m\u001b[0m\u001b[1;33m\u001b[0m\u001b[0m\n\u001b[0;32m     11\u001b[0m \u001b[0mCHROME_DRIVER_PATH\u001b[0m \u001b[1;33m=\u001b[0m \u001b[0mROOT_FOLDER\u001b[0m \u001b[1;33m/\u001b[0m \u001b[1;34m'bin'\u001b[0m \u001b[1;33m/\u001b[0m \u001b[1;34m'chromedriver'\u001b[0m\u001b[1;33m\u001b[0m\u001b[1;33m\u001b[0m\u001b[0m\n",
      "\u001b[1;31mNameError\u001b[0m: name '__file__' is not defined"
     ]
    }
   ],
   "source": [
    "from pathlib import Path\n",
    "from selenium import webdriver\n",
    "from selenium.webdriver.chrome.service import Service\n",
    "from selenium.webdriver.common.by import By\n",
    "from selenium.webdriver.common.keys import Keys\n",
    "from time import sleep\n",
    "\n",
    "# Caminho para a raiz do projeto\n",
    "ROOT_FOLDER = Path(__file__).parent.parent.parent\n",
    "# Caminho para a pasta onde o chromedriver está\n",
    "CHROME_DRIVER_PATH = ROOT_FOLDER / 'bin' / 'chromedriver'\n",
    "\n",
    "\n",
    "def make_chrome_browser(*options: str) -> webdriver.Chrome:\n",
    "    chrome_options = webdriver.ChromeOptions()\n",
    "\n",
    "    # chrome_options.add_argument('--headless')\n",
    "    if options is not None:\n",
    "        for option in options:\n",
    "            chrome_options.add_argument(option)\n",
    "\n",
    "    chrome_service = Service(\n",
    "        executable_path=CHROME_DRIVER_PATH,\n",
    "    )\n",
    "\n",
    "    browser = webdriver.Chrome(\n",
    "        service=chrome_service,\n",
    "        options=chrome_options\n",
    "    )\n",
    "\n",
    "    return browser\n",
    "\n",
    "\n",
    "if __name__ == '__main__':\n",
    "    # Example\n",
    "    options = ('--disable-gpu', '--no-sandbox',)\n",
    "    browser = make_chrome_browser(*options)\n",
    "\n",
    "    # Como antes\n",
    "    browser.get('https://www.google.com')\n",
    "\n",
    "    input_element = browser.find_element(By.NAME, 'q')\n",
    "    input_element.send_keys('Python')\n",
    "    sleep(3)\n",
    "    input_element.send_keys(Keys.ENTER)\n",
    "    sleep(3)\n",
    "    browser.quit()"
   ]
  },
  {
   "cell_type": "code",
   "execution_count": null,
   "id": "34fe0c84",
   "metadata": {},
   "outputs": [],
   "source": []
  },
  {
   "cell_type": "code",
   "execution_count": null,
   "id": "5b6d073b",
   "metadata": {},
   "outputs": [],
   "source": []
  }
 ],
 "metadata": {
  "kernelspec": {
   "display_name": "Python 3 (ipykernel)",
   "language": "python",
   "name": "python3"
  },
  "language_info": {
   "codemirror_mode": {
    "name": "ipython",
    "version": 3
   },
   "file_extension": ".py",
   "mimetype": "text/x-python",
   "name": "python",
   "nbconvert_exporter": "python",
   "pygments_lexer": "ipython3",
   "version": "3.9.7"
  }
 },
 "nbformat": 4,
 "nbformat_minor": 5
}
