{
 "cells": [
  {
   "cell_type": "code",
   "execution_count": null,
   "id": "f099ef3d",
   "metadata": {},
   "outputs": [],
   "source": [
    "from pathlib import Path\n",
    "from selenium import webdriver\n",
    "from selenium.webdriver.chrome.service import Service\n",
    "from selenium.webdriver.common.by import By\n",
    "from selenium.webdriver.common.keys import Keys\n",
    "from time import sleep\n",
    "\n",
    "# Caminho para a raiz do projeto\n",
    "ROOT_FOLDER = Path(__file__).parent.parent.parent\n",
    "# Caminho para a pasta onde o chromedriver está\n",
    "CHROME_DRIVER_PATH = ROOT_FOLDER / 'bin' / 'chromedriver'\n",
    "\n",
    "\n",
    "def make_chrome_browser(*options: str) -> webdriver.Chrome:\n",
    "    chrome_options = webdriver.ChromeOptions()\n",
    "\n",
    "    # chrome_options.add_argument('--headless')\n",
    "    if options is not None:\n",
    "        for option in options:\n",
    "            chrome_options.add_argument(option)\n",
    "\n",
    "    chrome_service = Service(\n",
    "        executable_path=CHROME_DRIVER_PATH,\n",
    "    )\n",
    "\n",
    "    browser = webdriver.Chrome(\n",
    "        service=chrome_service,\n",
    "        options=chrome_options\n",
    "    )\n",
    "\n",
    "    return browser\n",
    "\n",
    "\n",
    "if __name__ == '__main__':\n",
    "    # Example\n",
    "    options = ('--disable-gpu', '--no-sandbox',)\n",
    "    browser = make_chrome_browser(*options)\n",
    "\n",
    "    # Como antes\n",
    "    browser.get('https://www.google.com')\n",
    "\n",
    "    input_element = browser.find_element(By.NAME, 'q')\n",
    "    input_element.send_keys('Python')\n",
    "    sleep(3)\n",
    "    input_element.send_keys(Keys.ENTER)\n",
    "    sleep(3)\n",
    "    browser.quit()"
   ]
  }
 ],
 "metadata": {
  "kernelspec": {
   "display_name": "Python 3 (ipykernel)",
   "language": "python",
   "name": "python3"
  },
  "language_info": {
   "codemirror_mode": {
    "name": "ipython",
    "version": 3
   },
   "file_extension": ".py",
   "mimetype": "text/x-python",
   "name": "python",
   "nbconvert_exporter": "python",
   "pygments_lexer": "ipython3",
   "version": "3.9.7"
  }
 },
 "nbformat": 4,
 "nbformat_minor": 5
}
