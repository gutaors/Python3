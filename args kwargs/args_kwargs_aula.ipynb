{
 "cells": [
  {
   "cell_type": "markdown",
   "metadata": {},
   "source": [
    "# Python o que é *args e **kwargs nas funções?"
   ]
  },
  {
   "cell_type": "markdown",
   "metadata": {},
   "source": [
    "## Um exemplo bem simples para entender o *args\n",
    "\n",
    "Compare isso:"
   ]
  },
  {
   "cell_type": "code",
   "execution_count": 1,
   "metadata": {
    "tags": []
   },
   "outputs": [
    {
     "output_type": "stream",
     "name": "stdout",
     "text": "42\n42\n"
    }
   ],
   "source": [
    "def soma_2_números(a, b):\n",
    "    print(a + b)\n",
    "\n",
    "\n",
    "def soma_3_números(a, b, c):\n",
    "    print(a + b + c)\n",
    "\n",
    "\n",
    "soma_2_números(41, 1)\n",
    "soma_3_números(39, 1, 2)"
   ]
  },
  {
   "cell_type": "markdown",
   "metadata": {},
   "source": [
    "Com isso:"
   ]
  },
  {
   "cell_type": "code",
   "execution_count": 2,
   "metadata": {
    "tags": []
   },
   "outputs": [
    {
     "output_type": "stream",
     "name": "stdout",
     "text": "42\n74\n105\n162\n"
    }
   ],
   "source": [
    "def soma(*números):\n",
    "    print(sum(números))\n",
    "\n",
    "\n",
    "soma(20, 22)\n",
    "soma(39, 10, 25)\n",
    "soma(10, 20, 31, 44)\n",
    "soma(11, 25, 30, 41, 55)"
   ]
  },
  {
   "cell_type": "markdown",
   "metadata": {},
   "source": [
    "## Entendendo"
   ]
  },
  {
   "cell_type": "code",
   "execution_count": 3,
   "metadata": {
    "tags": []
   },
   "outputs": [
    {
     "output_type": "stream",
     "name": "stdout",
     "text": "\nargs = ()\n\nargs = (1,)\n1\n\nargs = (1, 2)\n1\n2\n\nargs = (1, 2, 3)\n1\n2\n3\n\nargs = ('São Paulo', 'Rio de Janeiro')\nSão Paulo\nRio de Janeiro\n"
    }
   ],
   "source": [
    "def f(*args):\n",
    "    print(f\"\\nargs = {args}\")\n",
    "    for arg in args:\n",
    "        print(arg)\n",
    "\n",
    "\n",
    "f()\n",
    "f(1)\n",
    "f(1, 2)\n",
    "f(1, 2, 3)\n",
    "f(\"São Paulo\", \"Rio de Janeiro\")"
   ]
  },
  {
   "cell_type": "markdown",
   "metadata": {},
   "source": [
    "## Um exemplo um pouquinho mais interessante"
   ]
  },
  {
   "cell_type": "code",
   "execution_count": 4,
   "metadata": {
    "tags": []
   },
   "outputs": [
    {
     "output_type": "stream",
     "name": "stdout",
     "text": "\nMeus filmes favoritos:\n\t1. Evil Dead II\n\t2. Braindead\n\t3. The Little Rascals\n\nMeus filmes favoritos:\n\t1. Another Earth\n\t2. Mary and Max\n"
    }
   ],
   "source": [
    "def filmes_favoritos(*filmes):\n",
    "    print(\"\\nMeus filmes favoritos:\")\n",
    "    for i, filme in enumerate(filmes, start=1):\n",
    "        print(f\"\\t{i}. {filme}\")\n",
    "\n",
    "\n",
    "filmes_favoritos(\"Evil Dead II\", \"Braindead\", \"The Little Rascals\")\n",
    "filmes_favoritos(\"Another Earth\", \"Mary and Max\")"
   ]
  },
  {
   "cell_type": "markdown",
   "metadata": {},
   "source": [
    "## Posicional + *args"
   ]
  },
  {
   "cell_type": "code",
   "execution_count": 5,
   "metadata": {
    "tags": []
   },
   "outputs": [
    {
     "output_type": "stream",
     "name": "stdout",
     "text": "\nOs filmes favoritos do(a) Fabio:\n\t1. Evil Dead II\n\t2. Braindead\n\t3. Little Rascals\n\nOs filmes favoritos do(a) Josi:\n\t1. Another Earth\n\t2. Mary and Max\n"
    }
   ],
   "source": [
    "def filmes_favoritos(nome, *filmes):\n",
    "    print(f\"\\nOs filmes favoritos do(a) {nome}:\")\n",
    "    for i, filme in enumerate(filmes, start=1):\n",
    "        print(f\"\\t{i}. {filme}\")\n",
    "\n",
    "\n",
    "filmes_favoritos(\"Fabio\", \"Evil Dead II\", \"Braindead\", \"Little Rascals\")\n",
    "filmes_favoritos(\"Josi\", \"Another Earth\", \"Mary and Max\")"
   ]
  },
  {
   "cell_type": "markdown",
   "metadata": {},
   "source": [
    "----"
   ]
  },
  {
   "cell_type": "markdown",
   "metadata": {},
   "source": [
    "## Entendendo o **kwargs"
   ]
  },
  {
   "cell_type": "code",
   "execution_count": 6,
   "metadata": {
    "tags": []
   },
   "outputs": [
    {
     "output_type": "stream",
     "name": "stdout",
     "text": "\nkwargs = {}\n\nkwargs = {'nome': 'Fabio'}\nnome Fabio\n\nkwargs = {'nome': 'Fabio', 'idade': 29}\nnome Fabio\nidade 29\n\nkwargs = {'nome': 'Fabio', 'idade': 29, 'linguagens': ['Python', 'JavaScript']}\nnome Fabio\nidade 29\nlinguagens ['Python', 'JavaScript']\n"
    }
   ],
   "source": [
    "def f(**kwargs):\n",
    "    print(f\"\\nkwargs = {kwargs}\")\n",
    "    for key, value in kwargs.items():\n",
    "        print(key, value)\n",
    "\n",
    "\n",
    "f()\n",
    "f(nome=\"Fabio\")\n",
    "f(nome=\"Fabio\", idade=29)\n",
    "f(nome=\"Fabio\", idade=29, linguagens=[\"Python\", \"JavaScript\"])"
   ]
  },
  {
   "cell_type": "markdown",
   "metadata": {},
   "source": [
    "## Exemplo"
   ]
  },
  {
   "cell_type": "code",
   "execution_count": 7,
   "metadata": {
    "tags": []
   },
   "outputs": [
    {
     "output_type": "stream",
     "name": "stdout",
     "text": "\nOs favoritos do(a) Fabio:\n\t- Artista: Lil Tracy\n\t- Música: Favorite Dress\n\nOs favoritos do(a) Josi:\n\t- Filme: Another Earth\n\t- Artista: Taylor Swift\n\nOs favoritos do(a) Fulano:\n\t- Linguagem: Python\n\t- Filme: Kill Bill: Vol. 1\n\t- Comida: Pizza\n\t- Bebida: Coca\n"
    }
   ],
   "source": [
    "def favoritos(nome, **kwargs):\n",
    "    print(f\"\\nOs favoritos do(a) {nome}:\")\n",
    "    for key, value in kwargs.items():\n",
    "        print(f\"\\t- {key.capitalize()}: {value}\")\n",
    "\n",
    "\n",
    "favoritos(\"Fabio\", artista=\"Lil Tracy\", música=\"Favorite Dress\")\n",
    "favoritos(\"Josi\", filme=\"Another Earth\", artista=\"Taylor Swift\")\n",
    "favoritos(\n",
    "    \"Fulano\",\n",
    "    linguagem=\"Python\",\n",
    "    filme=\"Kill Bill: Vol. 1\",\n",
    "    comida=\"Pizza\",\n",
    "    bebida=\"Coca\"\n",
    ")"
   ]
  },
  {
   "cell_type": "markdown",
   "metadata": {
    "tags": []
   },
   "source": [
    "## Sim, dá pra usar *args e **kwargs juntos"
   ]
  },
  {
   "cell_type": "code",
   "execution_count": 8,
   "metadata": {
    "tags": []
   },
   "outputs": [
    {
     "output_type": "stream",
     "name": "stdout",
     "text": "x = 1\nargs = (2, 3)\nkwargs = {'y': 4, 'z': 5}\n"
    }
   ],
   "source": [
    "def f(x, *args, **kwargs):\n",
    "    print(f\"x = {x}\\nargs = {args}\\nkwargs = {kwargs}\")\n",
    "\n",
    "\n",
    "f(1, 2, 3, y=4, z=5)"
   ]
  },
  {
   "cell_type": "markdown",
   "metadata": {},
   "source": [
    "## Mas não dá pra fazer de qualquer jeito"
   ]
  },
  {
   "cell_type": "code",
   "execution_count": 9,
   "metadata": {},
   "outputs": [
    {
     "output_type": "error",
     "ename": "SyntaxError",
     "evalue": "invalid syntax (<ipython-input-9-0cc7f7e7f3f1>, line 1)",
     "traceback": [
      "\u001b[1;36m  File \u001b[1;32m\"<ipython-input-9-0cc7f7e7f3f1>\"\u001b[1;36m, line \u001b[1;32m1\u001b[0m\n\u001b[1;33m    def f(x, **kwargs, *args):\u001b[0m\n\u001b[1;37m                       ^\u001b[0m\n\u001b[1;31mSyntaxError\u001b[0m\u001b[1;31m:\u001b[0m invalid syntax\n"
     ]
    }
   ],
   "source": [
    "def f(x, **kwargs, *args):\n",
    "    pass"
   ]
  },
  {
   "cell_type": "markdown",
   "metadata": {},
   "source": [
    "## Outros usos interessantes do * e **"
   ]
  },
  {
   "cell_type": "code",
   "execution_count": 10,
   "metadata": {
    "tags": []
   },
   "outputs": [
    {
     "output_type": "execute_result",
     "data": {
      "text/plain": "{'nome': 'fabio', 'idade': 29}"
     },
     "metadata": {},
     "execution_count": 10
    }
   ],
   "source": [
    "perfil = {\n",
    "    \"nome\": \"fabio\",\n",
    "    \"idade\": 29\n",
    "}\n",
    "\n",
    "perfil"
   ]
  },
  {
   "cell_type": "code",
   "execution_count": 11,
   "metadata": {
    "tags": []
   },
   "outputs": [
    {
     "output_type": "stream",
     "name": "stdout",
     "text": "nome fabio\nidade 29\n"
    }
   ],
   "source": [
    "def f(**kwargs):\n",
    "    for key, value in kwargs.items():\n",
    "        print(key, value)\n",
    "\n",
    "\n",
    "## unpacking\n",
    "f(**perfil)\n",
    "# na prática, é isso que acontece: f(nome=\"fabio\", idade=29)"
   ]
  },
  {
   "cell_type": "code",
   "execution_count": 12,
   "metadata": {
    "tags": []
   },
   "outputs": [
    {
     "output_type": "stream",
     "name": "stdout",
     "text": "nome fabio\nidade 29\n"
    }
   ],
   "source": [
    "def f(nome, idade):\n",
    "    print(\"nome\", nome)\n",
    "    print(\"idade\", idade)\n",
    "\n",
    "\n",
    "f(**perfil)\n",
    "# na prática, é isso que acontece: f(nome=\"fabio\", idade=29)"
   ]
  },
  {
   "cell_type": "code",
   "execution_count": 13,
   "metadata": {
    "tags": []
   },
   "outputs": [
    {
     "output_type": "stream",
     "name": "stdout",
     "text": "nome idade\n"
    }
   ],
   "source": [
    "print(*perfil)"
   ]
  },
  {
   "cell_type": "code",
   "execution_count": 14,
   "metadata": {},
   "outputs": [
    {
     "output_type": "error",
     "ename": "TypeError",
     "evalue": "'nome' is an invalid keyword argument for print()",
     "traceback": [
      "\u001b[1;31m---------------------------------------------------------------------------\u001b[0m",
      "\u001b[1;31mTypeError\u001b[0m                                 Traceback (most recent call last)",
      "\u001b[1;32m<ipython-input-14-080ecd58525e>\u001b[0m in \u001b[0;36m<module>\u001b[1;34m\u001b[0m\n\u001b[1;32m----> 1\u001b[1;33m \u001b[0mprint\u001b[0m\u001b[1;33m(\u001b[0m\u001b[1;33m**\u001b[0m\u001b[0mperfil\u001b[0m\u001b[1;33m)\u001b[0m\u001b[1;33m\u001b[0m\u001b[1;33m\u001b[0m\u001b[0m\n\u001b[0m",
      "\u001b[1;31mTypeError\u001b[0m: 'nome' is an invalid keyword argument for print()"
     ]
    }
   ],
   "source": [
    "print(**perfil)"
   ]
  },
  {
   "cell_type": "code",
   "execution_count": 15,
   "metadata": {},
   "outputs": [
    {
     "output_type": "error",
     "ename": "TypeError",
     "evalue": "'nome' is an invalid keyword argument for print()",
     "traceback": [
      "\u001b[1;31m---------------------------------------------------------------------------\u001b[0m",
      "\u001b[1;31mTypeError\u001b[0m                                 Traceback (most recent call last)",
      "\u001b[1;32m<ipython-input-15-760b90e6c5f7>\u001b[0m in \u001b[0;36m<module>\u001b[1;34m\u001b[0m\n\u001b[1;32m----> 1\u001b[1;33m \u001b[0mprint\u001b[0m\u001b[1;33m(\u001b[0m\u001b[0mnome\u001b[0m\u001b[1;33m=\u001b[0m\u001b[1;34m\"fabio\"\u001b[0m\u001b[1;33m)\u001b[0m\u001b[1;33m\u001b[0m\u001b[1;33m\u001b[0m\u001b[0m\n\u001b[0m",
      "\u001b[1;31mTypeError\u001b[0m: 'nome' is an invalid keyword argument for print()"
     ]
    }
   ],
   "source": [
    "print(nome=\"fabio\")"
   ]
  },
  {
   "cell_type": "markdown",
   "metadata": {},
   "source": [
    "----"
   ]
  },
  {
   "cell_type": "code",
   "execution_count": 16,
   "metadata": {
    "tags": []
   },
   "outputs": [
    {
     "output_type": "stream",
     "name": "stdout",
     "text": "Rocket Science Thumbsucker\n"
    }
   ],
   "source": [
    "filmes = [\"Rocket Science\", \"Thumbsucker\"]\n",
    "\n",
    "print(*filmes)\n",
    "# na prática, é isso que acontece: print(\"Rocket Science\", \"Thumbsucker\")"
   ]
  },
  {
   "cell_type": "code",
   "execution_count": 17,
   "metadata": {
    "tags": []
   },
   "outputs": [
    {
     "output_type": "stream",
     "name": "stdout",
     "text": "Rocket Science\nThumbsucker\n"
    }
   ],
   "source": [
    "def f(*args):\n",
    "    for arg in args:\n",
    "        print(arg)\n",
    "\n",
    "\n",
    "f(*filmes)"
   ]
  },
  {
   "cell_type": "markdown",
   "metadata": {},
   "source": [
    "----"
   ]
  },
  {
   "cell_type": "code",
   "execution_count": 18,
   "metadata": {
    "tags": []
   },
   "outputs": [
    {
     "output_type": "stream",
     "name": "stdout",
     "text": "1\n[2, 3, 4]\n"
    }
   ],
   "source": [
    "lista = [1, 2, 3, 4]\n",
    "primeiro, *o_que_sobrou = lista\n",
    "\n",
    "print(primeiro)\n",
    "print(o_que_sobrou)"
   ]
  },
  {
   "cell_type": "code",
   "execution_count": 19,
   "metadata": {
    "tags": []
   },
   "outputs": [
    {
     "output_type": "stream",
     "name": "stdout",
     "text": "1\n[2, 3, 4]\n"
    }
   ],
   "source": [
    "lista = [1, 2, 3, 4]\n",
    "primeiro, o_que_sobrou = lista[0], lista[1:]\n",
    "\n",
    "print(primeiro)\n",
    "print(o_que_sobrou)"
   ]
  },
  {
   "cell_type": "code",
   "execution_count": 20,
   "metadata": {
    "tags": []
   },
   "outputs": [
    {
     "output_type": "stream",
     "name": "stdout",
     "text": "1\n[2, 3, 4, 5, 6, 7, 8, 9]\n10\n"
    }
   ],
   "source": [
    "lista = [1, 2, 3, 4, 5, 6, 7, 8, 9, 10]\n",
    "primeiro, *elementos_do_meio, último = lista\n",
    "\n",
    "print(primeiro)\n",
    "print(elementos_do_meio)\n",
    "print(último)"
   ]
  },
  {
   "cell_type": "code",
   "execution_count": 21,
   "metadata": {
    "tags": []
   },
   "outputs": [
    {
     "output_type": "stream",
     "name": "stdout",
     "text": "1\n[2, 3, 4, 5, 6, 7, 8, 9]\n10\n"
    }
   ],
   "source": [
    "lista = [1, 2, 3, 4, 5, 6, 7, 8, 9, 10]\n",
    "primeiro, elementos_do_meio, último = lista[0], lista[1:-1], lista[-1]\n",
    "\n",
    "print(primeiro)\n",
    "print(elementos_do_meio)\n",
    "print(último)"
   ]
  },
  {
   "cell_type": "markdown",
   "metadata": {},
   "source": [
    "# Assuntos para outras aulas (ou lição de casa para os mais curiosos)\n",
    "\n",
    "1. Parâmetros especiais"
   ]
  },
  {
   "cell_type": "code",
   "execution_count": 1,
   "metadata": {
    "tags": []
   },
   "outputs": [
    {
     "output_type": "error",
     "ename": "SyntaxError",
     "evalue": "invalid syntax (<ipython-input-1-3c9559aaae3f>, line 1)",
     "traceback": [
      "\u001b[1;36m  File \u001b[1;32m\"<ipython-input-1-3c9559aaae3f>\"\u001b[1;36m, line \u001b[1;32m1\u001b[0m\n\u001b[1;33m    def f(pos1, pos2, /, pos_or_kwd, *, kwd1, kwd2):\u001b[0m\n\u001b[1;37m                      ^\u001b[0m\n\u001b[1;31mSyntaxError\u001b[0m\u001b[1;31m:\u001b[0m invalid syntax\n"
     ]
    }
   ],
   "source": [
    "def f(pos1, pos2, /, pos_or_kwd, *, kwd1, kwd2):\n",
    "    print(pos1, pos2, pos_or_kwd, kwd1, kwd2)\n",
    "\n",
    "\n",
    "f(1, 2, pos_or_kwd=3, kwd1=4, kwd2=5)"
   ]
  },
  {
   "cell_type": "markdown",
   "metadata": {},
   "source": [
    "2. Decorators: Usamos args e kwargs quando trabalhamos com decorators. Pesquise sobre isso (ou aguarde a aula sobre decorators 😁)\n",
    "\n",
    "3. Exemplos \"do mundo real\": Onde as pessoas usam args e kwargs? Aqui temos dois exemplos aleatórios:\n",
    "\n",
    "https://github.com/django/django/blob/main/django/views/generic/base.py\n",
    "\n",
    "https://github.com/psf/requests/blob/master/requests/api.py"
   ]
  },
  {
   "cell_type": "markdown",
   "metadata": {},
   "source": [
    "----"
   ]
  }
 ],
 "metadata": {
  "language_info": {
   "codemirror_mode": {
    "name": "ipython",
    "version": 3
   },
   "file_extension": ".py",
   "mimetype": "text/x-python",
   "name": "python",
   "nbconvert_exporter": "python",
   "pygments_lexer": "ipython3",
   "version": "3.7.6-final"
  },
  "orig_nbformat": 2,
  "kernelspec": {
   "name": "python37664bitbasecondade0de9233a1f49a987fc83b86a51e785",
   "display_name": "Python 3.7.6 64-bit ('base': conda)"
  }
 },
 "nbformat": 4,
 "nbformat_minor": 2
}
