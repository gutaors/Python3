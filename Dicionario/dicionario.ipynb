{
 "cells": [
  {
   "cell_type": "code",
   "execution_count": 1,
   "id": "78c55cec",
   "metadata": {},
   "outputs": [
    {
     "name": "stdout",
     "output_type": "stream",
     "text": [
      "\n",
      "Texto explicativo\n",
      "\n",
      "Pergunta 1: Quanto é 2+2? \n",
      "Respostas: \n",
      "[a]: 1\n",
      "[b]: 4\n",
      "[c]: 5\n",
      "Sua resposta: b\n",
      "EHHHHHH!!! Você acertou!!!!\n",
      "\n",
      "Pergunta 2: Quanto é 3x2? \n",
      "Respostas: \n",
      "[a]: 4\n",
      "[b]: 101\n",
      "[c]: 6\n",
      "Sua resposta: 6\n",
      "IXXIIIII!!! Você ERROU!!!!\n",
      "\n",
      "Você acertou 1 respostas.\n",
      "Sua porcentagem de acerto foi 50.0%.\n"
     ]
    }
   ],
   "source": [
    "print()\n",
    "print('Texto explicativo')\n",
    "\n",
    "perguntas = {\n",
    "    'Pergunta 1': {\n",
    "        'pergunta': 'Quanto é 2+2? ',\n",
    "        'respostas': {\n",
    "            'a': '1',\n",
    "            'b': '4',\n",
    "            'c': '5',\n",
    "        },\n",
    "        'resposta_certa': 'b',\n",
    "    },\n",
    "    'Pergunta 2': {\n",
    "        'pergunta': 'Quanto é 3x2? ',\n",
    "        'respostas': {\n",
    "            'a': '4',\n",
    "            'b': '101',\n",
    "            'c': '6',\n",
    "        },\n",
    "        'resposta_certa': 'c',\n",
    "    },\n",
    "}\n",
    "print()\n",
    "\n",
    "respostas_certas = 0\n",
    "for pergunta, dados_pergunta in perguntas.items():\n",
    "    print(f'{pergunta}: {dados_pergunta[\"pergunta\"]}')\n",
    "\n",
    "    print('Respostas: ')\n",
    "    for resposta, dados_resposta in dados_pergunta['respostas'].items():\n",
    "        print(f'[{resposta}]: {dados_resposta}')\n",
    "\n",
    "    resposta_usuario = input('Sua resposta: ')\n",
    "\n",
    "    if resposta_usuario == dados_pergunta['resposta_certa']:\n",
    "        print('EHHHHHH!!! Você acertou!!!!')\n",
    "        respostas_certas += 1\n",
    "    else:\n",
    "        print('IXXIIIII!!! Você ERROU!!!!')\n",
    "\n",
    "    print()\n",
    "\n",
    "quantidade_perguntas = len(perguntas)\n",
    "porcentagem_acerto = respostas_certas / quantidade_perguntas * 100\n",
    "print(f'Você acertou {respostas_certas} respostas.')\n",
    "print(f'Sua porcentagem de acerto foi {porcentagem_acerto}%.')"
   ]
  },
  {
   "cell_type": "code",
   "execution_count": null,
   "id": "cad1b7fb",
   "metadata": {},
   "outputs": [],
   "source": []
  }
 ],
 "metadata": {
  "kernelspec": {
   "display_name": "Python 3 (ipykernel)",
   "language": "python",
   "name": "python3"
  },
  "language_info": {
   "codemirror_mode": {
    "name": "ipython",
    "version": 3
   },
   "file_extension": ".py",
   "mimetype": "text/x-python",
   "name": "python",
   "nbconvert_exporter": "python",
   "pygments_lexer": "ipython3",
   "version": "3.9.7"
  }
 },
 "nbformat": 4,
 "nbformat_minor": 5
}
