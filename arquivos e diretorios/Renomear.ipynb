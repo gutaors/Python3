{
 "cells": [
  {
   "cell_type": "code",
   "execution_count": 1,
   "id": "a148608c",
   "metadata": {},
   "outputs": [],
   "source": [
    "import re\n",
    "import os\n",
    "import shutil\n",
    "\n",
    "main_folder = r'/home/luizotavio/Desktop/serie'\n",
    "\n",
    "\n",
    "def rename_file(file):\n",
    "    file_name, file_extension = os.path.splitext(file)\n",
    "    file_name_numbers = re.findall(r'\\d+', file_name)\n",
    "\n",
    "    if not file_name_numbers:\n",
    "        return file\n",
    "\n",
    "    file_name_numbers = file_name_numbers[0].zfill(4)\n",
    "\n",
    "    return f'{file_name_numbers}{file_extension}'\n",
    "\n",
    "\n",
    "def file_loop(root, dirs, files):\n",
    "    for file in files:\n",
    "        if not re.search(r'\\.mp4$', file):\n",
    "            continue\n",
    "\n",
    "        new_file_name = rename_file(file)\n",
    "        old_file_full_path = os.path.join(root, file)\n",
    "        new_file_full_path = os.path.join(root, new_file_name)\n",
    "\n",
    "        print(f'Movendo arquivo \"{file}\" para \"{new_file_name}\"')\n",
    "        shutil.move(old_file_full_path, new_file_full_path)\n",
    "\n",
    "\n",
    "def main_loop():\n",
    "    for root, dirs, files in os.walk(main_folder):\n",
    "        file_loop(root, dirs, files)\n",
    "\n",
    "\n",
    "if __name__ == '__main__':\n",
    "    main_loop()\n"
   ]
  },
  {
   "cell_type": "code",
   "execution_count": null,
   "id": "ce78c243",
   "metadata": {},
   "outputs": [],
   "source": []
  }
 ],
 "metadata": {
  "kernelspec": {
   "display_name": "Python 3 (ipykernel)",
   "language": "python",
   "name": "python3"
  },
  "language_info": {
   "codemirror_mode": {
    "name": "ipython",
    "version": 3
   },
   "file_extension": ".py",
   "mimetype": "text/x-python",
   "name": "python",
   "nbconvert_exporter": "python",
   "pygments_lexer": "ipython3",
   "version": "3.9.7"
  }
 },
 "nbformat": 4,
 "nbformat_minor": 5
}
