{
 "cells": [
  {
   "cell_type": "markdown",
   "id": "20192e66",
   "metadata": {},
   "source": [
    "\"\"\"\n",
    "04.252.011/0001-10 40.688.134/0001-61 71.506.168/0001-11 12.544.992/0001-05\n",
    "\n",
    "0   4   2   5   2   0   1   1   0   0   0   1\n",
    "5   4   3   2   9   8   7   6   5   4   3   2\n",
    "0   16  6   10  18  0   7   6   0   0   0   2 = 65\n",
    "Fórmula -> 11 - (65 % 11) = 1\n",
    "Primeiro digito = 1 (Se o digito for maior que 9, ele se torna 0)\n",
    "\n",
    "0   4   2   5   2   0   1   1   0   0   0   1   1   X\n",
    "6   5   4   3   2   9   8   7   6   5   4   3   2\n",
    "0   20  8   15  4   0   8   7   0   0   0   3   2 = 67\n",
    "Fórmula -> 11 - (67 % 11) = 10 (Como o resultado é maior que 9, então é 0)\n",
    "Segundo digito = 0\n",
    "\n",
    "Novo CNPJ + Digitos = 04.252.011/0001-10\n",
    "CNPJ Original =       04.252.011/0001-10\n",
    "Válido\n",
    "\n",
    "Recap.\n",
    "543298765432 -> Primeiro digito\n",
    "6543298765432 -> Segunro digito\n",
    "\"\"\""
   ]
  },
  {
   "cell_type": "code",
   "execution_count": 2,
   "id": "1f818230-9960-481b-a94d-d9e37f23ab7c",
   "metadata": {},
   "outputs": [],
   "source": [
    "import cnpj"
   ]
  },
  {
   "cell_type": "code",
   "execution_count": 3,
   "id": "ae7f22b2-9795-4fc7-9deb-3b106753b0f1",
   "metadata": {},
   "outputs": [
    {
     "name": "stdout",
     "output_type": "stream",
     "text": [
      "04.252.011/0001-10 é válido\n"
     ]
    }
   ],
   "source": [
    "cnpj1 = '04.252.011/0001-10'\n",
    "\n",
    "if cnpj.valida(cnpj1):\n",
    "    print(f'{cnpj1} é válido')\n",
    "else:\n",
    "    print(f'{cnpj1} é inválido')\n",
    "\n",
    "\n"
   ]
  },
  {
   "cell_type": "code",
   "execution_count": null,
   "id": "8f04fb8d-e876-47e6-b820-8cdbc0870379",
   "metadata": {},
   "outputs": [],
   "source": []
  }
 ],
 "metadata": {
  "kernelspec": {
   "display_name": "Python 3",
   "language": "python",
   "name": "python3"
  },
  "language_info": {
   "codemirror_mode": {
    "name": "ipython",
    "version": 3
   },
   "file_extension": ".py",
   "mimetype": "text/x-python",
   "name": "python",
   "nbconvert_exporter": "python",
   "pygments_lexer": "ipython3",
   "version": "3.8.8"
  }
 },
 "nbformat": 4,
 "nbformat_minor": 5
}
