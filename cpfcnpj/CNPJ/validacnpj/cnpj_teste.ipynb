{
 "cells": [
  {
   "cell_type": "code",
   "execution_count": 2,
   "id": "1e7ee67e-4967-4289-9445-e416fa73aef5",
   "metadata": {},
   "outputs": [
    {
     "data": {
      "text/plain": [
       "'\\n04.252.011/0001-10 40.688.134/0001-61 71.506.168/0001-11 12.544.992/0001-05\\n\\n0   4   2   5   2   0   1   1   0   0   0   1\\n5   4   3   2   9   8   7   6   5   4   3   2\\n0   16  6   10  18  0   7   6   0   0   0   2 = 65\\nFórmula -> 11 - (65 % 11) = 1\\nPrimeiro digito = 1 (Se o digito for maior que 9, ele se torna 0)\\n\\n0   4   2   5   2   0   1   1   0   0   0   1   1   X\\n6   5   4   3   2   9   8   7   6   5   4   3   2\\n0   20  8   15  4   0   8   7   0   0   0   3   2 = 67\\nFórmula -> 11 - (67 % 11) = 10 (Como o resultado é maior que 9, então é 0)\\nSegundo digito = 0\\n\\nNovo CNPJ + Digitos = 04.252.011/0001-10\\nCNPJ Original =       04.252.011/0001-10\\nVálido\\n\\nRecap.\\n543298765432 -> Primeiro digito\\n6543298765432 -> Segunro digito\\n'"
      ]
     },
     "execution_count": 2,
     "metadata": {},
     "output_type": "execute_result"
    }
   ],
   "source": [
    "\"\"\"\n",
    "04.252.011/0001-10 40.688.134/0001-61 71.506.168/0001-11 12.544.992/0001-05\n",
    "\n",
    "0   4   2   5   2   0   1   1   0   0   0   1\n",
    "5   4   3   2   9   8   7   6   5   4   3   2\n",
    "0   16  6   10  18  0   7   6   0   0   0   2 = 65\n",
    "Fórmula -> 11 - (65 % 11) = 1\n",
    "Primeiro digito = 1 (Se o digito for maior que 9, ele se torna 0)\n",
    "\n",
    "0   4   2   5   2   0   1   1   0   0   0   1   1   X\n",
    "6   5   4   3   2   9   8   7   6   5   4   3   2\n",
    "0   20  8   15  4   0   8   7   0   0   0   3   2 = 67\n",
    "Fórmula -> 11 - (67 % 11) = 10 (Como o resultado é maior que 9, então é 0)\n",
    "Segundo digito = 0\n",
    "\n",
    "Novo CNPJ + Digitos = 04.252.011/0001-10\n",
    "CNPJ Original =       04.252.011/0001-10\n",
    "Válido\n",
    "\n",
    "Recap.\n",
    "543298765432 -> Primeiro digito\n",
    "6543298765432 -> Segunro digito\n",
    "\"\"\""
   ]
  },
  {
   "cell_type": "code",
   "execution_count": 4,
   "id": "1f818230-9960-481b-a94d-d9e37f23ab7c",
   "metadata": {},
   "outputs": [
    {
     "ename": "ModuleNotFoundError",
     "evalue": "No module named 'cnpj'",
     "output_type": "error",
     "traceback": [
      "\u001b[0;31m---------------------------------------------------------------------------\u001b[0m",
      "\u001b[0;31mModuleNotFoundError\u001b[0m                       Traceback (most recent call last)",
      "\u001b[0;32m/tmp/ipykernel_226/3546498861.py\u001b[0m in \u001b[0;36m<module>\u001b[0;34m\u001b[0m\n\u001b[0;32m----> 1\u001b[0;31m \u001b[0;32mimport\u001b[0m \u001b[0mcnpj\u001b[0m\u001b[0;34m\u001b[0m\u001b[0;34m\u001b[0m\u001b[0m\n\u001b[0m",
      "\u001b[0;31mModuleNotFoundError\u001b[0m: No module named 'cnpj'"
     ]
    }
   ],
   "source": [
    "import cnpj"
   ]
  },
  {
   "cell_type": "code",
   "execution_count": null,
   "id": "ae7f22b2-9795-4fc7-9deb-3b106753b0f1",
   "metadata": {},
   "outputs": [],
   "source": [
    "cnpj1 = '04.252.011/0001-10'\n",
    "\n",
    "if cnpj.valida(cnpj1):\n",
    "    print(f'{cnpj1} é válido')\n",
    "else:\n",
    "    print(f'{cnpj1} é inválido')\n",
    "\n",
    "\n"
   ]
  }
 ],
 "metadata": {
  "kernelspec": {
   "display_name": "Python 3 (ipykernel)",
   "language": "python",
   "name": "python3"
  },
  "language_info": {
   "codemirror_mode": {
    "name": "ipython",
    "version": 3
   },
   "file_extension": ".py",
   "mimetype": "text/x-python",
   "name": "python",
   "nbconvert_exporter": "python",
   "pygments_lexer": "ipython3",
   "version": "3.9.6"
  }
 },
 "nbformat": 4,
 "nbformat_minor": 5
}
