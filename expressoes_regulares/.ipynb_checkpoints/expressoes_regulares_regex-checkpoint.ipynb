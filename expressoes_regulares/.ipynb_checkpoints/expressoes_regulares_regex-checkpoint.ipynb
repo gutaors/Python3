{
 "cells": [
  {
   "cell_type": "markdown",
   "id": "33b01520",
   "metadata": {},
   "source": [
    "# aula 1\n",
    "acha uma palavra e substitui por outra\n"
   ]
  },
  {
   "cell_type": "code",
   "execution_count": 37,
   "id": "90625aa0",
   "metadata": {},
   "outputs": [],
   "source": [
    "# https://docs.python.org/3/library/re.html\n",
    "# https://docs.python.org/3/howto/regex.html#regex-howto\n",
    "import re"
   ]
  },
  {
   "cell_type": "code",
   "execution_count": 38,
   "id": "9e25762e",
   "metadata": {},
   "outputs": [
    {
     "name": "stdout",
     "output_type": "stream",
     "text": [
      "<re.Match object; span=(10, 15), match='teste'>\n",
      "['teste', 'teste']\n",
      "Este é um ABCD de expressões ABCD regulares.\n"
     ]
    }
   ],
   "source": [
    "string = 'Este é um teste de expressões teste regulares.'\n",
    "print(re.search(r'teste', string)) #achou?\n",
    "print(re.findall(r'teste', string)) #quantas ocorrencias achou?\n",
    "print(re.sub(r'teste', 'ABCD', string)) #substitui po ABCD"
   ]
  },
  {
   "cell_type": "code",
   "execution_count": 17,
   "id": "45c66491",
   "metadata": {},
   "outputs": [
    {
     "name": "stdout",
     "output_type": "stream",
     "text": [
      "<re.Match object; span=(10, 15), match='teste'>\n",
      "['teste', 'teste']\n",
      "Este é um DEF de expressões DEF regulares.\n"
     ]
    }
   ],
   "source": [
    "regexp = re.compile(r'teste')\n",
    "print(regexp.search(string))\n",
    "print(regexp.findall(string))\n",
    "print(regexp.sub('DEF', string))"
   ]
  },
  {
   "cell_type": "markdown",
   "id": "04d36c45",
   "metadata": {},
   "source": [
    "# aula 2"
   ]
  },
  {
   "cell_type": "code",
   "execution_count": 18,
   "id": "da8658e2",
   "metadata": {},
   "outputs": [],
   "source": [
    "texto = '''\n",
    "João trouxe    flores para sua amada namorada em 10 de janeiro de 1970,\n",
    "Maria era o nome dela.\n",
    "\n",
    "\n",
    "Foi um ano excelente na vida de joão. Teve 5 filhos, todos adultos atualmente.\n",
    "maria, hoje sua esposa, ainda faz aquele café com pão de queijo nas tardes de\n",
    "domingo. Também né! Sendo a boa mineira que é, nunca esquece seu famoso\n",
    "pão de queijo.\n",
    "Não canso de ouvir a Maria:\n",
    "\"Joooooooooãooooooo, o café tá prontinho aqui. Veeemm\"!\n",
    "'''"
   ]
  },
  {
   "cell_type": "code",
   "execution_count": 19,
   "id": "d4cd51e1",
   "metadata": {},
   "outputs": [
    {
     "name": "stdout",
     "output_type": "stream",
     "text": [
      "['João', 'Maria', 'adultos', 'Maria']\n",
      "['João', 'Maria', 'joão', 'Maria']\n",
      "['João', 'Maria', 'joão', 'maria', 'Maria']\n",
      "['maria']\n",
      "['João', 'Maria', 'joão', 'maria', 'Maria', 'ooão']\n",
      "['João', 'Maria', 'joão', 'maria', 'Maria']\n"
     ]
    }
   ],
   "source": [
    "print(re.findall(r'João|Maria|ad....s', texto))\n",
    "print(re.findall(r'João|joão|Maria', texto))\n",
    "print(re.findall(r'[Jj]oão|[Mm]aria', texto))\n",
    "print(re.findall(r'[a-z]aria', texto))\n",
    "print(re.findall(r'[a-zA-Z0-9_.]aria|[a-zA-Z0-9]oão', texto))\n",
    "print(re.findall(r'jOãO|mAriA', texto, flags=re.I))"
   ]
  },
  {
   "cell_type": "code",
   "execution_count": 20,
   "id": "94f27220",
   "metadata": {},
   "outputs": [],
   "source": [
    "# aula 3\n"
   ]
  },
  {
   "cell_type": "code",
   "execution_count": 21,
   "id": "c6da9b2f",
   "metadata": {},
   "outputs": [
    {
     "name": "stdout",
     "output_type": "stream",
     "text": [
      "['João', 'Maria', 'adultos', 'Maria']\n",
      "['João', 'Maria', 'joão', 'Maria']\n",
      "['João', 'Maria', 'joão', 'maria', 'Maria']\n",
      "['maria']\n",
      "['João', 'Maria', 'joão', 'maria', 'Maria', 'ooão']\n",
      "['João', 'Maria', 'joão', 'maria', 'Maria']\n"
     ]
    }
   ],
   "source": [
    "print(re.findall(r'João|Maria|ad....s', texto))\n",
    "print(re.findall(r'João|joão|Maria', texto))\n",
    "print(re.findall(r'[Jj]oão|[Mm]aria', texto))\n",
    "print(re.findall(r'[a-z]aria', texto))\n",
    "print(re.findall(r'[a-zA-Z0-9_.]aria|[a-zA-Z0-9]oão', texto))\n",
    "print(re.findall(r'jOãO|mAriA', texto, flags=re.I))"
   ]
  },
  {
   "cell_type": "code",
   "execution_count": 22,
   "id": "9bf85ff0",
   "metadata": {},
   "outputs": [
    {
     "name": "stdout",
     "output_type": "stream",
     "text": [
      "['João', 'joão', 'Joooooooooãooooooo']\n",
      "['João', 'joão', 'Joooooooooãooooooo']\n",
      "['Veeemm']\n"
     ]
    }
   ],
   "source": [
    "print(re.findall(r'j[o]+ão+', texto, flags=re.I))\n",
    "print(re.findall(r'jo{1,}ão{1,}', texto, flags=re.I))\n",
    "print(re.findall(r've{3}m{1,2}', texto, flags=re.I))\n",
    "# print(re.sub(r'jo{1,}ão{1,}', 'Felipe', texto, flags=re.I))"
   ]
  },
  {
   "cell_type": "code",
   "execution_count": 23,
   "id": "023bc5d9",
   "metadata": {},
   "outputs": [
    {
     "name": "stdout",
     "output_type": "stream",
     "text": [
      "['ama', 'amado']\n"
     ]
    }
   ],
   "source": [
    "texto2 = 'João ama ser amado'\n",
    "print(re.findall(r'ama[od]{0,2}', texto2, flags=re.I))"
   ]
  },
  {
   "cell_type": "markdown",
   "id": "a9e4203e",
   "metadata": {},
   "source": [
    "# aula 4"
   ]
  },
  {
   "cell_type": "markdown",
   "id": "fa1e216e",
   "metadata": {},
   "source": [
    "Meta caracteres: ^ $ ( )\n",
    "\n",
    "    0 ou n\n",
    "    1 ou n ? 0 ou 1\n",
    "\n"
   ]
  },
  {
   "cell_type": "code",
   "execution_count": 24,
   "id": "1d783d75",
   "metadata": {},
   "outputs": [],
   "source": [
    "texto = '''\n",
    "<p>Frase 1</p> <p>Eita</p> <p>Qualquer frase</p> <div>1</div> \n",
    "'''"
   ]
  },
  {
   "cell_type": "code",
   "execution_count": 25,
   "id": "2236f4d4",
   "metadata": {},
   "outputs": [
    {
     "name": "stdout",
     "output_type": "stream",
     "text": [
      "['<p>Frase 1</p> <p>Eita</p> <p>Qualquer frase</p> <div>1</div>']\n",
      "['<p>Frase 1</p>', '<p>Eita</p>', '<p>Qualquer frase</p>', '<div>1</div>']\n"
     ]
    }
   ],
   "source": [
    "print(re.findall(r'<[dpiv]{1,3}>.+<\\/[dpiv]{1,3}>', texto))\n",
    "print(re.findall(r'<[dpiv]{1,3}>.+?<\\/[dpiv]{1,3}>', texto))"
   ]
  },
  {
   "cell_type": "markdown",
   "id": "2dd4f66d",
   "metadata": {},
   "source": [
    "# aula 5\n"
   ]
  },
  {
   "cell_type": "markdown",
   "id": "55eb63b9",
   "metadata": {},
   "source": [
    "# Meta caracteres: ^ $\n",
    "# ()     \\1\n",
    "# () ()  \\1 \\2\n",
    "# (())()   \\1 \\2 \\3\n",
    "import re\n",
    "from pprint import pprint"
   ]
  },
  {
   "cell_type": "code",
   "execution_count": 26,
   "id": "f55f74f5",
   "metadata": {},
   "outputs": [],
   "source": [
    "texto = '''\n",
    "<p>Frase 1</p> <p>Eita</p> <p>Qualquer frase</p> <div>1</div> \n",
    "'''"
   ]
  },
  {
   "cell_type": "code",
   "execution_count": 27,
   "id": "696e9177",
   "metadata": {},
   "outputs": [
    {
     "name": "stdout",
     "output_type": "stream",
     "text": [
      "\n",
      "<p> MAIS Frase 1 COISAS </p> <p> MAIS Eita COISAS </p> <p> MAIS Qualquer frase COISAS </p> <div> MAIS 1 COISAS </div> \n",
      "\n"
     ]
    }
   ],
   "source": [
    "print(re.sub(r'(<(.+?)>)(.+?)(<\\/\\2>)', r'\\1 MAIS \\3 COISAS \\4', texto))"
   ]
  },
  {
   "cell_type": "code",
   "execution_count": 28,
   "id": "4960d6a9",
   "metadata": {},
   "outputs": [],
   "source": [
    "# for tag in tags:\n",
    "#     um, dois, tres = tag\n",
    "#     print(tres)"
   ]
  },
  {
   "cell_type": "code",
   "execution_count": null,
   "id": "b644d4db",
   "metadata": {},
   "outputs": [],
   "source": []
  }
 ],
 "metadata": {
  "kernelspec": {
   "display_name": "Python 3 (ipykernel)",
   "language": "python",
   "name": "python3"
  },
  "language_info": {
   "codemirror_mode": {
    "name": "ipython",
    "version": 3
   },
   "file_extension": ".py",
   "mimetype": "text/x-python",
   "name": "python",
   "nbconvert_exporter": "python",
   "pygments_lexer": "ipython3",
   "version": "3.9.7"
  }
 },
 "nbformat": 4,
 "nbformat_minor": 5
}
