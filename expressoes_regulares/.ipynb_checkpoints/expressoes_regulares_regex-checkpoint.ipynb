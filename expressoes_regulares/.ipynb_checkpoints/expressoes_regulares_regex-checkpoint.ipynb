{
 "cells": [
  {
   "cell_type": "markdown",
   "id": "33b01520",
   "metadata": {},
   "source": [
    "# aula 1\n",
    "acha uma palavra e substitui por outra\n"
   ]
  },
  {
   "cell_type": "code",
   "execution_count": 1,
   "id": "90625aa0",
   "metadata": {},
   "outputs": [],
   "source": [
    "# https://docs.python.org/3/library/re.html\n",
    "# https://docs.python.org/3/howto/regex.html#regex-howto\n",
    "import re"
   ]
  },
  {
   "cell_type": "code",
   "execution_count": 6,
   "id": "9e25762e",
   "metadata": {},
   "outputs": [
    {
     "name": "stdout",
     "output_type": "stream",
     "text": [
      "<re.Match object; span=(10, 15), match='teste'>\n",
      "['teste', 'teste']\n",
      "Este é um ABCD de expressões ABCD regulares.\n",
      "Este é um ABCD de expressões teste regulares.\n"
     ]
    }
   ],
   "source": [
    "string = 'Este é um teste de expressões teste regulares.'\n",
    "print(re.search(r'teste', string)) #achou?\n",
    "print(re.findall(r'teste', string)) #quantas ocorrencias achou?\n",
    "print(re.sub(r'teste', 'ABCD', string)) #substitui po ABCD\n",
    "print(re.sub(r'teste', 'ABCD', string, count=1)) #substitui somente a primeira ocorrencia ABCD\n"
   ]
  },
  {
   "cell_type": "code",
   "execution_count": 35,
   "id": "45c66491",
   "metadata": {},
   "outputs": [
    {
     "name": "stdout",
     "output_type": "stream",
     "text": [
      "<re.Match object; span=(10, 15), match='teste'>\n",
      "['teste', 'teste']\n",
      "Este é um DEF de expressões DEF regulares.\n"
     ]
    }
   ],
   "source": [
    "# A diferença deste exemplo para o de cima é que não preciso passar r'teste' toda vez,\n",
    "# ele já está compilado como regexp\n",
    "string = 'Este é um teste de expressões teste regulares.'\n",
    "regexp = re.compile(r'teste')\n",
    "print(regexp.search(string))\n",
    "print(regexp.findall(string))\n",
    "print(regexp.sub('DEF', string))"
   ]
  },
  {
   "cell_type": "code",
   "execution_count": null,
   "id": "a745da0c",
   "metadata": {},
   "outputs": [],
   "source": []
  },
  {
   "cell_type": "markdown",
   "id": "04d36c45",
   "metadata": {},
   "source": [
    "# aula 2"
   ]
  },
  {
   "cell_type": "code",
   "execution_count": 18,
   "id": "da8658e2",
   "metadata": {},
   "outputs": [],
   "source": [
    "texto = '''\n",
    "João trouxe    flores para sua amada namorada em 10 de janeiro de 1970,\n",
    "Maria era o nome dela.\n",
    "\n",
    "\n",
    "Foi um ano excelente na vida de joão. Teve 5 filhos, todos adultos atualmente.\n",
    "maria, hoje sua esposa, ainda faz aquele café com pão de queijo nas tardes de\n",
    "domingo. Também né! Sendo a boa mineira que é, nunca esquece seu famoso\n",
    "pão de queijo.\n",
    "Não canso de ouvir a Maria:\n",
    "\"Joooooooooãooooooo, o café tá prontinho aqui. Veeemm\"!\n",
    "'''"
   ]
  },
  {
   "cell_type": "code",
   "execution_count": 19,
   "id": "d4cd51e1",
   "metadata": {},
   "outputs": [
    {
     "name": "stdout",
     "output_type": "stream",
     "text": [
      "['João', 'Maria', 'adultos', 'Maria']\n",
      "['João', 'Maria', 'joão', 'Maria']\n",
      "['João', 'Maria', 'joão', 'maria', 'Maria']\n",
      "['maria']\n",
      "['João', 'Maria', 'joão', 'maria', 'Maria', 'ooão']\n",
      "['João', 'Maria', 'joão', 'maria', 'Maria']\n"
     ]
    }
   ],
   "source": [
    "#  | pipe indica or\n",
    "# . é uma letra coringa, ad.ltos retorna adultos e adaltos\n",
    "# [] também é ou [Jj]oão retorna joão com maiúscula e minúscula\n",
    "print(re.findall(r'João|Maria|ad....s', texto))\n",
    "print(re.findall(r'João|joão|Maria', texto))\n",
    "print(re.findall(r'[Jj]oão|[Mm]aria', texto))\n",
    "print(re.findall(r'[a-z]aria', texto))\n",
    "print(re.findall(r'[a-zA-Z0-9_.]aria|[a-zA-Z0-9]oão', texto))\n",
    "print(re.findall(r'jOãO|mAriA', texto, flags=re.I))"
   ]
  },
  {
   "cell_type": "code",
   "execution_count": 20,
   "id": "94f27220",
   "metadata": {},
   "outputs": [],
   "source": [
    "# aula 3\n"
   ]
  },
  {
   "cell_type": "code",
   "execution_count": 21,
   "id": "c6da9b2f",
   "metadata": {},
   "outputs": [
    {
     "name": "stdout",
     "output_type": "stream",
     "text": [
      "['João', 'Maria', 'adultos', 'Maria']\n",
      "['João', 'Maria', 'joão', 'Maria']\n",
      "['João', 'Maria', 'joão', 'maria', 'Maria']\n",
      "['maria']\n",
      "['João', 'Maria', 'joão', 'maria', 'Maria', 'ooão']\n",
      "['João', 'Maria', 'joão', 'maria', 'Maria']\n"
     ]
    }
   ],
   "source": [
    "print(re.findall(r'João|Maria|ad....s', texto))\n",
    "print(re.findall(r'João|joão|Maria', texto))\n",
    "print(re.findall(r'[Jj]oão|[Mm]aria', texto))\n",
    "print(re.findall(r'[a-z]aria', texto))\n",
    "print(re.findall(r'[a-zA-Z0-9_.]aria|[a-zA-Z0-9]oão', texto))\n",
    "print(re.findall(r'jOãO|mAriA', texto, flags=re.I))"
   ]
  },
  {
   "cell_type": "code",
   "execution_count": 22,
   "id": "9bf85ff0",
   "metadata": {},
   "outputs": [
    {
     "name": "stdout",
     "output_type": "stream",
     "text": [
      "['João', 'joão', 'Joooooooooãooooooo']\n",
      "['João', 'joão', 'Joooooooooãooooooo']\n",
      "['Veeemm']\n"
     ]
    }
   ],
   "source": [
    "print(re.findall(r'j[o]+ão+', texto, flags=re.I))\n",
    "print(re.findall(r'jo{1,}ão{1,}', texto, flags=re.I))\n",
    "print(re.findall(r've{3}m{1,2}', texto, flags=re.I))\n",
    "# print(re.sub(r'jo{1,}ão{1,}', 'Felipe', texto, flags=re.I))"
   ]
  },
  {
   "cell_type": "code",
   "execution_count": 34,
   "id": "023bc5d9",
   "metadata": {},
   "outputs": [
    {
     "name": "stdout",
     "output_type": "stream",
     "text": [
      "['ama', 'amado']\n"
     ]
    }
   ],
   "source": [
    "texto2 = 'João ama ser amado'\n",
    "print(re.findall(r'ama[od]{0,2}', texto2, flags=re.I))"
   ]
  },
  {
   "cell_type": "code",
   "execution_count": null,
   "id": "d6ebafdf",
   "metadata": {},
   "outputs": [],
   "source": []
  },
  {
   "cell_type": "markdown",
   "id": "a9e4203e",
   "metadata": {},
   "source": [
    "# aula 4"
   ]
  },
  {
   "cell_type": "markdown",
   "id": "fa1e216e",
   "metadata": {},
   "source": [
    "Meta caracteres: ^ $ ( )\n",
    "\n",
    "    0 ou n\n",
    "    1 ou n ? 0 ou 1\n",
    "\n"
   ]
  },
  {
   "cell_type": "code",
   "execution_count": 24,
   "id": "1d783d75",
   "metadata": {},
   "outputs": [],
   "source": [
    "texto = '''\n",
    "<p>Frase 1</p> <p>Eita</p> <p>Qualquer frase</p> <div>1</div> \n",
    "'''"
   ]
  },
  {
   "cell_type": "code",
   "execution_count": 33,
   "id": "2236f4d4",
   "metadata": {},
   "outputs": [
    {
     "name": "stdout",
     "output_type": "stream",
     "text": [
      "[]\n",
      "[]\n"
     ]
    }
   ],
   "source": [
    "print(re.findall(r'<[dpiv]{1,3}>.+<\\/[dpiv]{1,3}>', texto))\n",
    "print(re.findall(r'<[dpiv]{1,3}>.+?<\\/[dpiv]{1,3}>', texto))"
   ]
  },
  {
   "cell_type": "code",
   "execution_count": null,
   "id": "5d18c45e",
   "metadata": {},
   "outputs": [],
   "source": []
  },
  {
   "cell_type": "markdown",
   "id": "2dd4f66d",
   "metadata": {},
   "source": [
    "# aula 5\n"
   ]
  },
  {
   "cell_type": "markdown",
   "id": "55eb63b9",
   "metadata": {},
   "source": [
    "# Meta caracteres: ^ $\n",
    "# ()     \\1\n",
    "# () ()  \\1 \\2\n",
    "# (())()   \\1 \\2 \\3\n",
    "import re\n",
    "from pprint import pprint"
   ]
  },
  {
   "cell_type": "code",
   "execution_count": 26,
   "id": "f55f74f5",
   "metadata": {},
   "outputs": [],
   "source": [
    "texto = '''\n",
    "<p>Frase 1</p> <p>Eita</p> <p>Qualquer frase</p> <div>1</div> \n",
    "'''"
   ]
  },
  {
   "cell_type": "code",
   "execution_count": 27,
   "id": "696e9177",
   "metadata": {},
   "outputs": [
    {
     "name": "stdout",
     "output_type": "stream",
     "text": [
      "\n",
      "<p> MAIS Frase 1 COISAS </p> <p> MAIS Eita COISAS </p> <p> MAIS Qualquer frase COISAS </p> <div> MAIS 1 COISAS </div> \n",
      "\n"
     ]
    }
   ],
   "source": [
    "print(re.sub(r'(<(.+?)>)(.+?)(<\\/\\2>)', r'\\1 MAIS \\3 COISAS \\4', texto))"
   ]
  },
  {
   "cell_type": "code",
   "execution_count": 32,
   "id": "4960d6a9",
   "metadata": {},
   "outputs": [],
   "source": [
    "# for tag in tags:\n",
    "#     um, dois, tres = tag\n",
    "#     print(tres)"
   ]
  },
  {
   "cell_type": "code",
   "execution_count": null,
   "id": "48a113e2",
   "metadata": {},
   "outputs": [],
   "source": []
  },
  {
   "cell_type": "markdown",
   "id": "21c6d4de",
   "metadata": {},
   "source": [
    "# aula 6\n",
    "Meta caracteres: ^ -> começa com $ -> termina com [^a-z] -> Negação"
   ]
  },
  {
   "cell_type": "code",
   "execution_count": null,
   "id": "ecdfb074",
   "metadata": {},
   "outputs": [],
   "source": []
  },
  {
   "cell_type": "code",
   "execution_count": null,
   "id": "bcb4b8a0",
   "metadata": {},
   "outputs": [],
   "source": [
    "cpf = '147.852.963-12'\n",
    "print(re.findall(r'^((?:[0-9]{3}\\.){2}[0-9]{3}-[0-9]{2})$', cpf))\n",
    "print(re.findall(r'[^0-9a-zA-Z.-]+', cpf))"
   ]
  },
  {
   "cell_type": "code",
   "execution_count": null,
   "id": "dbe2450c",
   "metadata": {},
   "outputs": [],
   "source": []
  },
  {
   "cell_type": "markdown",
   "id": "46c7f4c8",
   "metadata": {},
   "source": [
    "# aula 7"
   ]
  },
  {
   "cell_type": "code",
   "execution_count": 8,
   "id": "f4c63cf9",
   "metadata": {},
   "outputs": [],
   "source": [
    "# \\w -> [a-zA-Z0-9À-ú_]\n",
    "# \\w -> [a-zA-Z0-9_] -> re.A\n",
    "# \\W -> [^a-zA-Z0-9À-ú_]\n",
    "# \\W -> [^a-zA-Z0-9_] -> re.A\n",
    "# \\d -> [0-9]\n",
    "# \\D -> [^0-9]\n",
    "# \\s -> [ \\r\\n\\f\\n\\t]\n",
    "# \\S -> [^ \\r\\n\\f\\n\\t]\n",
    "# \\b -> borda\n",
    "# \\B -> não borda\n",
    "import re"
   ]
  },
  {
   "cell_type": "code",
   "execution_count": 9,
   "id": "cc1ef169",
   "metadata": {},
   "outputs": [],
   "source": [
    "texto = '''\n",
    "João trouxe    flores para sua amada namorada em 10 de janeiro de 1970,\n",
    "Maria era o nome dela.\n",
    "\n",
    "\n",
    "Foi um ano excelente na vida de joão. Teve_ALGO 5 filhos, todos adultos atualmente.\n",
    "maria, hoje sua esposa, ainda faz aquele café com pão de queijo nas tardes de\n",
    "domingo. Também né! Sendo a boa mineira que é, nunca esquece seu famoso\n",
    "pão de queijo.\n",
    "Não canso de ouvir a Maria:\n",
    "\"Joooooooooãooooooo, o café tá prontinho aqui. Veeemm\"!\n",
    "'''\n",
    "# print(re.findall(r'[a-z]+', texto, flags=re.I))\n",
    "# print(re.findall(r'[a-zA-Z]+', texto))\n",
    "# print(re.findall(r'[a-zA-Z0-9]+', texto))\n",
    "# print(re.findall(r'[a-zA-Z0-9À-ú]+', texto))\n",
    "# print(re.findall(r'\\w+', texto, flags=re.I))\n",
    "# print(re.findall(r'\\W+', texto, flags=re.I))\n",
    "# print(re.findall(r'\\d+', texto, flags=re.I))\n",
    "# print(re.findall(r'\\D+', texto, flags=re.I))\n",
    "# print(re.findall(r'\\s+', texto, flags=re.I))\n",
    "# print(re.findall(r'\\S+', texto, flags=re.I))\n",
    "# print(re.findall(r'\\be\\w+', texto, flags=re.I))\n",
    "# print(re.findall(r'\\w+e\\b', texto, flags=re.I))\n",
    "# print(re.findall(r'\\b\\w{4}\\b', texto, flags=re.I))\n",
    "# print(re.findall(r'\\w{4}', texto, flags=re.I))\n",
    "# print(re.findall(r'flores\\B', texto, flags=re.I))"
   ]
  },
  {
   "cell_type": "code",
   "execution_count": null,
   "id": "fc903fae",
   "metadata": {},
   "outputs": [],
   "source": []
  },
  {
   "cell_type": "markdown",
   "id": "acf1c9a2",
   "metadata": {},
   "source": [
    "# aula 8"
   ]
  },
  {
   "cell_type": "code",
   "execution_count": 10,
   "id": "1f68b6dc",
   "metadata": {},
   "outputs": [],
   "source": [
    "# re.A -> ASCII\n",
    "# re.I -> IGNORECASE\n",
    "# re.M -> Multiline -> ^ $\n",
    "# re.S -> Dotall \\n\n",
    "import re"
   ]
  },
  {
   "cell_type": "code",
   "execution_count": 11,
   "id": "edf8fa93",
   "metadata": {},
   "outputs": [],
   "source": [
    "texto = '''\n",
    "131.768.460-53\n",
    "055.123.060-50\n",
    "955.123.060-90\n",
    "'''"
   ]
  },
  {
   "cell_type": "code",
   "execution_count": 12,
   "id": "5a78496f",
   "metadata": {},
   "outputs": [
    {
     "name": "stdout",
     "output_type": "stream",
     "text": [
      "['131.768.460-53', '055.123.060-50', '955.123.060-90']\n"
     ]
    }
   ],
   "source": [
    "print(re.findall(r'^\\d{3}\\.\\d{3}\\.\\d{3}\\-\\d{2}$', texto, flags=re.M))"
   ]
  },
  {
   "cell_type": "code",
   "execution_count": 31,
   "id": "78bc6bcb",
   "metadata": {},
   "outputs": [
    {
     "name": "stdout",
     "output_type": "stream",
     "text": [
      "['O João gosta de folia \\nE adora ser amado']\n"
     ]
    }
   ],
   "source": [
    "texto2 = '''O João gosta de folia \n",
    "E adora ser amado'''\n",
    "print(re.findall(r'^o.*o$', texto2, flags=re.I | re.S))"
   ]
  },
  {
   "cell_type": "code",
   "execution_count": null,
   "id": "708d28e0",
   "metadata": {},
   "outputs": [],
   "source": []
  },
  {
   "cell_type": "markdown",
   "id": "78293051",
   "metadata": {},
   "source": [
    "# aula 9"
   ]
  },
  {
   "cell_type": "code",
   "execution_count": 15,
   "id": "3a4dbc4c",
   "metadata": {},
   "outputs": [],
   "source": [
    "import re\n",
    "from pprint import pprint"
   ]
  },
  {
   "cell_type": "code",
   "execution_count": 16,
   "id": "c5d4bcdc",
   "metadata": {},
   "outputs": [],
   "source": [
    "texto = '''\n",
    "ONLINE  192.168.0.1 GHIJK active\n",
    "OFFLINE  192.168.0.2 GHIJK inactive\n",
    "OFFLINE  192.168.0.3 GHIJK active\n",
    "ONLINE  192.168.0.4 GHIJK active\n",
    "ONLINE  192.168.0.5 GHIJK inactive\n",
    "OFFLINE  192.168.0.6 GHIJK active\n",
    "'''"
   ]
  },
  {
   "cell_type": "code",
   "execution_count": 18,
   "id": "7d7ab180",
   "metadata": {},
   "outputs": [
    {
     "name": "stdout",
     "output_type": "stream",
     "text": [
      "['192.168.0.1', '192.168.0.3', '192.168.0.4', '192.168.0.6']\n"
     ]
    }
   ],
   "source": [
    "#Positive lookahead\n",
    "pprint(re.findall(r'\\w+\\s+(\\d+\\.\\d+\\.\\d+\\.\\d+)\\s+\\w+\\s+(?=active)', texto))"
   ]
  },
  {
   "cell_type": "code",
   "execution_count": 20,
   "id": "96016a1b",
   "metadata": {},
   "outputs": [
    {
     "name": "stdout",
     "output_type": "stream",
     "text": [
      "['192.168.0.2', '192.168.0.5']\n"
     ]
    }
   ],
   "source": [
    "#Negative lookahead\n",
    "pprint(re.findall(r'\\w+\\s+(\\d+\\.\\d+\\.\\d+\\.\\d+)\\s+\\w+\\s+(?!active)', texto))"
   ]
  },
  {
   "cell_type": "code",
   "execution_count": 21,
   "id": "1fba293b",
   "metadata": {},
   "outputs": [
    {
     "name": "stdout",
     "output_type": "stream",
     "text": [
      "['ONLINE  192.168.0.1 GHIJK active',\n",
      " 'OFFLINE  192.168.0.3 GHIJK active',\n",
      " 'ONLINE  192.168.0.4 GHIJK active',\n",
      " 'OFFLINE  192.168.0.6 GHIJK active']\n"
     ]
    }
   ],
   "source": [
    "#Positive lookahead\n",
    "pprint(re.findall(r'(?=.*[^in]active).+', texto))"
   ]
  },
  {
   "cell_type": "code",
   "execution_count": 22,
   "id": "54f8a89e",
   "metadata": {},
   "outputs": [
    {
     "name": "stdout",
     "output_type": "stream",
     "text": [
      "['192.168.0.1', '192.168.0.4', '192.168.0.5']\n",
      "['192.168.0.2', '192.168.0.3', '192.168.0.6']\n"
     ]
    }
   ],
   "source": [
    "#Positive lookbehind\n",
    "pprint(re.findall(r'\\w+(?<=ONLINE)\\s+(\\d+\\.\\d+\\.\\d+\\.\\d+)\\s+\\w+\\s+\\w+', texto))\n",
    "#Negative lookbehind\n",
    "pprint(re.findall(r'\\w+(?<!ONLINE)\\s+(\\d+\\.\\d+\\.\\d+\\.\\d+)\\s+\\w+\\s+\\w+', texto))"
   ]
  },
  {
   "cell_type": "code",
   "execution_count": 23,
   "id": "27dcb0e8",
   "metadata": {},
   "outputs": [
    {
     "name": "stdout",
     "output_type": "stream",
     "text": [
      "['OFFLINE  192.168.0.2 GHIJK inactive',\n",
      " 'OFFLINE  192.168.0.3 GHIJK active',\n",
      " 'OFFLINE  192.168.0.6 GHIJK active']\n",
      "['ONLINE  192.168.0.1 GHIJK active',\n",
      " 'ONLINE  192.168.0.4 GHIJK active',\n",
      " 'ONLINE  192.168.0.5 GHIJK inactive']\n"
     ]
    }
   ],
   "source": [
    "#Positive lookbehind\n",
    "pprint(re.findall(r'\\w+(?<=OFFLINE)\\s+\\d+\\.\\d+\\.\\d+\\.\\d+\\s+\\w+\\s+\\w+', texto))\n",
    "#Negative lookbehind\n",
    "pprint(re.findall(r'\\w+(?<!OFFLINE)\\s+\\d+\\.\\d+\\.\\d+\\.\\d+\\s+\\w+\\s+\\w+', texto))"
   ]
  },
  {
   "cell_type": "code",
   "execution_count": null,
   "id": "c73e1ad7",
   "metadata": {},
   "outputs": [],
   "source": []
  },
  {
   "cell_type": "markdown",
   "id": "2c1b249d",
   "metadata": {},
   "source": [
    "# aula 10"
   ]
  },
  {
   "cell_type": "code",
   "execution_count": 27,
   "id": "f8a97eed",
   "metadata": {},
   "outputs": [],
   "source": [
    "import re\n",
    "# 0.0.0.0 255.255.255.255\n",
    "# 025.258.963-10 02525896310"
   ]
  },
  {
   "cell_type": "code",
   "execution_count": 28,
   "id": "edd1be0c",
   "metadata": {},
   "outputs": [],
   "source": [
    "# Teste essa expressão\n",
    "# em https://regex101.com/r/lWVPOr/1\n",
    "cpf = '025.258.963-10'\n",
    "cpf_reg_exp = re.compile(r'^\\d{3}\\.\\d{3}\\.\\d{3}-\\d{2}$', flags=0)\n",
    "# print(cpf_reg_exp.search(cpf))"
   ]
  },
  {
   "cell_type": "code",
   "execution_count": 29,
   "id": "12d7b24c",
   "metadata": {},
   "outputs": [],
   "source": [
    "# Teste essa expressão\n",
    "# em https://regex101.com/r/XDyL7q/1\n",
    "ip_reg_exp = re.compile(\n",
    "    r'^'  # Começa com\n",
    "    r'(?:'\n",
    "    r'(?:25[0-5]|2[0-4][0-9]|1[0-9]{2}|[1-9][0-9]|[0-9])\\.'\n",
    "    r'){3}'  # Sequência de 3 digitos e um ponto repete 3x\n",
    "    r'(?:25[0-5]|2[0-4][0-9]|1[0-9]{2}|[1-9][0-9]|[0-9])'\n",
    "    r'$',  # Termina com\n",
    "    flags=0\n",
    ")"
   ]
  },
  {
   "cell_type": "code",
   "execution_count": 30,
   "id": "9a24ea7f",
   "metadata": {},
   "outputs": [
    {
     "name": "stdout",
     "output_type": "stream",
     "text": [
      "0.0.0.0 ['0.0.0.0']\n",
      "1.1.1.1 ['1.1.1.1']\n",
      "2.2.2.2 ['2.2.2.2']\n",
      "3.3.3.3 ['3.3.3.3']\n",
      "4.4.4.4 ['4.4.4.4']\n",
      "5.5.5.5 ['5.5.5.5']\n",
      "6.6.6.6 ['6.6.6.6']\n",
      "7.7.7.7 ['7.7.7.7']\n",
      "8.8.8.8 ['8.8.8.8']\n",
      "9.9.9.9 ['9.9.9.9']\n",
      "10.10.10.10 ['10.10.10.10']\n",
      "11.11.11.11 ['11.11.11.11']\n",
      "12.12.12.12 ['12.12.12.12']\n",
      "13.13.13.13 ['13.13.13.13']\n",
      "14.14.14.14 ['14.14.14.14']\n",
      "15.15.15.15 ['15.15.15.15']\n",
      "16.16.16.16 ['16.16.16.16']\n",
      "17.17.17.17 ['17.17.17.17']\n",
      "18.18.18.18 ['18.18.18.18']\n",
      "19.19.19.19 ['19.19.19.19']\n",
      "20.20.20.20 ['20.20.20.20']\n",
      "21.21.21.21 ['21.21.21.21']\n",
      "22.22.22.22 ['22.22.22.22']\n",
      "23.23.23.23 ['23.23.23.23']\n",
      "24.24.24.24 ['24.24.24.24']\n",
      "25.25.25.25 ['25.25.25.25']\n",
      "26.26.26.26 ['26.26.26.26']\n",
      "27.27.27.27 ['27.27.27.27']\n",
      "28.28.28.28 ['28.28.28.28']\n",
      "29.29.29.29 ['29.29.29.29']\n",
      "30.30.30.30 ['30.30.30.30']\n",
      "31.31.31.31 ['31.31.31.31']\n",
      "32.32.32.32 ['32.32.32.32']\n",
      "33.33.33.33 ['33.33.33.33']\n",
      "34.34.34.34 ['34.34.34.34']\n",
      "35.35.35.35 ['35.35.35.35']\n",
      "36.36.36.36 ['36.36.36.36']\n",
      "37.37.37.37 ['37.37.37.37']\n",
      "38.38.38.38 ['38.38.38.38']\n",
      "39.39.39.39 ['39.39.39.39']\n",
      "40.40.40.40 ['40.40.40.40']\n",
      "41.41.41.41 ['41.41.41.41']\n",
      "42.42.42.42 ['42.42.42.42']\n",
      "43.43.43.43 ['43.43.43.43']\n",
      "44.44.44.44 ['44.44.44.44']\n",
      "45.45.45.45 ['45.45.45.45']\n",
      "46.46.46.46 ['46.46.46.46']\n",
      "47.47.47.47 ['47.47.47.47']\n",
      "48.48.48.48 ['48.48.48.48']\n",
      "49.49.49.49 ['49.49.49.49']\n",
      "50.50.50.50 ['50.50.50.50']\n",
      "51.51.51.51 ['51.51.51.51']\n",
      "52.52.52.52 ['52.52.52.52']\n",
      "53.53.53.53 ['53.53.53.53']\n",
      "54.54.54.54 ['54.54.54.54']\n",
      "55.55.55.55 ['55.55.55.55']\n",
      "56.56.56.56 ['56.56.56.56']\n",
      "57.57.57.57 ['57.57.57.57']\n",
      "58.58.58.58 ['58.58.58.58']\n",
      "59.59.59.59 ['59.59.59.59']\n",
      "60.60.60.60 ['60.60.60.60']\n",
      "61.61.61.61 ['61.61.61.61']\n",
      "62.62.62.62 ['62.62.62.62']\n",
      "63.63.63.63 ['63.63.63.63']\n",
      "64.64.64.64 ['64.64.64.64']\n",
      "65.65.65.65 ['65.65.65.65']\n",
      "66.66.66.66 ['66.66.66.66']\n",
      "67.67.67.67 ['67.67.67.67']\n",
      "68.68.68.68 ['68.68.68.68']\n",
      "69.69.69.69 ['69.69.69.69']\n",
      "70.70.70.70 ['70.70.70.70']\n",
      "71.71.71.71 ['71.71.71.71']\n",
      "72.72.72.72 ['72.72.72.72']\n",
      "73.73.73.73 ['73.73.73.73']\n",
      "74.74.74.74 ['74.74.74.74']\n",
      "75.75.75.75 ['75.75.75.75']\n",
      "76.76.76.76 ['76.76.76.76']\n",
      "77.77.77.77 ['77.77.77.77']\n",
      "78.78.78.78 ['78.78.78.78']\n",
      "79.79.79.79 ['79.79.79.79']\n",
      "80.80.80.80 ['80.80.80.80']\n",
      "81.81.81.81 ['81.81.81.81']\n",
      "82.82.82.82 ['82.82.82.82']\n",
      "83.83.83.83 ['83.83.83.83']\n",
      "84.84.84.84 ['84.84.84.84']\n",
      "85.85.85.85 ['85.85.85.85']\n",
      "86.86.86.86 ['86.86.86.86']\n",
      "87.87.87.87 ['87.87.87.87']\n",
      "88.88.88.88 ['88.88.88.88']\n",
      "89.89.89.89 ['89.89.89.89']\n",
      "90.90.90.90 ['90.90.90.90']\n",
      "91.91.91.91 ['91.91.91.91']\n",
      "92.92.92.92 ['92.92.92.92']\n",
      "93.93.93.93 ['93.93.93.93']\n",
      "94.94.94.94 ['94.94.94.94']\n",
      "95.95.95.95 ['95.95.95.95']\n",
      "96.96.96.96 ['96.96.96.96']\n",
      "97.97.97.97 ['97.97.97.97']\n",
      "98.98.98.98 ['98.98.98.98']\n",
      "99.99.99.99 ['99.99.99.99']\n",
      "100.100.100.100 ['100.100.100.100']\n",
      "101.101.101.101 ['101.101.101.101']\n",
      "102.102.102.102 ['102.102.102.102']\n",
      "103.103.103.103 ['103.103.103.103']\n",
      "104.104.104.104 ['104.104.104.104']\n",
      "105.105.105.105 ['105.105.105.105']\n",
      "106.106.106.106 ['106.106.106.106']\n",
      "107.107.107.107 ['107.107.107.107']\n",
      "108.108.108.108 ['108.108.108.108']\n",
      "109.109.109.109 ['109.109.109.109']\n",
      "110.110.110.110 ['110.110.110.110']\n",
      "111.111.111.111 ['111.111.111.111']\n",
      "112.112.112.112 ['112.112.112.112']\n",
      "113.113.113.113 ['113.113.113.113']\n",
      "114.114.114.114 ['114.114.114.114']\n",
      "115.115.115.115 ['115.115.115.115']\n",
      "116.116.116.116 ['116.116.116.116']\n",
      "117.117.117.117 ['117.117.117.117']\n",
      "118.118.118.118 ['118.118.118.118']\n",
      "119.119.119.119 ['119.119.119.119']\n",
      "120.120.120.120 ['120.120.120.120']\n",
      "121.121.121.121 ['121.121.121.121']\n",
      "122.122.122.122 ['122.122.122.122']\n",
      "123.123.123.123 ['123.123.123.123']\n",
      "124.124.124.124 ['124.124.124.124']\n",
      "125.125.125.125 ['125.125.125.125']\n",
      "126.126.126.126 ['126.126.126.126']\n",
      "127.127.127.127 ['127.127.127.127']\n",
      "128.128.128.128 ['128.128.128.128']\n",
      "129.129.129.129 ['129.129.129.129']\n",
      "130.130.130.130 ['130.130.130.130']\n",
      "131.131.131.131 ['131.131.131.131']\n",
      "132.132.132.132 ['132.132.132.132']\n",
      "133.133.133.133 ['133.133.133.133']\n",
      "134.134.134.134 ['134.134.134.134']\n",
      "135.135.135.135 ['135.135.135.135']\n",
      "136.136.136.136 ['136.136.136.136']\n",
      "137.137.137.137 ['137.137.137.137']\n",
      "138.138.138.138 ['138.138.138.138']\n",
      "139.139.139.139 ['139.139.139.139']\n",
      "140.140.140.140 ['140.140.140.140']\n",
      "141.141.141.141 ['141.141.141.141']\n",
      "142.142.142.142 ['142.142.142.142']\n",
      "143.143.143.143 ['143.143.143.143']\n",
      "144.144.144.144 ['144.144.144.144']\n",
      "145.145.145.145 ['145.145.145.145']\n",
      "146.146.146.146 ['146.146.146.146']\n",
      "147.147.147.147 ['147.147.147.147']\n",
      "148.148.148.148 ['148.148.148.148']\n",
      "149.149.149.149 ['149.149.149.149']\n",
      "150.150.150.150 ['150.150.150.150']\n",
      "151.151.151.151 ['151.151.151.151']\n",
      "152.152.152.152 ['152.152.152.152']\n",
      "153.153.153.153 ['153.153.153.153']\n",
      "154.154.154.154 ['154.154.154.154']\n",
      "155.155.155.155 ['155.155.155.155']\n",
      "156.156.156.156 ['156.156.156.156']\n",
      "157.157.157.157 ['157.157.157.157']\n",
      "158.158.158.158 ['158.158.158.158']\n",
      "159.159.159.159 ['159.159.159.159']\n",
      "160.160.160.160 ['160.160.160.160']\n",
      "161.161.161.161 ['161.161.161.161']\n",
      "162.162.162.162 ['162.162.162.162']\n",
      "163.163.163.163 ['163.163.163.163']\n",
      "164.164.164.164 ['164.164.164.164']\n",
      "165.165.165.165 ['165.165.165.165']\n",
      "166.166.166.166 ['166.166.166.166']\n",
      "167.167.167.167 ['167.167.167.167']\n",
      "168.168.168.168 ['168.168.168.168']\n",
      "169.169.169.169 ['169.169.169.169']\n",
      "170.170.170.170 ['170.170.170.170']\n",
      "171.171.171.171 ['171.171.171.171']\n",
      "172.172.172.172 ['172.172.172.172']\n",
      "173.173.173.173 ['173.173.173.173']\n",
      "174.174.174.174 ['174.174.174.174']\n",
      "175.175.175.175 ['175.175.175.175']\n",
      "176.176.176.176 ['176.176.176.176']\n",
      "177.177.177.177 ['177.177.177.177']\n",
      "178.178.178.178 ['178.178.178.178']\n",
      "179.179.179.179 ['179.179.179.179']\n",
      "180.180.180.180 ['180.180.180.180']\n",
      "181.181.181.181 ['181.181.181.181']\n",
      "182.182.182.182 ['182.182.182.182']\n",
      "183.183.183.183 ['183.183.183.183']\n",
      "184.184.184.184 ['184.184.184.184']\n",
      "185.185.185.185 ['185.185.185.185']\n",
      "186.186.186.186 ['186.186.186.186']\n",
      "187.187.187.187 ['187.187.187.187']\n",
      "188.188.188.188 ['188.188.188.188']\n",
      "189.189.189.189 ['189.189.189.189']\n",
      "190.190.190.190 ['190.190.190.190']\n",
      "191.191.191.191 ['191.191.191.191']\n",
      "192.192.192.192 ['192.192.192.192']\n",
      "193.193.193.193 ['193.193.193.193']\n",
      "194.194.194.194 ['194.194.194.194']\n",
      "195.195.195.195 ['195.195.195.195']\n",
      "196.196.196.196 ['196.196.196.196']\n",
      "197.197.197.197 ['197.197.197.197']\n",
      "198.198.198.198 ['198.198.198.198']\n",
      "199.199.199.199 ['199.199.199.199']\n",
      "200.200.200.200 ['200.200.200.200']\n",
      "201.201.201.201 ['201.201.201.201']\n",
      "202.202.202.202 ['202.202.202.202']\n",
      "203.203.203.203 ['203.203.203.203']\n",
      "204.204.204.204 ['204.204.204.204']\n",
      "205.205.205.205 ['205.205.205.205']\n",
      "206.206.206.206 ['206.206.206.206']\n",
      "207.207.207.207 ['207.207.207.207']\n",
      "208.208.208.208 ['208.208.208.208']\n",
      "209.209.209.209 ['209.209.209.209']\n",
      "210.210.210.210 ['210.210.210.210']\n",
      "211.211.211.211 ['211.211.211.211']\n",
      "212.212.212.212 ['212.212.212.212']\n",
      "213.213.213.213 ['213.213.213.213']\n",
      "214.214.214.214 ['214.214.214.214']\n",
      "215.215.215.215 ['215.215.215.215']\n",
      "216.216.216.216 ['216.216.216.216']\n",
      "217.217.217.217 ['217.217.217.217']\n",
      "218.218.218.218 ['218.218.218.218']\n",
      "219.219.219.219 ['219.219.219.219']\n",
      "220.220.220.220 ['220.220.220.220']\n",
      "221.221.221.221 ['221.221.221.221']\n",
      "222.222.222.222 ['222.222.222.222']\n",
      "223.223.223.223 ['223.223.223.223']\n",
      "224.224.224.224 ['224.224.224.224']\n",
      "225.225.225.225 ['225.225.225.225']\n",
      "226.226.226.226 ['226.226.226.226']\n",
      "227.227.227.227 ['227.227.227.227']\n",
      "228.228.228.228 ['228.228.228.228']\n",
      "229.229.229.229 ['229.229.229.229']\n",
      "230.230.230.230 ['230.230.230.230']\n",
      "231.231.231.231 ['231.231.231.231']\n",
      "232.232.232.232 ['232.232.232.232']\n",
      "233.233.233.233 ['233.233.233.233']\n",
      "234.234.234.234 ['234.234.234.234']\n",
      "235.235.235.235 ['235.235.235.235']\n",
      "236.236.236.236 ['236.236.236.236']\n",
      "237.237.237.237 ['237.237.237.237']\n",
      "238.238.238.238 ['238.238.238.238']\n",
      "239.239.239.239 ['239.239.239.239']\n",
      "240.240.240.240 ['240.240.240.240']\n",
      "241.241.241.241 ['241.241.241.241']\n",
      "242.242.242.242 ['242.242.242.242']\n",
      "243.243.243.243 ['243.243.243.243']\n",
      "244.244.244.244 ['244.244.244.244']\n",
      "245.245.245.245 ['245.245.245.245']\n",
      "246.246.246.246 ['246.246.246.246']\n",
      "247.247.247.247 ['247.247.247.247']\n",
      "248.248.248.248 ['248.248.248.248']\n",
      "249.249.249.249 ['249.249.249.249']\n",
      "250.250.250.250 ['250.250.250.250']\n",
      "251.251.251.251 ['251.251.251.251']\n",
      "252.252.252.252 ['252.252.252.252']\n",
      "253.253.253.253 ['253.253.253.253']\n",
      "254.254.254.254 ['254.254.254.254']\n",
      "255.255.255.255 ['255.255.255.255']\n",
      "256.256.256.256 []\n",
      "257.257.257.257 []\n",
      "258.258.258.258 []\n",
      "259.259.259.259 []\n",
      "260.260.260.260 []\n",
      "261.261.261.261 []\n",
      "262.262.262.262 []\n",
      "263.263.263.263 []\n",
      "264.264.264.264 []\n",
      "265.265.265.265 []\n",
      "266.266.266.266 []\n",
      "267.267.267.267 []\n",
      "268.268.268.268 []\n",
      "269.269.269.269 []\n",
      "270.270.270.270 []\n",
      "271.271.271.271 []\n",
      "272.272.272.272 []\n",
      "273.273.273.273 []\n",
      "274.274.274.274 []\n",
      "275.275.275.275 []\n",
      "276.276.276.276 []\n",
      "277.277.277.277 []\n",
      "278.278.278.278 []\n",
      "279.279.279.279 []\n",
      "280.280.280.280 []\n",
      "281.281.281.281 []\n",
      "282.282.282.282 []\n",
      "283.283.283.283 []\n",
      "284.284.284.284 []\n",
      "285.285.285.285 []\n",
      "286.286.286.286 []\n",
      "287.287.287.287 []\n",
      "288.288.288.288 []\n",
      "289.289.289.289 []\n",
      "290.290.290.290 []\n",
      "291.291.291.291 []\n",
      "292.292.292.292 []\n",
      "293.293.293.293 []\n",
      "294.294.294.294 []\n",
      "295.295.295.295 []\n",
      "296.296.296.296 []\n",
      "297.297.297.297 []\n",
      "298.298.298.298 []\n",
      "299.299.299.299 []\n",
      "300.300.300.300 []\n"
     ]
    }
   ],
   "source": [
    "for i in range(301):\n",
    "    ip = f'{i}.{i}.{i}.{i}'\n",
    "\n",
    "    print(ip, ip_reg_exp.findall(ip))"
   ]
  },
  {
   "cell_type": "code",
   "execution_count": null,
   "id": "83e596f6",
   "metadata": {},
   "outputs": [],
   "source": []
  },
  {
   "cell_type": "markdown",
   "id": "9cff3911",
   "metadata": {},
   "source": [
    "# aula 11\n",
    "https://regex101.com/r/0OM1oz/1/\n"
   ]
  },
  {
   "cell_type": "code",
   "execution_count": 36,
   "id": "b7f5fcf3",
   "metadata": {},
   "outputs": [],
   "source": [
    "import re\n",
    "from pprint import pprint"
   ]
  },
  {
   "cell_type": "code",
   "execution_count": 37,
   "id": "7303775f",
   "metadata": {},
   "outputs": [],
   "source": [
    "regex = re.compile(\n",
    "    r\"^(?!(\\d)\\1{2}\\.\\1{3}\\.\\1{3}-\\1{2})(\\d{3}\\.\\d{3}\\.\\d{3}-\\d{2})$\",\n",
    "    flags=re.MULTILINE\n",
    ")"
   ]
  },
  {
   "cell_type": "code",
   "execution_count": 38,
   "id": "4cfaed74",
   "metadata": {},
   "outputs": [],
   "source": [
    "test_str = (\"698.547.520-54\\n\"\n",
    "            \"060.235.190-16\\n\"\n",
    "            \"683.134.960-96\\n\"\n",
    "            \"899.344.730-62\\n\"\n",
    "            \"103.778.870-21\\n\"\n",
    "            \"721.478.580-30\\n\"\n",
    "            \"366.310.090-14\\n\"\n",
    "            \"794.289.350-26\\n\"\n",
    "            \"190.259.410-01\\n\"\n",
    "            \"000.000.000-01\\n\"\n",
    "            \"900.000.000-00\\n\\n\"\n",
    "            \"000.000.000-00\\n\"\n",
    "            \"111.111.111-11\\n\"\n",
    "            \"222.222.222-22\\n\"\n",
    "            \"333.333.333-33\\n\"\n",
    "            \"444.444.444-44\\n\"\n",
    "            \"555.555.555-55\\n\"\n",
    "            \"666.666.666-66\\n\"\n",
    "            \"777.777.777-77\\n\"\n",
    "            \"888.888.888-88\\n\"\n",
    "            \"999.999.999-99\\n\\n\"\n",
    "            )"
   ]
  },
  {
   "cell_type": "code",
   "execution_count": 39,
   "id": "039e7af3",
   "metadata": {},
   "outputs": [
    {
     "name": "stdout",
     "output_type": "stream",
     "text": [
      "[('6', '698.547.520-54'),\n",
      " ('0', '060.235.190-16'),\n",
      " ('6', '683.134.960-96'),\n",
      " ('8', '899.344.730-62'),\n",
      " ('1', '103.778.870-21'),\n",
      " ('7', '721.478.580-30'),\n",
      " ('3', '366.310.090-14'),\n",
      " ('7', '794.289.350-26'),\n",
      " ('1', '190.259.410-01'),\n",
      " ('0', '000.000.000-01'),\n",
      " ('9', '900.000.000-00')]\n"
     ]
    }
   ],
   "source": [
    "pprint(regex.findall(test_str))"
   ]
  },
  {
   "cell_type": "code",
   "execution_count": null,
   "id": "db12b1fb",
   "metadata": {},
   "outputs": [],
   "source": []
  },
  {
   "cell_type": "markdown",
   "id": "2c6a23dd",
   "metadata": {},
   "source": [
    "# aula 12"
   ]
  },
  {
   "cell_type": "code",
   "execution_count": 40,
   "id": "7c6346e8",
   "metadata": {},
   "outputs": [],
   "source": [
    "# https://regex101.com/r/DfXYXM/1/\n",
    "regexp = re.compile(r'^(?:\\(\\d{2}\\)\\s)(?:9\\s)(?:\\d{4}-\\d{4})$', flags=re.M)"
   ]
  },
  {
   "cell_type": "code",
   "execution_count": 41,
   "id": "9dd7faf8",
   "metadata": {},
   "outputs": [],
   "source": [
    "texto = '''\n",
    "(21) 9 8852-5214\n",
    "(11)9955-1231\n",
    "(11)            9955-1231\n",
    "(35) 9 9975-4521\n",
    "(31) 3851-2587\n",
    "9 8571-5213\n",
    "1234-5647\n",
    "'''"
   ]
  },
  {
   "cell_type": "code",
   "execution_count": 42,
   "id": "5dd18c32",
   "metadata": {},
   "outputs": [
    {
     "name": "stdout",
     "output_type": "stream",
     "text": [
      "(21) 9 8852-5214\n",
      "(35) 9 9975-4521\n"
     ]
    }
   ],
   "source": [
    "for telefone in regexp.findall(texto):\n",
    "    print(telefone)"
   ]
  },
  {
   "cell_type": "code",
   "execution_count": null,
   "id": "8f7f69ca",
   "metadata": {},
   "outputs": [],
   "source": []
  },
  {
   "cell_type": "markdown",
   "id": "b88bb90d",
   "metadata": {},
   "source": [
    "# aula 13"
   ]
  },
  {
   "cell_type": "code",
   "execution_count": 43,
   "id": "da5bf10c",
   "metadata": {},
   "outputs": [],
   "source": [
    "# https://regex101.com/r/W4kRV2/2/\n",
    "# https://en.wikipedia.org/wiki/List_of_Unicode_characters\n",
    "import re\n",
    "senha_forte_regexp = re.compile(\n",
    "    r'^'\n",
    "    r'(?=.*[a-z])'\n",
    "    r'(?=.*[A-Z])'\n",
    "    r'(?=.*[0-9])'\n",
    "    r'(?=.*[ -\\/:-@[-`{-~])'\n",
    "    r'.{12,}'\n",
    "    r'$',\n",
    "    flags=re.M\n",
    ")"
   ]
  },
  {
   "cell_type": "code",
   "execution_count": 44,
   "id": "f4038397",
   "metadata": {},
   "outputs": [],
   "source": [
    "string = '''\n",
    "VÁLIDAS\n",
    "v2Ts7<o9T~}Y\n",
    "j25TTbjJ:6{<\n",
    "s`Mu6T;4M1!y\n",
    "Li`hk6:3WX>3\n",
    "d.D09}^dI2Vn\n",
    "\n",
    "SEM MINÚSCULAS\n",
    "I7^Y3RS^ 9]7\n",
    "[P6W\"83L5V{[\n",
    "B7=;K8D6_}W5\n",
    "1B_RT`93R%>1\n",
    "EZU{7;2&D:64\n",
    "\n",
    "SEM MINÚSCULAS E NÚMEROS\n",
    "E}LV`C?X_G:{\n",
    "AJH[@HD*V~=<\n",
    "\\A~AC{_V~MG \n",
    "W<-T}W:QAF'{\n",
    "~YJ}|FILN>~)\n",
    "\n",
    "SEM NÚMEROS CARACTERES E MINÚSCULAS\n",
    "PBDZDPECUDNN\n",
    "EJQWFWFFDEHY\n",
    "XRCNLNRHYOZJ\n",
    "TWIYPLWUDMNN\n",
    "JMDTJSEPKVON\n",
    "\n",
    "QUANTIDADE INVÁLIDA (6)\n",
    "Iu4<1j\n",
    "1x`P6g\n",
    "@9t3Ry\n",
    "qf9_6H\n",
    "0o`9fO\n",
    "'''"
   ]
  },
  {
   "cell_type": "code",
   "execution_count": 45,
   "id": "b7493a85",
   "metadata": {},
   "outputs": [
    {
     "name": "stdout",
     "output_type": "stream",
     "text": [
      "['v2Ts7<o9T~}Y', 'j25TTbjJ:6{<', 's`Mu6T;4M1!y', 'Li`hk6:3WX>3', 'd.D09}^dI2Vn']\n"
     ]
    }
   ],
   "source": [
    "print(senha_forte_regexp.findall(string))"
   ]
  },
  {
   "cell_type": "code",
   "execution_count": null,
   "id": "612b500a",
   "metadata": {},
   "outputs": [],
   "source": []
  },
  {
   "cell_type": "markdown",
   "id": "5d36874d",
   "metadata": {},
   "source": [
    "# aula 14"
   ]
  },
  {
   "cell_type": "code",
   "execution_count": null,
   "id": "d1fa0c6f",
   "metadata": {},
   "outputs": [],
   "source": [
    "# https://regex101.com/r/wjfSus/1/\n",
    "import re"
   ]
  },
  {
   "cell_type": "code",
   "execution_count": 47,
   "id": "69ec4327",
   "metadata": {},
   "outputs": [],
   "source": [
    "string = '''\n",
    "Válidos\n",
    "0.0\n",
    "00.00\n",
    "000.000\n",
    "+0.0\n",
    "-00.00\n",
    "+000.000\n",
    "10\n",
    "50\n",
    "8.5\n",
    "-8.5\n",
    "+10.5005412136\n",
    "1231345458.54654564\n",
    "-133215646589.6543215648978977\n",
    "+1.11123123\n",
    "-0.154987\n",
    "1.121654987\n",
    "10.123\n",
    "10.1\n",
    "-1.1\n",
    "\n",
    "Inválidos\n",
    "10..2\n",
    "++1213\n",
    "--1235050\n",
    ".124546\n",
    "-.1231324\n",
    "10.\n",
    ".1\n",
    ".10\n",
    "10.\n",
    "+10.\n",
    "-10.\n",
    "5a\n",
    "b5\n",
    "'''"
   ]
  },
  {
   "cell_type": "code",
   "execution_count": 48,
   "id": "b26652e0",
   "metadata": {},
   "outputs": [],
   "source": [
    "def is_float(string):\n",
    "    return bool(re.search(r'^[+-]?\\d+(?:\\.\\d+)?$', string))"
   ]
  },
  {
   "cell_type": "code",
   "execution_count": 49,
   "id": "61fe05ae",
   "metadata": {},
   "outputs": [],
   "source": [
    "def is_int(string):\n",
    "    return bool(re.search(r'^[+-]?\\d+$', string))"
   ]
  },
  {
   "cell_type": "code",
   "execution_count": null,
   "id": "6c77eac2",
   "metadata": {},
   "outputs": [
    {
     "name": "stdout",
     "output_type": "stream",
     "text": [
      "Digite um número: 5\n",
      "O número 5 foi convertido para int\n"
     ]
    }
   ],
   "source": [
    "while True:\n",
    "    numero = input('Digite um número: ')\n",
    "\n",
    "    if is_int(numero):\n",
    "        numero = int(numero)\n",
    "        print(f'O número {numero} foi convertido para int')\n",
    "        continue\n",
    "\n",
    "    if is_float(numero):\n",
    "        numero = float(numero)\n",
    "        print(f'O número {numero} foi convertido para float')\n",
    "        continue"
   ]
  },
  {
   "cell_type": "code",
   "execution_count": null,
   "id": "cd4cd458",
   "metadata": {},
   "outputs": [],
   "source": []
  },
  {
   "cell_type": "markdown",
   "id": "355d78c9",
   "metadata": {},
   "source": [
    "# aula 15"
   ]
  },
  {
   "cell_type": "code",
   "execution_count": null,
   "id": "a1393696",
   "metadata": {},
   "outputs": [],
   "source": [
    "\"\"\"\n",
    "Básica\n",
    "^\\w+(?:[.\\-+!%]\\w+)*@\\w+(?:[.\\-]\\w+)+$\n",
    "https://regex101.com/r/9s4bgv/1/\n",
    "\n",
    "Básica 2\n",
    "^[^\\s@<>\\(\\)[\\]\\.]+(?:\\.[^\\s@<>\\(\\)\\[\\]\\.]+)*@\\w+(?:[\\.\\-_]\\w+)*$\n",
    "https://regex101.com/r/mH4ChC/2/\n",
    "\n",
    "rfc 5322\n",
    "^(?:[a-z0-9!#$%&'*+/=?^_`{|}~-]+(?:\\.[a-z0-9!#$%&'*+/=?^_`{|}~-]+)*|\\\"(?:[\\x01-\\x08\\x0b\\x0c\\x0e-\\x1f\\x21\\x23-\\x5b\\x5d-\\x7f]|\\\\[\\x01-\\x09\\x0b\\x0c\\x0e-\\x7f])*\\\")@(?:(?:[a-z0-9](?:[a-z0-9-]*[a-z0-9])?\\.)+[a-z0-9](?:[a-z0-9-]*[a-z0-9])?|\\[(?:(?:25[0-5]|2[0-4][0-9]|[01]?[0-9][0-9]?)\\.){3}(?:25[0-5]|2[0-4][0-9]|[01]?[0-9][0-9]?|[a-z0-9-]*[a-z0-9]:(?:[\\x01-\\x08\\x0b\\x0c\\x0e-\\x1f\\x21-\\x5a\\x53-\\x7f]|\\\\[\\x01-\\x09\\x0b\\x0c\\x0e-\\x7f])+)\\])$\n",
    "https://regex101.com/r/fkxI15/1/\n",
    "\"\"\""
   ]
  },
  {
   "cell_type": "code",
   "execution_count": null,
   "id": "42e0e049",
   "metadata": {},
   "outputs": [],
   "source": [
    "emails = \"\"\"\n",
    "Valid email addresses\n",
    "o-que_vai.te+dar+dor-de.cabeca@gmail-com-traco.com.br\n",
    "simple@example.com\n",
    "very.common@example.com\n",
    "disposable.style.email.with+symbol@example.com\n",
    "other.email-with-hyphen@example.com\n",
    "fully-qualified-domain@example.com\n",
    "user.name+tag+sorting@example.com\n",
    "x@example.com\n",
    "example-indeed@strange-example.com\n",
    "example@s.example\n",
    "a@a.com.br\n",
    "mailhost!username@example.org\n",
    "user%example.com@example.org\n",
    "email@example.com\n",
    "firstname.lastname@example.com\n",
    "email@subdomain.example.com\n",
    "firstname+lastname@example.com\n",
    "email@123.123.123.123\n",
    "\"email\"@example.com\n",
    "1234567890@example.com\n",
    "email@example-one.com\n",
    "_______@example.com\n",
    "email@example.name\n",
    "email@example.museum\n",
    "email@example.co.jp\n",
    "firstname-lastname@example.com\n",
    "\n",
    "\n",
    "Invalid email addresses\n",
    "Abc.example.com\n",
    "<aqui-te-um@email-pra-validar.com.br>\n",
    "A@b@c@example.com\n",
    "a\"b(c)d,e:f;g<h>i[j\\k]l@example.com\n",
    "just\"not\"right@example.com\n",
    "this is\"not\\allowed@example.com\n",
    "this\\ still\\\"not\\\\allowed@example.com\n",
    "plainaddress\n",
    "#@%^%#$@#$@#.com\n",
    "@example.com\n",
    "<email@example.com>\n",
    "email.example.com\n",
    "email@example@example.com\n",
    ".email@example.com\n",
    "email.@example.com\n",
    "email..email@example.com\n",
    "あいうえお@example.com\n",
    "email@example\n",
    "email@-example.com\n",
    "email@example..com\n",
    "Abc..123@example.com\n",
    "”(),:;<>[\\]@example.com\n",
    "just”not”right@example.com\n",
    "this\\ is\"really\"not\\allowed@example.com\n",
    "\"\"\""
   ]
  },
  {
   "cell_type": "code",
   "execution_count": null,
   "id": "72234921",
   "metadata": {},
   "outputs": [],
   "source": []
  },
  {
   "cell_type": "code",
   "execution_count": null,
   "id": "93a88a07",
   "metadata": {},
   "outputs": [],
   "source": []
  },
  {
   "cell_type": "code",
   "execution_count": null,
   "id": "c57ca297",
   "metadata": {},
   "outputs": [],
   "source": []
  },
  {
   "cell_type": "markdown",
   "id": "64b005c0",
   "metadata": {},
   "source": [
    "# aula 16"
   ]
  },
  {
   "cell_type": "code",
   "execution_count": null,
   "id": "18a54908",
   "metadata": {},
   "outputs": [],
   "source": []
  },
  {
   "cell_type": "code",
   "execution_count": null,
   "id": "f1774903",
   "metadata": {},
   "outputs": [],
   "source": []
  },
  {
   "cell_type": "code",
   "execution_count": null,
   "id": "7778a6df",
   "metadata": {},
   "outputs": [],
   "source": []
  },
  {
   "cell_type": "code",
   "execution_count": null,
   "id": "236d9553",
   "metadata": {},
   "outputs": [],
   "source": []
  },
  {
   "cell_type": "code",
   "execution_count": null,
   "id": "516ebd01",
   "metadata": {},
   "outputs": [],
   "source": []
  },
  {
   "cell_type": "code",
   "execution_count": null,
   "id": "4260380d",
   "metadata": {},
   "outputs": [],
   "source": []
  }
 ],
 "metadata": {
  "kernelspec": {
   "display_name": "Python 3 (ipykernel)",
   "language": "python",
   "name": "python3"
  },
  "language_info": {
   "codemirror_mode": {
    "name": "ipython",
    "version": 3
   },
   "file_extension": ".py",
   "mimetype": "text/x-python",
   "name": "python",
   "nbconvert_exporter": "python",
   "pygments_lexer": "ipython3",
   "version": "3.9.7"
  }
 },
 "nbformat": 4,
 "nbformat_minor": 5
}
