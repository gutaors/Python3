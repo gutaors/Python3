{
 "cells": [
  {
   "cell_type": "code",
   "execution_count": null,
   "id": "a5e46d44",
   "metadata": {},
   "outputs": [],
   "source": [
    "import random\n",
    "import string\n",
    "\n",
    "# Gera um número inteiro entra A e B\n",
    "# inteiro = random.randint(10, 20)\n",
    "\n",
    "# Gerar um número aleatório usando a função range()\n",
    "inteiro = random.randrange(900, 1000, 10)\n",
    "\n",
    "# Gera um número de ponto flutuante entra A e B\n",
    "# flutuante = random.uniform(10, 20)\n",
    "\n",
    "# Gera um número de ponto flutuante entre 0 e 1\n",
    "flutuante = random.random()\n",
    "\n",
    "lista = ['Luiz', 'Otávio', 'Maria', 'Rose', 'Jenny', 'Danilo', 'Felipe']\n",
    "\n",
    "# Seleciona aleatóriamente valores de uma lista\n",
    "sorteio = random.sample(lista, 2)\n",
    "# sorteio = random.choices(lista, k=2)\n",
    "# sorteio = random.choice(lista)\n",
    "\n",
    "# Embaralha a lista\n",
    "random.shuffle(lista)\n",
    "\n",
    "# Gera senha aleatória\n",
    "letras = string.ascii_letters\n",
    "digitos = string.digits\n",
    "caracteres = '!@#$%&*._-'\n",
    "geral = letras + digitos + caracteres\n",
    "senha = \"\".join(random.choices(geral, k=20))\n",
    "\n",
    "print(senha)"
   ]
  }
 ],
 "metadata": {
  "kernelspec": {
   "display_name": "Python 3 (ipykernel)",
   "language": "python",
   "name": "python3"
  },
  "language_info": {
   "codemirror_mode": {
    "name": "ipython",
    "version": 3
   },
   "file_extension": ".py",
   "mimetype": "text/x-python",
   "name": "python",
   "nbconvert_exporter": "python",
   "pygments_lexer": "ipython3",
   "version": "3.9.7"
  }
 },
 "nbformat": 4,
 "nbformat_minor": 5
}
