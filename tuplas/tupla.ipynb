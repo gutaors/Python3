{
 "cells": [
  {
   "cell_type": "code",
   "execution_count": 1,
   "id": "4f864b49",
   "metadata": {},
   "outputs": [
    {
     "name": "stdout",
     "output_type": "stream",
     "text": [
      "10\n"
     ]
    }
   ],
   "source": [
    "t1 = 1,2, 'gustavo', 4, 5\n",
    "t2 = 6,7,8,9,10\n",
    "t3 = t1+t2\n",
    "\n",
    "n1, n2, n3, *_, n10 = t3\n",
    "print(n10)"
   ]
  },
  {
   "cell_type": "code",
   "execution_count": 2,
   "id": "07cf3410",
   "metadata": {},
   "outputs": [],
   "source": [
    "t1 =( 1,2, 'gustavo', 4, 5)*20"
   ]
  },
  {
   "cell_type": "code",
   "execution_count": 3,
   "id": "3ba65959",
   "metadata": {},
   "outputs": [
    {
     "name": "stdout",
     "output_type": "stream",
     "text": [
      "(1, 2, 'gustavo', 4, 5, 1, 2, 'gustavo', 4, 5, 1, 2, 'gustavo', 4, 5, 1, 2, 'gustavo', 4, 5, 1, 2, 'gustavo', 4, 5, 1, 2, 'gustavo', 4, 5, 1, 2, 'gustavo', 4, 5, 1, 2, 'gustavo', 4, 5, 1, 2, 'gustavo', 4, 5, 1, 2, 'gustavo', 4, 5, 1, 2, 'gustavo', 4, 5, 1, 2, 'gustavo', 4, 5, 1, 2, 'gustavo', 4, 5, 1, 2, 'gustavo', 4, 5, 1, 2, 'gustavo', 4, 5, 1, 2, 'gustavo', 4, 5, 1, 2, 'gustavo', 4, 5, 1, 2, 'gustavo', 4, 5, 1, 2, 'gustavo', 4, 5, 1, 2, 'gustavo', 4, 5)\n"
     ]
    }
   ],
   "source": [
    "print(t1)"
   ]
  },
  {
   "cell_type": "markdown",
   "id": "d92803d8",
   "metadata": {},
   "source": [
    "## pra mudar a tupla vou transformar em lista, daí altero e depois transformo em tupla novamente"
   ]
  },
  {
   "cell_type": "code",
   "execution_count": 4,
   "id": "9052f74a",
   "metadata": {},
   "outputs": [],
   "source": [
    "t1 = 1,2, 3, 4, 5\n",
    "t1 = list(t1)\n",
    "t1[1] =3000"
   ]
  },
  {
   "cell_type": "code",
   "execution_count": 5,
   "id": "e0088f20",
   "metadata": {},
   "outputs": [
    {
     "data": {
      "text/plain": [
       "[1, 3000, 3, 4, 5]"
      ]
     },
     "execution_count": 5,
     "metadata": {},
     "output_type": "execute_result"
    }
   ],
   "source": [
    "t1"
   ]
  },
  {
   "cell_type": "code",
   "execution_count": 6,
   "id": "45d97d5b",
   "metadata": {},
   "outputs": [
    {
     "name": "stdout",
     "output_type": "stream",
     "text": [
      "(1, 3000, 3, 4, 5)\n"
     ]
    }
   ],
   "source": [
    "t1 = tuple(t1)\n",
    "print(t1)"
   ]
  },
  {
   "cell_type": "code",
   "execution_count": 8,
   "id": "e94bc8bc",
   "metadata": {},
   "outputs": [
    {
     "name": "stdout",
     "output_type": "stream",
     "text": [
      "[1, 3000, 3, 4, 5]\n"
     ]
    }
   ],
   "source": [
    "t1 = list(t1)\n",
    "print(t1)"
   ]
  },
  {
   "cell_type": "code",
   "execution_count": null,
   "id": "252f4b0d",
   "metadata": {},
   "outputs": [],
   "source": []
  }
 ],
 "metadata": {
  "kernelspec": {
   "display_name": "Python 3 (ipykernel)",
   "language": "python",
   "name": "python3"
  },
  "language_info": {
   "codemirror_mode": {
    "name": "ipython",
    "version": 3
   },
   "file_extension": ".py",
   "mimetype": "text/x-python",
   "name": "python",
   "nbconvert_exporter": "python",
   "pygments_lexer": "ipython3",
   "version": "3.9.7"
  }
 },
 "nbformat": 4,
 "nbformat_minor": 5
}
