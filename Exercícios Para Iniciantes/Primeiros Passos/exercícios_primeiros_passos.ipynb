{
 "cells": [
  {
   "cell_type": "markdown",
   "metadata": {},
   "source": [
    "# Lista de Exercícios 01 - Primeiros passos com Python\n",
    "Olá, seja bem vindo(a)!  \n",
    "\n",
    "Essa é a primeira lista de exercícios do canal, ideal para quem está começando agora no Python.\n",
    "\n",
    "Para resolver esses exercícios você precisa saber um pouco sobre:\n",
    "- Funções built-in do Python (como print e input)\n",
    "- Tipos de dados numéricos (como int e float)\n",
    "- Formatação de strings\n",
    "- Variáveis (como criar e usar)\n",
    "- Operações matemáticas com Python\n",
    "- Bibliotecas (como importar e usar)\n",
    "\n",
    "Essa lista __não__ contem exercícos envolvendo:\n",
    "- Tomada de decisão (if, elif, else)\n",
    "- Repetições (while, for)\n",
    "- Funções definidas pelo usuário (def nome_função())\n",
    "\n",
    "Esses assuntos estarão presentes em listas futuras."
   ]
  },
  {
   "cell_type": "markdown",
   "metadata": {},
   "source": [
    "# Links úteis:\n",
    "https://docs.python.org/3/library/functions.html#built-in-functions  \n",
    "https://docs.python.org/3/library/stdtypes.html#numeric-types-int-float-complex  \n",
    "https://docs.python.org/3/reference/lexical_analysis.html#formatted-string-literals  \n",
    "https://docs.python.org/3/tutorial/introduction.html#numbers  \n",
    "https://docs.python.org/3/tutorial/modules.html#modules  "
   ]
  },
  {
   "cell_type": "markdown",
   "metadata": {},
   "source": [
    "---"
   ]
  },
  {
   "cell_type": "markdown",
   "metadata": {},
   "source": [
    "# 01 - Me fale três coisas sobre você\n",
    "Escreva um programa que exibe na tela três informações sobre você.  \n",
    "Exiba uma informação por linha.\n",
    "\n",
    "__Exemplo de output:__  \n",
    "Eu me chamo Fabio.  \n",
    "Tenho 28 anos.  \n",
    "Moro em São Paulo.  "
   ]
  },
  {
   "cell_type": "markdown",
   "metadata": {},
   "source": [
    "---"
   ]
  },
  {
   "cell_type": "markdown",
   "metadata": {},
   "source": [
    "# 02 - Olá, {pessoa}!\n",
    "Escreva um programa que pede para o usuário digitar o seu nome e retorna uma saudação utilizando esse nome.  \n",
    "\n",
    "__Exemplo de input:__  \n",
    "Fabio\n",
    "\n",
    "__Exemplo de output:__  \n",
    "Olá, Fabio!"
   ]
  },
  {
   "cell_type": "markdown",
   "metadata": {},
   "source": [
    "---"
   ]
  },
  {
   "cell_type": "markdown",
   "metadata": {},
   "source": [
    "# 03 - Matemática: Área do retângulo\n",
    "Escreva um programa que pede para o usuário digitar a base e a altura de um retângulo (em centímetros ou metros) e retorna a área desse retângulo.\n",
    "\n",
    "__Exemplo de input:__  \n",
    " 5   \n",
    "10\n",
    "\n",
    "__Exemplo de output:__  \n",
    "A área do retângulo mede 50.00m²."
   ]
  },
  {
   "cell_type": "markdown",
   "metadata": {},
   "source": [
    "---"
   ]
  },
  {
   "cell_type": "markdown",
   "metadata": {},
   "source": [
    "# 04 - Preço do pedido\n",
    "Uma feira vende pastéis e refrigerantes.  \n",
    "Cada pastel é vendido por 8 reais.  \n",
    "Cada refrigerante é vendido por 5 reais.  \n",
    "Escreva um programa que coleta quantos pasteis e refrigerantes o usuário deseja e retorne o preço total do pedido.  \n",
    "\n",
    "__Exemplo de input:__  \n",
    " 3   \n",
    " 1\n",
    "\n",
    "__Exemplo de output:__  \n",
    "O total do seu pedido é R$ 29,00"
   ]
  },
  {
   "cell_type": "markdown",
   "metadata": {},
   "source": [
    "---"
   ]
  },
  {
   "cell_type": "markdown",
   "metadata": {},
   "source": [
    "# 05 - Bônus e aumento salarial\n",
    "Os funcionários de uma empresa receberão um aumento salarial de 5% e um bônus no fim do ano equivalente a 20% do novo salário.  \n",
    "Escreva um programa que recebe o salário atual de um funcionário e retorna:\n",
    "- O seu novo salário\n",
    "- O seu bônus de fim de ano\n",
    "- Quanto ele vai receber em um ano de trabalho + bônus\n",
    "\n",
    "__Exemplo de input:__  \n",
    "10000\n",
    "\n",
    "__Exemplo de output:__  \n",
    "O seu novo salário é R$ 10.500,00.\n",
    "\n",
    "O seu bônus será de R$ 2.100,00.\n",
    "\n",
    "Em 12 meses de trabalho você receberá R$ 128.100,00 em salários e bônus. "
   ]
  },
  {
   "cell_type": "markdown",
   "metadata": {},
   "source": [
    "---"
   ]
  },
  {
   "cell_type": "markdown",
   "metadata": {},
   "source": [
    "# 06 - Matemática: Área do trapézio\n",
    "Escreva um programa que pede para o usuário digitar as bases e a altura de um trapézio (em centímetros ou metros) e retorna a área desse trapézio.\n",
    "\n",
    "__Exemplo de input:__  \n",
    " 3   \n",
    " 6  \n",
    " 4\n",
    "\n",
    "__Exemplo de output:__  \n",
    "A área do trapézio mede 18.00m²."
   ]
  },
  {
   "cell_type": "markdown",
   "metadata": {},
   "source": [
    "---"
   ]
  },
  {
   "cell_type": "markdown",
   "metadata": {},
   "source": [
    "# 07 - Simulação de investimento\n",
    "Escreva um programa que pede para o usuário digitar quanto ele deseja investir em um investimento que rende 6% ao ano.  \n",
    "Os rendimentos são pagos sempre no final do ano.  \n",
    "Exiba o saldo parcial de cada ano até o quinto ano.\n",
    "\n",
    "__Exemplo de input:__  \n",
    "10000\n",
    "\n",
    "__Exemplo de output:__  \n",
    "Saldo após um ano: R\\$ 10.600,00  \n",
    "\n",
    "Saldo após dois anos: R\\$ 11.236,00  \n",
    "\n",
    "Saldo após três anos: R\\$ 11.910,16  \n",
    "\n",
    "Saldo após quatro anos: R\\$ 12.624,77  \n",
    "\n",
    "Saldo após cinco anos: R\\$ 13.382,26  "
   ]
  },
  {
   "cell_type": "markdown",
   "metadata": {},
   "source": [
    "---"
   ]
  },
  {
   "cell_type": "markdown",
   "metadata": {},
   "source": [
    "# 08 - Caixas de remédio\n",
    "Minha cachorra precisa tomar 1,6ml de um remédio todos os dias.  Uma caixa desse remédio vem com um frasco de 20ml.  \n",
    "Escreva um programa que me diga quantas caixas de remédio eu devo comprar para um tratamento de $n$ meses, sendo $n$ um número inteiro.\n",
    "\n",
    "__Exemplo de input:__  \n",
    " 3\n",
    "\n",
    "__Exemplo de output:__  \n",
    "Você deve comprar 8 caixas de remédio."
   ]
  },
  {
   "cell_type": "markdown",
   "metadata": {},
   "source": [
    "---"
   ]
  },
  {
   "cell_type": "markdown",
   "metadata": {},
   "source": [
    "# 09 - Matemática: Área do círculo\n",
    "Escreva um programa que pede para o usuário digitar o raio de um círculo (em centímetros ou metros) e retorna a área desse círculo.\n",
    "\n",
    "__Exemplo de input:__  \n",
    " 5   \n",
    " \n",
    "\n",
    "__Exemplo de output:__  \n",
    "A área do círculo mede 78.54m²."
   ]
  },
  {
   "cell_type": "markdown",
   "metadata": {},
   "source": [
    "---"
   ]
  },
  {
   "cell_type": "markdown",
   "metadata": {},
   "source": [
    "# 10 - Dias, horas e minutos -> segundos\n",
    "Escreva um programa que recebe do usuário três valores:  \n",
    "- Quantidade de dias\n",
    "- Quantidade de horas\n",
    "- Quantidade de minutos  \n",
    "\n",
    "O programa deve exibir na tela esses valores em segundos (somados).\n",
    "\n",
    "__Exemplo de input:__  \n",
    " 1  \n",
    " 5  \n",
    " 30 \n",
    "\n",
    "__Exemplo de output:__  \n",
    "Em 1 dia(s), 5 hora(s) e 30 minuto(s) temos 106200 segundo(s)."
   ]
  },
  {
   "cell_type": "markdown",
   "metadata": {},
   "source": [
    "---"
   ]
  },
  {
   "cell_type": "markdown",
   "metadata": {},
   "source": [
    "# 11 - Segundos -> Dias, horas, minutos e segundos\n",
    "Escreva um programa que recebe um valor em segundos e transforme esse valor em dias, horas, minutos e segundos.\n",
    "\n",
    "__Exemplo de input:__  \n",
    "106201\n",
    "\n",
    "__Exemplo de output:__  \n",
    "106201 segundo(s) equivalem a 1 dia(s), 5 hora(s), 30 minuto(s) e 1 segundo(s)."
   ]
  },
  {
   "cell_type": "markdown",
   "metadata": {},
   "source": [
    "---"
   ]
  },
  {
   "cell_type": "markdown",
   "metadata": {},
   "source": [
    "# 12 - Temperatura Celsius -> Fahrenheit e Kelvin\n",
    "Escreva um programa que recebe uma temperatura em Celsius e exibe essa temperatura em Fahrenheit e Kelvin.\n",
    "\n",
    "__Exemplo de input:__  \n",
    "25\n",
    "\n",
    "__Exemplo de output:__  \n",
    "25.00° Celsius equivale a 77.00° Fahrenheit e 298.15 Kelvin."
   ]
  },
  {
   "cell_type": "markdown",
   "metadata": {},
   "source": [
    "---"
   ]
  }
 ],
 "metadata": {
  "kernelspec": {
   "display_name": "Python 3",
   "language": "python",
   "name": "python3"
  },
  "language_info": {
   "codemirror_mode": {
    "name": "ipython",
    "version": 3
   },
   "file_extension": ".py",
   "mimetype": "text/x-python",
   "name": "python",
   "nbconvert_exporter": "python",
   "pygments_lexer": "ipython3",
   "version": "3.7.4"
  }
 },
 "nbformat": 4,
 "nbformat_minor": 4
}
