{
 "cells": [
  {
   "cell_type": "markdown",
   "metadata": {},
   "source": [
    "# Lista de Exercícios 01 - Primeiros passos com Python - Respostas e comentários\n",
    "Olá, seja bem vindo(a)!  \n",
    "\n",
    "Aqui você encontra as respostas e comentários dos exercícios da Lista 01."
   ]
  },
  {
   "cell_type": "markdown",
   "metadata": {},
   "source": [
    "---"
   ]
  },
  {
   "cell_type": "markdown",
   "metadata": {},
   "source": [
    "# 01 - Me fale três coisas sobre você\n",
    "Escreva um programa que exibe na tela três informações sobre você.  \n",
    "Exiba uma informação por linha.\n",
    "\n",
    "__Exemplo de output:__  \n",
    "Eu me chamo Fabio.  \n",
    "Tenho 28 anos.  \n",
    "Moro em São Paulo.  "
   ]
  },
  {
   "cell_type": "markdown",
   "metadata": {},
   "source": [
    "#### Solução\n",
    "Nesse exercício devemos usar a função __print__ para exibir informações na tela."
   ]
  },
  {
   "cell_type": "code",
   "execution_count": 1,
   "metadata": {},
   "outputs": [
    {
     "name": "stdout",
     "output_type": "stream",
     "text": [
      "Eu me chamo Fabio.\n",
      "Tenho 28 anos.\n",
      "Moro em São Paulo.\n"
     ]
    }
   ],
   "source": [
    "print(\"Eu me chamo Fabio.\")\n",
    "print(\"Tenho 28 anos.\")\n",
    "print(\"Moro em São Paulo.\")"
   ]
  },
  {
   "cell_type": "code",
   "execution_count": 2,
   "metadata": {},
   "outputs": [
    {
     "name": "stdout",
     "output_type": "stream",
     "text": [
      "Eu me chamo Fabio.\n",
      "Tenho 28 anos.\n",
      "Moro em São Paulo.\n"
     ]
    }
   ],
   "source": [
    "# Outra opção:\n",
    "print(\"Eu me chamo Fabio.\\nTenho 28 anos.\\nMoro em São Paulo.\")"
   ]
  },
  {
   "cell_type": "markdown",
   "metadata": {},
   "source": [
    "---"
   ]
  },
  {
   "cell_type": "markdown",
   "metadata": {},
   "source": [
    "O comportamento padrão da função print é pular para a próxima linha depois de exibir os valores que passamos como argumentos da função, por isso executar a função três vezes faz com que cada frase fique em uma linha.  \n",
    "Outra maneira de pular linhas sem usar múltiplas chamadas da função print é escrever \"\\n\", como no exemplo acima. Em vez de exibir \"\\n\" na tela, a função print pulará uma linha quando encontrar \"\\n\" em uma string.  "
   ]
  },
  {
   "cell_type": "markdown",
   "metadata": {},
   "source": [
    "---"
   ]
  },
  {
   "cell_type": "markdown",
   "metadata": {},
   "source": [
    "Observe a documentação da função print:  "
   ]
  },
  {
   "cell_type": "code",
   "execution_count": 3,
   "metadata": {},
   "outputs": [
    {
     "data": {
      "text/plain": [
       "\u001b[1;31mDocstring:\u001b[0m\n",
       "print(value, ..., sep=' ', end='\\n', file=sys.stdout, flush=False)\n",
       "\n",
       "Prints the values to a stream, or to sys.stdout by default.\n",
       "Optional keyword arguments:\n",
       "file:  a file-like object (stream); defaults to the current sys.stdout.\n",
       "sep:   string inserted between values, default a space.\n",
       "end:   string appended after the last value, default a newline.\n",
       "flush: whether to forcibly flush the stream.\n",
       "\u001b[1;31mType:\u001b[0m      builtin_function_or_method\n"
      ]
     },
     "metadata": {},
     "output_type": "display_data"
    }
   ],
   "source": [
    "print?"
   ]
  },
  {
   "cell_type": "markdown",
   "metadata": {},
   "source": [
    "---"
   ]
  },
  {
   "cell_type": "markdown",
   "metadata": {},
   "source": [
    "Nós podemos enviar vários objetos para serem exibidos na tela:"
   ]
  },
  {
   "cell_type": "code",
   "execution_count": 4,
   "metadata": {},
   "outputs": [
    {
     "name": "stdout",
     "output_type": "stream",
     "text": [
      "objeto1 2 objeto3 True\n"
     ]
    }
   ],
   "source": [
    "print('objeto1', 2, 'objeto3', True)"
   ]
  },
  {
   "cell_type": "markdown",
   "metadata": {},
   "source": [
    "---"
   ]
  },
  {
   "cell_type": "markdown",
   "metadata": {},
   "source": [
    "Nós podemos modificar o separador de objetos:"
   ]
  },
  {
   "cell_type": "code",
   "execution_count": 5,
   "metadata": {},
   "outputs": [
    {
     "name": "stdout",
     "output_type": "stream",
     "text": [
      "Podemos modificar          o separador de objetos padrão\n",
      "Podemos modificar ... o separador de objetos padrão\n",
      "Podemos modificar o separador de objetos padrão\n"
     ]
    }
   ],
   "source": [
    "print(\"Podemos modificar\", \"o separador de objetos padrão\", sep=\" \"*10)\n",
    "print(\"Podemos modificar\", \"o separador de objetos padrão\", sep=\" ... \")\n",
    "print(\"Podemos modificar\", \"o separador de objetos padrão\")"
   ]
  },
  {
   "cell_type": "markdown",
   "metadata": {},
   "source": [
    "---"
   ]
  },
  {
   "cell_type": "markdown",
   "metadata": {},
   "source": [
    "Nós podemos modificar o que a função faz após exibir os valores passados para ela, basta modificar o valor do parâmetro __*end*__:"
   ]
  },
  {
   "cell_type": "code",
   "execution_count": 6,
   "metadata": {},
   "outputs": [
    {
     "name": "stdout",
     "output_type": "stream",
     "text": [
      "Eu me chamo Fabio. Tenho 28 anos.\n",
      "\n",
      "\n",
      "Moro em São Paulo. 👍"
     ]
    }
   ],
   "source": [
    "print(\"Eu me chamo Fabio.\", end=\" \")\n",
    "print(\"Tenho 28 anos.\", end=\"\\n\\n\\n\")\n",
    "print(\"Moro em São Paulo.\", end=\" 👍\")"
   ]
  },
  {
   "cell_type": "markdown",
   "metadata": {},
   "source": [
    "---"
   ]
  },
  {
   "cell_type": "markdown",
   "metadata": {},
   "source": [
    "Dúvida: E se eu quiser escrever \"\\n\", como eu faço?  \n",
    "Basta usar uma barra \\\\ antes do \\n, veja o exemplo:"
   ]
  },
  {
   "cell_type": "code",
   "execution_count": 7,
   "metadata": {},
   "outputs": [
    {
     "name": "stdout",
     "output_type": "stream",
     "text": [
      "Usando uma barra para não pular linha: \\n\n"
     ]
    }
   ],
   "source": [
    "print(\"Usando uma barra para não pular linha: \\\\n\")"
   ]
  },
  {
   "cell_type": "code",
   "execution_count": 8,
   "metadata": {},
   "outputs": [
    {
     "name": "stdout",
     "output_type": "stream",
     "text": [
      "Usando mais duas barras \\\\n\n"
     ]
    }
   ],
   "source": [
    "print(\"Usando mais duas barras \\\\\\\\n\")"
   ]
  },
  {
   "cell_type": "markdown",
   "metadata": {},
   "source": [
    "---"
   ]
  },
  {
   "cell_type": "markdown",
   "metadata": {},
   "source": [
    "# 02 - Olá, {pessoa}!\n",
    "Escreva um programa que pede para o usuário digitar o seu nome e retorna uma saudação utilizando esse nome.  \n",
    "\n",
    "__Exemplo de input:__  \n",
    "Fabio\n",
    "\n",
    "__Exemplo de output:__  \n",
    "Olá, Fabio!"
   ]
  },
  {
   "cell_type": "markdown",
   "metadata": {},
   "source": [
    "#### Solução\n",
    "Nesse exercício devemos usar a função __input__ para coletar dados do usuário."
   ]
  },
  {
   "cell_type": "code",
   "execution_count": 9,
   "metadata": {},
   "outputs": [
    {
     "name": "stdin",
     "output_type": "stream",
     "text": [
      "Qual é o seu nome? Fabio\n"
     ]
    },
    {
     "name": "stdout",
     "output_type": "stream",
     "text": [
      "Olá, Fabio!\n"
     ]
    }
   ],
   "source": [
    "nome = input(\"Qual é o seu nome?\")\n",
    "print(f\"Olá, {nome}!\")"
   ]
  },
  {
   "cell_type": "markdown",
   "metadata": {},
   "source": [
    "---"
   ]
  },
  {
   "cell_type": "markdown",
   "metadata": {},
   "source": [
    "O argumento \"Qual é o seu nome?\" que passamos para a função input é a mensagem que será exibida na tela do usuário.  \n",
    "O valor que o usuário digita é atribuido à variável \"nome\".  "
   ]
  },
  {
   "cell_type": "code",
   "execution_count": 10,
   "metadata": {},
   "outputs": [
    {
     "name": "stdin",
     "output_type": "stream",
     "text": [
      "Qual é o seu nome? Fabio\n"
     ]
    },
    {
     "name": "stdout",
     "output_type": "stream",
     "text": [
      "Fabio\n"
     ]
    }
   ],
   "source": [
    "nome = input(\"Qual é o seu nome?\")\n",
    "print(nome)"
   ]
  },
  {
   "cell_type": "markdown",
   "metadata": {},
   "source": [
    "---"
   ]
  },
  {
   "cell_type": "markdown",
   "metadata": {},
   "source": [
    "Existem diversas maneiras de formatar uma string:"
   ]
  },
  {
   "cell_type": "code",
   "execution_count": 11,
   "metadata": {},
   "outputs": [
    {
     "name": "stdout",
     "output_type": "stream",
     "text": [
      "Me chamo Fabio e tenho 28 anos.\n",
      "Me chamo Fabio e tenho 28 anos.\n",
      "Me chamo Fabio e tenho 28 anos.\n",
      "Me chamo Fabio e tenho 28 anos.\n"
     ]
    }
   ],
   "source": [
    "nome = \"Fabio\"\n",
    "idade = 28\n",
    "\n",
    "print(f\"Me chamo {nome} e tenho {idade} anos.\")\n",
    "print(\"Me chamo {} e tenho {} anos.\".format(nome, idade))\n",
    "print(\"Me chamo %s e tenho %d anos.\" % (nome, idade))\n",
    "print(\"Me chamo\", nome, \"e tenho\", idade, \"anos.\")"
   ]
  },
  {
   "cell_type": "markdown",
   "metadata": {},
   "source": [
    "---"
   ]
  },
  {
   "cell_type": "markdown",
   "metadata": {},
   "source": [
    "# 03 - Matemática: Área do retângulo\n",
    "Escreva um programa que pede para o usuário digitar a base e a altura de um retângulo (em centímetros ou metros) e retorna a área desse retângulo.\n",
    "\n",
    "__Exemplo de input:__  \n",
    " 5   \n",
    "10\n",
    "\n",
    "__Exemplo de output:__  \n",
    "A área do retângulo mede 50.00m²."
   ]
  },
  {
   "cell_type": "markdown",
   "metadata": {},
   "source": [
    "#### Solução\n",
    "Além de usar as funções input e print, nesse exercício temos uma novidade: Transformar o input do usuário em float."
   ]
  },
  {
   "cell_type": "code",
   "execution_count": 12,
   "metadata": {},
   "outputs": [
    {
     "name": "stdin",
     "output_type": "stream",
     "text": [
      "Insira o valor da base do retângulo em metros: 5\n",
      "Insira o valor da altura do retângulo em metros: 10\n"
     ]
    },
    {
     "name": "stdout",
     "output_type": "stream",
     "text": [
      "A área do retângulo mede 50.00m².\n"
     ]
    }
   ],
   "source": [
    "base = float(input(\"Insira o valor da base do retângulo em metros:\"))\n",
    "altura = float(input(\"Insira o valor da altura do retângulo em metros:\"))\n",
    "\n",
    "área = base * altura\n",
    "\n",
    "print(f\"A área do retângulo mede {área:.2f}m².\")"
   ]
  },
  {
   "cell_type": "markdown",
   "metadata": {},
   "source": [
    "---"
   ]
  },
  {
   "cell_type": "markdown",
   "metadata": {},
   "source": [
    "O que acontece se eu não transformar o input em float?"
   ]
  },
  {
   "cell_type": "code",
   "execution_count": 13,
   "metadata": {},
   "outputs": [
    {
     "name": "stdin",
     "output_type": "stream",
     "text": [
      "Insira o valor da base do retângulo em metros: 5\n",
      "Insira o valor da altura do retângulo em metros: 10\n"
     ]
    },
    {
     "ename": "TypeError",
     "evalue": "can't multiply sequence by non-int of type 'str'",
     "output_type": "error",
     "traceback": [
      "\u001b[1;31m---------------------------------------------------------------------------\u001b[0m",
      "\u001b[1;31mTypeError\u001b[0m                                 Traceback (most recent call last)",
      "\u001b[1;32m<ipython-input-13-2dbdde483116>\u001b[0m in \u001b[0;36m<module>\u001b[1;34m\u001b[0m\n\u001b[0;32m      2\u001b[0m \u001b[0maltura\u001b[0m \u001b[1;33m=\u001b[0m \u001b[0minput\u001b[0m\u001b[1;33m(\u001b[0m\u001b[1;34m\"Insira o valor da altura do retângulo em metros:\"\u001b[0m\u001b[1;33m)\u001b[0m\u001b[1;33m\u001b[0m\u001b[1;33m\u001b[0m\u001b[0m\n\u001b[0;32m      3\u001b[0m \u001b[1;33m\u001b[0m\u001b[0m\n\u001b[1;32m----> 4\u001b[1;33m \u001b[0márea\u001b[0m \u001b[1;33m=\u001b[0m \u001b[0mbase\u001b[0m \u001b[1;33m*\u001b[0m \u001b[0maltura\u001b[0m\u001b[1;33m\u001b[0m\u001b[1;33m\u001b[0m\u001b[0m\n\u001b[0m\u001b[0;32m      5\u001b[0m \u001b[1;33m\u001b[0m\u001b[0m\n\u001b[0;32m      6\u001b[0m \u001b[0mprint\u001b[0m\u001b[1;33m(\u001b[0m\u001b[1;34mf\"A área do retângulo mede {área:.2f}m².\"\u001b[0m\u001b[1;33m)\u001b[0m\u001b[1;33m\u001b[0m\u001b[1;33m\u001b[0m\u001b[0m\n",
      "\u001b[1;31mTypeError\u001b[0m: can't multiply sequence by non-int of type 'str'"
     ]
    }
   ],
   "source": [
    "base = input(\"Insira o valor da base do retângulo em metros:\")\n",
    "altura = input(\"Insira o valor da altura do retângulo em metros:\")\n",
    "\n",
    "área = base * altura\n",
    "\n",
    "print(f\"A área do retângulo mede {área:.2f}m².\")"
   ]
  },
  {
   "cell_type": "markdown",
   "metadata": {},
   "source": [
    "Obtivemos esse erro na quarta linha do código:  \n",
    "__TypeError__: can't multiply sequence by non-int of type 'str'  \n",
    "Isso acontece porque estamos tentando multiplicar duas strings:"
   ]
  },
  {
   "cell_type": "code",
   "execution_count": 14,
   "metadata": {},
   "outputs": [
    {
     "data": {
      "text/plain": [
       "'5'"
      ]
     },
     "execution_count": 14,
     "metadata": {},
     "output_type": "execute_result"
    }
   ],
   "source": [
    "# valor atual da base:\n",
    "base"
   ]
  },
  {
   "cell_type": "code",
   "execution_count": 15,
   "metadata": {},
   "outputs": [
    {
     "data": {
      "text/plain": [
       "'10'"
      ]
     },
     "execution_count": 15,
     "metadata": {},
     "output_type": "execute_result"
    }
   ],
   "source": [
    "# valor atual da altura\n",
    "altura"
   ]
  },
  {
   "cell_type": "code",
   "execution_count": 16,
   "metadata": {},
   "outputs": [
    {
     "data": {
      "text/plain": [
       "(str, str)"
      ]
     },
     "execution_count": 16,
     "metadata": {},
     "output_type": "execute_result"
    }
   ],
   "source": [
    "type(base), type(altura)"
   ]
  },
  {
   "cell_type": "code",
   "execution_count": 17,
   "metadata": {},
   "outputs": [
    {
     "ename": "TypeError",
     "evalue": "can't multiply sequence by non-int of type 'str'",
     "output_type": "error",
     "traceback": [
      "\u001b[1;31m---------------------------------------------------------------------------\u001b[0m",
      "\u001b[1;31mTypeError\u001b[0m                                 Traceback (most recent call last)",
      "\u001b[1;32m<ipython-input-17-9bee57149a8f>\u001b[0m in \u001b[0;36m<module>\u001b[1;34m\u001b[0m\n\u001b[0;32m      1\u001b[0m \u001b[1;31m# não dá pra multiplicar duas strings!\u001b[0m\u001b[1;33m\u001b[0m\u001b[1;33m\u001b[0m\u001b[1;33m\u001b[0m\u001b[0m\n\u001b[1;32m----> 2\u001b[1;33m \u001b[1;34m\"5\"\u001b[0m \u001b[1;33m*\u001b[0m \u001b[1;34m\"10\"\u001b[0m\u001b[1;33m\u001b[0m\u001b[1;33m\u001b[0m\u001b[0m\n\u001b[0m",
      "\u001b[1;31mTypeError\u001b[0m: can't multiply sequence by non-int of type 'str'"
     ]
    }
   ],
   "source": [
    "# não dá pra multiplicar duas strings!\n",
    "\"5\" * \"10\""
   ]
  },
  {
   "cell_type": "code",
   "execution_count": 18,
   "metadata": {},
   "outputs": [
    {
     "data": {
      "text/plain": [
       "5.0"
      ]
     },
     "execution_count": 18,
     "metadata": {},
     "output_type": "execute_result"
    }
   ],
   "source": [
    "# tenho que transformar em float\n",
    "float(\"5\")"
   ]
  },
  {
   "cell_type": "code",
   "execution_count": 19,
   "metadata": {},
   "outputs": [
    {
     "data": {
      "text/plain": [
       "float"
      ]
     },
     "execution_count": 19,
     "metadata": {},
     "output_type": "execute_result"
    }
   ],
   "source": [
    "type(float(\"5\"))"
   ]
  },
  {
   "cell_type": "code",
   "execution_count": 20,
   "metadata": {},
   "outputs": [
    {
     "ename": "ValueError",
     "evalue": "could not convert string to float: 'aaa'",
     "output_type": "error",
     "traceback": [
      "\u001b[1;31m---------------------------------------------------------------------------\u001b[0m",
      "\u001b[1;31mValueError\u001b[0m                                Traceback (most recent call last)",
      "\u001b[1;32m<ipython-input-20-20add0084bf4>\u001b[0m in \u001b[0;36m<module>\u001b[1;34m\u001b[0m\n\u001b[0;32m      1\u001b[0m \u001b[1;31m# só não vai tentar transformar algo que não é número em float\u001b[0m\u001b[1;33m\u001b[0m\u001b[1;33m\u001b[0m\u001b[1;33m\u001b[0m\u001b[0m\n\u001b[1;32m----> 2\u001b[1;33m \u001b[0mfloat\u001b[0m\u001b[1;33m(\u001b[0m\u001b[1;34m'aaa'\u001b[0m\u001b[1;33m)\u001b[0m\u001b[1;33m\u001b[0m\u001b[1;33m\u001b[0m\u001b[0m\n\u001b[0m",
      "\u001b[1;31mValueError\u001b[0m: could not convert string to float: 'aaa'"
     ]
    }
   ],
   "source": [
    "# só não vai tentar transformar algo que não é número em float\n",
    "float('aaa')"
   ]
  },
  {
   "cell_type": "markdown",
   "metadata": {},
   "source": [
    "---"
   ]
  },
  {
   "cell_type": "markdown",
   "metadata": {},
   "source": [
    "Na última linha do programa nós formatamos uma string, mas fizemos algo diferente:  \n",
    "Em vez de escrever {área}, escrevemos {área:.2f}. O que isso signifca?  \n",
    "- O símbolo __:__ indica que vamos formatar a variável para que ela seja exibida de determinada forma.  \n",
    "- O número a esquerda do símbolo __.__ indica quantos caracteres, no mínimo, esse número terá.  \n",
    "- O número a direita do símbolo __.__ indica quantas casas decimais o numero terá.  \n",
    "- O símbolo __f__ indica que queremos o padrão \"ponto flutuante\".  \n",
    "- O símbolo __e__ indica que queremos o padrão \"notação científica\".  \n",
    "\n",
    "Veja esses exemplos:"
   ]
  },
  {
   "cell_type": "code",
   "execution_count": 21,
   "metadata": {},
   "outputs": [
    {
     "name": "stdout",
     "output_type": "stream",
     "text": [
      "A área do retângulo mede 1364.7888884211231m².\n",
      "A área do retângulo mede 1364.788888m².\n",
      "A área do retângulo mede 1.364789e+03m².\n",
      "A área do retângulo mede 1364.79m².\n",
      "A área do retângulo mede 1364.78889m².\n",
      "A área do retângulo mede   1364.78889m².\n",
      "A área do retângulo mede              1364.79m².\n",
      "A área do retângulo mede 1364.789m².\n"
     ]
    }
   ],
   "source": [
    "área = 1364.78888842112312313123124444\n",
    "print(f\"A área do retângulo mede {área}m².\")\n",
    "print(f\"A área do retângulo mede {área:f}m².\") # padrão ponto flutuante\n",
    "print(f\"A área do retângulo mede {área:e}m².\") # padrão notação científica\n",
    "print(f\"A área do retângulo mede {área:.2f}m².\") # limita para 2 casas decimais\n",
    "print(f\"A área do retângulo mede {área:.5f}m².\") # limita para 5 casas decimais\n",
    "print(f\"A área do retângulo mede {área:12.5f}m².\") # \"reserva\" 12 caracteres, deixa um espaço em branco caso o número possua menos caracteres\n",
    "print(f\"A área do retângulo mede {área:20.2f}m².\") # \"reserva\" 20 caracteres, deixa um espaço em branco caso o número possua menos caracteres\n",
    "print(f\"A área do retângulo mede {área:5.3f}m².\") # \"reserva\" 5 caracteres, não há espaços em branco porque o número possui mais do que 5 caracteres"
   ]
  },
  {
   "cell_type": "markdown",
   "metadata": {},
   "source": [
    "---"
   ]
  },
  {
   "cell_type": "markdown",
   "metadata": {},
   "source": [
    "# 04 - Preço do pedido\n",
    "Uma feira vende pastéis e refrigerantes.  \n",
    "Cada pastel é vendido por 8 reais.  \n",
    "Cada refrigerante é vendido por 5 reais.  \n",
    "Escreva um programa que coleta quantos pasteis e refrigerantes o usuário deseja e retorne o preço total do pedido.  \n",
    "\n",
    "__Exemplo de input:__  \n",
    " 3   \n",
    " 1\n",
    "\n",
    "__Exemplo de output:__  \n",
    "O total do seu pedido é R$ 29,00"
   ]
  },
  {
   "cell_type": "markdown",
   "metadata": {},
   "source": [
    "#### Solução\n",
    "Além de usar as funções input, print e transformar o input do usuário em int, nesse exercício nós usamos uma biblioteca para formatar valores em Reais (R$)"
   ]
  },
  {
   "cell_type": "code",
   "execution_count": 22,
   "metadata": {},
   "outputs": [
    {
     "name": "stdin",
     "output_type": "stream",
     "text": [
      "Quantos pastéis você deseja? 3\n",
      "Quantos refrigerantes você deseja? 1\n"
     ]
    },
    {
     "name": "stdout",
     "output_type": "stream",
     "text": [
      "O total do seu pedido é R$ 29,00.\n"
     ]
    }
   ],
   "source": [
    "import locale\n",
    "\n",
    "locale.setlocale(locale.LC_ALL, \"pt_br\")\n",
    "# Se o seu windows estiver em português utilize esse código:\n",
    "# locale.setlocale(locale.LC_ALL, \"\")\n",
    "\n",
    "PREÇO_PASTEL = 8.0\n",
    "PREÇO_REFRIGERANTE = 5.0\n",
    "\n",
    "quantidade_pastéis = int(input(\"Quantos pastéis você deseja?\"))\n",
    "quantidade_refrigerantes = int(input(\"Quantos refrigerantes você deseja?\"))\n",
    "\n",
    "preço_do_pedido = quantidade_pastéis * PREÇO_PASTEL + quantidade_refrigerantes * PREÇO_REFRIGERANTE\n",
    "\n",
    "preço_do_pedido_em_reais = locale.currency(preço_do_pedido, grouping=True)\n",
    "\n",
    "print(f\"O total do seu pedido é {preço_do_pedido_em_reais}.\")"
   ]
  },
  {
   "cell_type": "markdown",
   "metadata": {},
   "source": [
    "---"
   ]
  },
  {
   "cell_type": "markdown",
   "metadata": {},
   "source": [
    "Usamos a biblioteca locale para lidar com certas questões culturais nos nossos programas sem precisar saber todas as especificidades de cada país onde nosso código é executado.  \n",
    "No caso desse exercício, usamos essa biblioteca para exibir um número como reais (por exemplo R$ 1.000,00).  \n",
    "Veja os exemplos abaixo:"
   ]
  },
  {
   "cell_type": "code",
   "execution_count": 23,
   "metadata": {},
   "outputs": [
    {
     "name": "stdout",
     "output_type": "stream",
     "text": [
      "5.000,00 €\n",
      "$5,000.00\n",
      "£5,000.00\n",
      "R$ 5.000,00\n"
     ]
    }
   ],
   "source": [
    "# Esse código foi escrito usando funcionalidades do Python que talvez você não conheça.\n",
    "# Não se preocupe se você não entendê-lo agora.  \n",
    "# O objetivo é mostrar a funcionalidade da biblioteca locale.\n",
    "\n",
    "locales = [\"de_de\", \"en_us\", \"en_gb\", \"pt_br\"]\n",
    "for language in locales:\n",
    "    locale.setlocale(locale.LC_ALL, language)\n",
    "    print(locale.currency(5000, grouping=True))"
   ]
  },
  {
   "cell_type": "markdown",
   "metadata": {},
   "source": [
    "Resumindo: A gente não precisa escrever código para lidar com cada moeda existente no mundo, podemos usar a biblioteca locale."
   ]
  },
  {
   "cell_type": "markdown",
   "metadata": {},
   "source": [
    "---"
   ]
  },
  {
   "cell_type": "markdown",
   "metadata": {},
   "source": [
    "O que o parâmetro grouping faz?"
   ]
  },
  {
   "cell_type": "code",
   "execution_count": 24,
   "metadata": {},
   "outputs": [
    {
     "name": "stdout",
     "output_type": "stream",
     "text": [
      "R$ 5000,00\n"
     ]
    }
   ],
   "source": [
    "# grouping=False\n",
    "print(locale.currency(5000))"
   ]
  },
  {
   "cell_type": "code",
   "execution_count": 25,
   "metadata": {},
   "outputs": [
    {
     "name": "stdout",
     "output_type": "stream",
     "text": [
      "R$ 5.000,00\n"
     ]
    }
   ],
   "source": [
    "print(locale.currency(5000, grouping=True))"
   ]
  },
  {
   "cell_type": "markdown",
   "metadata": {},
   "source": [
    "---"
   ]
  },
  {
   "cell_type": "markdown",
   "metadata": {},
   "source": [
    "__Constantes:__  \n",
    "Repare que no nosso programa nós nomeamos duas variáveis com letras maiúsculas, __PREÇO_PASTEL__ e __PREÇO_REFRIGERANTE__.  \n",
    "Fizemos isso porque seguimos o guia de estilo do Python (PEP 8), esse guia diz (dentre outras coisas) que constantes devem ser nomeadas dessa forma.  \n",
    "Essas duas variáveis são chamadas constantes porque nós atribuímos um valor a elas uma vez, sempre que o programa é executado elas continuam tendo o mesmo valor (diferente dos valores que o usuário digita que podem variar) e nós não substituímos seu valor durante a execução do programa.  \n",
    "Por fim, o nome \"variável constante\" pode parecer estranho, talvez você pense \"se é variável não pode ser constante, tem que variar\", mas não é bem assim. Se você pensar que variáveis no Python funcionam como rótulos para valores, ou como nomes para valores, então uma variável constante é simplesmente um rótulo constante para um valor, ou um nome constante para um valor."
   ]
  },
  {
   "cell_type": "markdown",
   "metadata": {},
   "source": [
    "---"
   ]
  },
  {
   "cell_type": "markdown",
   "metadata": {},
   "source": [
    "# 05 - Bônus e aumento salarial\n",
    "Os funcionários de uma empresa receberão um aumento salarial de 5% e um bônus no fim do ano equivalente a 20% do novo salário.  \n",
    "Escreva um programa que recebe o salário atual de um funcionário e retorna:\n",
    "- O seu novo salário\n",
    "- O seu bônus de fim de ano\n",
    "- Quanto ele vai receber em um ano de trabalho + bônus\n",
    "\n",
    "__Exemplo de input:__  \n",
    "10000\n",
    "\n",
    "__Exemplo de output:__  \n",
    "O seu novo salário é R$ 10.500,00.\n",
    "\n",
    "O seu bônus será de R$ 2.100,00.\n",
    "\n",
    "Em 12 meses de trabalho você receberá R$ 128.100,00 em salários e bônus. "
   ]
  },
  {
   "cell_type": "markdown",
   "metadata": {},
   "source": [
    "#### Solução\n",
    "Esse exercício é bem parecido com o anterior: Devemos usar as funções input e print, transformar o input do usuário em float e usar uma biblioteca para formatar valores em Reais (R$), "
   ]
  },
  {
   "cell_type": "code",
   "execution_count": 26,
   "metadata": {},
   "outputs": [
    {
     "name": "stdin",
     "output_type": "stream",
     "text": [
      "Insira o seu salário: 10000\n"
     ]
    },
    {
     "name": "stdout",
     "output_type": "stream",
     "text": [
      "O seu novo salário é R$ 10.500,00.\n",
      "O seu bônus será de R$ 2.100,00.\n",
      "Em 12 meses de trabalho você receberá R$ 128.100,00 em salários e bônus.\n"
     ]
    }
   ],
   "source": [
    "import locale\n",
    "\n",
    "locale.setlocale(locale.LC_ALL, \"pt_br\")\n",
    "# Se o seu windows estiver em português utilize esse código:\n",
    "# locale.setlocale(locale.LC_ALL, \"\")\n",
    "\n",
    "TAXA_AUMENTO = 0.05\n",
    "TAXA_BÔNUS = 0.2\n",
    "MESES_DE_TRABALHO = 12\n",
    "\n",
    "salario_atual = float(input(\"Insira o seu salário:\"))\n",
    "\n",
    "novo_salario = salario_atual * (1 + TAXA_AUMENTO)\n",
    "bônus_fim_de_ano = novo_salario * TAXA_BÔNUS\n",
    "total_recebido = novo_salario * MESES_DE_TRABALHO + bônus_fim_de_ano\n",
    "\n",
    "print(f\"O seu novo salário é {locale.currency(novo_salario, grouping=True)}.\")\n",
    "print(f\"O seu bônus será de {locale.currency(bônus_fim_de_ano, grouping=True)}.\")\n",
    "print(\n",
    "    (\n",
    "        f\"Em {MESES_DE_TRABALHO} meses de trabalho você receberá \"\n",
    "        f\"{locale.currency(total_recebido, grouping=True)} em salários e bônus.\"\n",
    "    )\n",
    ")"
   ]
  },
  {
   "cell_type": "markdown",
   "metadata": {},
   "source": [
    "---"
   ]
  },
  {
   "cell_type": "markdown",
   "metadata": {},
   "source": [
    "# 06 - Matemática: Área do trapézio\n",
    "Escreva um programa que pede para o usuário digitar as bases e a altura de um trapézio (em centímetros ou metros) e retorna a área desse trapézio.\n",
    "\n",
    "__Exemplo de input:__  \n",
    " 3   \n",
    " 6  \n",
    " 4\n",
    "\n",
    "__Exemplo de output:__  \n",
    "A área do trapézio mede 18.00m²."
   ]
  },
  {
   "cell_type": "markdown",
   "metadata": {},
   "source": [
    "#### Solução\n",
    "Esse exercício é bem parecido com os anteriores, só não envolve moeda: Devemos usar as funções input e print e transformar o input do usuário em float.  \n",
    "Uma novidade nesse exercício é que precisamos usar parênteses na hora de calcular a área, caso contrário teremos um resultado errado."
   ]
  },
  {
   "cell_type": "code",
   "execution_count": 27,
   "metadata": {},
   "outputs": [
    {
     "name": "stdin",
     "output_type": "stream",
     "text": [
      "Insira o valor de uma das bases do trapézio em metros: 3\n",
      "Insira o valor da outra base do trapézio em metros: 6\n",
      "Insira o valor da altura do trapézio em metros: 4\n"
     ]
    },
    {
     "name": "stdout",
     "output_type": "stream",
     "text": [
      "A área do trapézio mede 18.00m².\n"
     ]
    }
   ],
   "source": [
    "base_maior = float(input(\"Insira o valor de uma das bases do trapézio em metros:\"))\n",
    "base_menor = float(input(\"Insira o valor da outra base do trapézio em metros:\"))\n",
    "altura = float(input(\"Insira o valor da altura do trapézio em metros:\"))\n",
    "\n",
    "área = (base_maior + base_menor) * altura / 2\n",
    "\n",
    "print(f\"A área do trapézio mede {área:.2f}m².\")"
   ]
  },
  {
   "cell_type": "markdown",
   "metadata": {},
   "source": [
    "---"
   ]
  },
  {
   "cell_type": "markdown",
   "metadata": {},
   "source": [
    "Compare:"
   ]
  },
  {
   "cell_type": "code",
   "execution_count": 28,
   "metadata": {},
   "outputs": [
    {
     "data": {
      "text/plain": [
       "10.5"
      ]
     },
     "execution_count": 28,
     "metadata": {},
     "output_type": "execute_result"
    }
   ],
   "source": [
    "área = (5 + 2) * 3 / 2\n",
    "área"
   ]
  },
  {
   "cell_type": "code",
   "execution_count": 29,
   "metadata": {},
   "outputs": [
    {
     "data": {
      "text/plain": [
       "8.0"
      ]
     },
     "execution_count": 29,
     "metadata": {},
     "output_type": "execute_result"
    }
   ],
   "source": [
    "área = 5 + 2 * 3 / 2\n",
    "área"
   ]
  },
  {
   "cell_type": "markdown",
   "metadata": {},
   "source": [
    "---"
   ]
  },
  {
   "cell_type": "markdown",
   "metadata": {},
   "source": [
    "# 07 - Simulação de investimento\n",
    "Escreva um programa que pede para o usuário digitar quanto ele deseja investir em um investimento que rende 6% ao ano.  \n",
    "Os rendimentos são pagos sempre no final do ano.  \n",
    "Exiba o saldo parcial de cada ano até o quinto ano.\n",
    "\n",
    "__Exemplo de input:__  \n",
    "10000\n",
    "\n",
    "__Exemplo de output:__  \n",
    "Saldo após um ano: R\\$ 10.600,00  \n",
    "\n",
    "Saldo após dois anos: R\\$ 11.236,00  \n",
    "\n",
    "Saldo após três anos: R\\$ 11.910,16  \n",
    "\n",
    "Saldo após quatro anos: R\\$ 12.624,77  \n",
    "\n",
    "Saldo após cinco anos: R\\$ 13.382,26  "
   ]
  },
  {
   "cell_type": "markdown",
   "metadata": {},
   "source": [
    "#### Solução\n",
    "Esse exercício é interessante. Nós repetimos muitas vezes o mesmo código, isso é um grande indicador de que podemos reescrever o código utilizando for ou while. Se você já aprendeu esses conceitos, vá em frente e tente usá-los, caso contrário sua solução ficará parecida com o código abaixo:"
   ]
  },
  {
   "cell_type": "code",
   "execution_count": 30,
   "metadata": {},
   "outputs": [
    {
     "name": "stdin",
     "output_type": "stream",
     "text": [
      "Quanto você deseja investir (em reais)? 10000\n"
     ]
    },
    {
     "name": "stdout",
     "output_type": "stream",
     "text": [
      "Saldo após um ano: R$ 10.600,00\n",
      "Saldo após dois anos: R$ 11.236,00\n",
      "Saldo após três anos: R$ 11.910,16\n",
      "Saldo após quatro anos: R$ 12.624,77\n",
      "Saldo após cinco anos: R$ 13.382,26\n"
     ]
    }
   ],
   "source": [
    "import locale\n",
    "\n",
    "locale.setlocale(locale.LC_ALL, \"pt_br\")\n",
    "# Se o seu windows estiver em português utilize esse código:\n",
    "# locale.setlocale(locale.LC_ALL, \"\")\n",
    "\n",
    "RENDIMENTO = 0.06\n",
    "\n",
    "saldo_inicial = float(input(\"Quanto você deseja investir (em reais)?\"))\n",
    "\n",
    "saldo_um_ano = saldo_inicial * (1 + RENDIMENTO)\n",
    "saldo_dois_anos = saldo_um_ano * (1 + RENDIMENTO)\n",
    "saldo_três_anos = saldo_dois_anos * (1 + RENDIMENTO)\n",
    "saldo_quatro_anos = saldo_três_anos * (1 + RENDIMENTO)\n",
    "saldo_cinco_anos = saldo_quatro_anos * (1 + RENDIMENTO)\n",
    "\n",
    "print(f\"Saldo após um ano: {locale.currency(saldo_um_ano, grouping=True)}\")\n",
    "print(f\"Saldo após dois anos: {locale.currency(saldo_dois_anos, grouping=True)}\")\n",
    "print(f\"Saldo após três anos: {locale.currency(saldo_três_anos, grouping=True)}\")\n",
    "print(f\"Saldo após quatro anos: {locale.currency(saldo_quatro_anos, grouping=True)}\")\n",
    "print(f\"Saldo após cinco anos: {locale.currency(saldo_cinco_anos, grouping=True)}\")"
   ]
  },
  {
   "cell_type": "markdown",
   "metadata": {},
   "source": [
    "---"
   ]
  },
  {
   "cell_type": "markdown",
   "metadata": {},
   "source": [
    "# 08 - Caixas de remédio\n",
    "Minha cachorra precisa tomar 1,6ml de um remédio todos os dias.  Uma caixa desse remédio vem com um frasco de 20ml.  \n",
    "Escreva um programa que me diga quantas caixas de remédio eu devo comprar para um tratamento de $n$ meses, sendo $n$ um número inteiro.\n",
    "\n",
    "__Exemplo de input:__  \n",
    " 3\n",
    "\n",
    "__Exemplo de output:__  \n",
    "Você deve comprar 8 caixas de remédio."
   ]
  },
  {
   "cell_type": "markdown",
   "metadata": {},
   "source": [
    "#### Solução\n",
    "A novidade nesse exercício é o uso da biblioteca math e da função ceil."
   ]
  },
  {
   "cell_type": "code",
   "execution_count": 31,
   "metadata": {},
   "outputs": [
    {
     "name": "stdin",
     "output_type": "stream",
     "text": [
      "O tratamento vai durar quantos meses? 3\n"
     ]
    },
    {
     "name": "stdout",
     "output_type": "stream",
     "text": [
      "Você deve comprar 8 caixas de remédio.\n"
     ]
    }
   ],
   "source": [
    "import math\n",
    "\n",
    "DOSE_DIÁRIA = 1.6\n",
    "TOTAL_NO_FRASCO = 20.0\n",
    "DIAS_EM_UM_MÊS = 30.5\n",
    "\n",
    "meses_de_tratamento = int(input(\"O tratamento vai durar quantos meses?\"))\n",
    "\n",
    "dias_de_tratamento = DIAS_EM_UM_MÊS * meses_de_tratamento\n",
    "caixas_a_comprar = math.ceil(DOSE_DIÁRIA * dias_de_tratamento / TOTAL_NO_FRASCO)\n",
    "\n",
    "print(f\"Você deve comprar {caixas_a_comprar} caixas de remédio.\")"
   ]
  },
  {
   "cell_type": "markdown",
   "metadata": {},
   "source": [
    "---"
   ]
  },
  {
   "cell_type": "markdown",
   "metadata": {},
   "source": [
    "Utilizamos a função __ceil__ para arredondar um valor para cima:"
   ]
  },
  {
   "cell_type": "code",
   "execution_count": 32,
   "metadata": {},
   "outputs": [
    {
     "data": {
      "text/plain": [
       "7"
      ]
     },
     "execution_count": 32,
     "metadata": {},
     "output_type": "execute_result"
    }
   ],
   "source": [
    "math.ceil(6.2)"
   ]
  },
  {
   "cell_type": "markdown",
   "metadata": {},
   "source": [
    "É importante fazer essa operação porque nós não podemos comprar 6.2 caixas de remédio na farmácia, temos que comprar 7."
   ]
  },
  {
   "cell_type": "markdown",
   "metadata": {},
   "source": [
    "---"
   ]
  },
  {
   "cell_type": "markdown",
   "metadata": {},
   "source": [
    "# 09 - Matemática: Área do círculo\n",
    "Escreva um programa que pede para o usuário digitar o raio de um círculo (em centímetros ou metros) e retorna a área desse círculo.\n",
    "\n",
    "__Exemplo de input:__  \n",
    " 5   \n",
    " \n",
    "\n",
    "__Exemplo de output:__  \n",
    "A área do círculo mede 78.54m²."
   ]
  },
  {
   "cell_type": "markdown",
   "metadata": {},
   "source": [
    "#### Solução\n",
    "A biblioteca math possui funções e constantes, nesse exercício usamos o valor de $\\pi$ para calcular a área do círculo."
   ]
  },
  {
   "cell_type": "code",
   "execution_count": 33,
   "metadata": {},
   "outputs": [
    {
     "name": "stdin",
     "output_type": "stream",
     "text": [
      "Insira o valor do raio do círculo em metros: 5\n"
     ]
    },
    {
     "name": "stdout",
     "output_type": "stream",
     "text": [
      "A área do círculo mede 78.54m².\n"
     ]
    }
   ],
   "source": [
    "import math\n",
    "\n",
    "r = float(input(\"Insira o valor do raio do círculo em metros:\"))\n",
    "\n",
    "área = math.pi * r ** 2\n",
    "\n",
    "print(f\"A área do círculo mede {área:.2f}m².\")"
   ]
  },
  {
   "cell_type": "markdown",
   "metadata": {},
   "source": [
    "---"
   ]
  },
  {
   "cell_type": "markdown",
   "metadata": {},
   "source": [
    "# 10 - Dias, horas e minutos -> segundos\n",
    "Escreva um programa que recebe do usuário três valores:  \n",
    "- Quantidade de dias\n",
    "- Quantidade de horas\n",
    "- Quantidade de minutos  \n",
    "\n",
    "O programa deve exibir na tela esses valores em segundos (somados).\n",
    "\n",
    "__Exemplo de input:__  \n",
    " 1  \n",
    " 5  \n",
    " 30 \n",
    "\n",
    "__Exemplo de output:__  \n",
    "Em 1 dia(s), 5 hora(s) e 30 minuto(s) temos 106200 segundo(s)."
   ]
  },
  {
   "cell_type": "markdown",
   "metadata": {},
   "source": [
    "#### Solução\n"
   ]
  },
  {
   "cell_type": "markdown",
   "metadata": {},
   "source": [
    "Sem novidades nesse exercício."
   ]
  },
  {
   "cell_type": "code",
   "execution_count": 34,
   "metadata": {},
   "outputs": [
    {
     "name": "stdin",
     "output_type": "stream",
     "text": [
      "Informe a quantidade de dias: 1\n",
      "Informe a quantidade de horas: 5\n",
      "Informe a quantidade de minutos: 30\n"
     ]
    },
    {
     "name": "stdout",
     "output_type": "stream",
     "text": [
      "Em 1 dia(s), 5 hora(s) e 30 minuto(s) temos 106200 segundo(s).\n"
     ]
    }
   ],
   "source": [
    "SEGUNDOS_EM_UM_MINUTO = 60\n",
    "SEGUNDOS_EM_UMA_HORA = SEGUNDOS_EM_UM_MINUTO * 60\n",
    "SEGUNDOS_EM_UM_DIA = SEGUNDOS_EM_UMA_HORA * 24\n",
    "\n",
    "dias = int(input(\"Informe a quantidade de dias:\"))\n",
    "horas = int(input(\"Informe a quantidade de horas:\"))\n",
    "minutos = int(input(\"Informe a quantidade de minutos:\"))\n",
    "\n",
    "segundos = (\n",
    "    dias * SEGUNDOS_EM_UM_DIA\n",
    "    + horas * SEGUNDOS_EM_UMA_HORA\n",
    "    + minutos * SEGUNDOS_EM_UM_MINUTO\n",
    ")\n",
    "\n",
    "print(\n",
    "    (\n",
    "        f\"Em {dias} dia(s), {horas} hora(s) e {minutos} minuto(s) \"\n",
    "        f\"temos {segundos} segundo(s).\"\n",
    "    )\n",
    ")"
   ]
  },
  {
   "cell_type": "markdown",
   "metadata": {},
   "source": [
    "---"
   ]
  },
  {
   "cell_type": "markdown",
   "metadata": {},
   "source": [
    "# 11 - Segundos -> Dias, horas, minutos e segundos\n",
    "Escreva um programa que recebe um valor em segundos e transforme esse valor em dias, horas, minutos e segundos.\n",
    "\n",
    "__Exemplo de input:__  \n",
    "106201\n",
    "\n",
    "__Exemplo de output:__  \n",
    "106201 segundo(s) equivalem a 1 dia(s), 5 hora(s), 30 minuto(s) e 1 segundo(s)."
   ]
  },
  {
   "cell_type": "markdown",
   "metadata": {},
   "source": [
    "#### Solução\n",
    "Para resolver esse exercício precisamos usar os operadores // e %.  \n",
    "// nos retorna a parte inteira de uma divisão.  \n",
    "% nos retorna o resto de uma divisão.  \n",
    "\n",
    "Esse é outro exercício em que repetimos muito código e ficaria melhor reescrito usando for ou while. Novamente, não se preocupe com isso agora se você ainda não aprendeu esses conceitos."
   ]
  },
  {
   "cell_type": "code",
   "execution_count": 35,
   "metadata": {},
   "outputs": [
    {
     "name": "stdin",
     "output_type": "stream",
     "text": [
      "Informe a quantidade de segundos: 106201\n"
     ]
    },
    {
     "name": "stdout",
     "output_type": "stream",
     "text": [
      "106201 segundo(s) equivale(m) a 1 dia(s), 5 hora(s), 30 minuto(s) e 1 segundo(s).\n"
     ]
    }
   ],
   "source": [
    "SEGUNDOS_EM_UM_MINUTO = 60\n",
    "SEGUNDOS_EM_UMA_HORA = SEGUNDOS_EM_UM_MINUTO * 60\n",
    "SEGUNDOS_EM_UM_DIA = SEGUNDOS_EM_UMA_HORA * 24\n",
    "\n",
    "segundos = int(input(\"Informe a quantidade de segundos:\"))\n",
    "\n",
    "dias = segundos // SEGUNDOS_EM_UM_DIA\n",
    "resto_segundos = segundos % SEGUNDOS_EM_UM_DIA\n",
    "\n",
    "horas = resto_segundos // SEGUNDOS_EM_UMA_HORA\n",
    "resto_segundos = resto_segundos % SEGUNDOS_EM_UMA_HORA\n",
    "\n",
    "minutos = resto_segundos // SEGUNDOS_EM_UM_MINUTO\n",
    "resto_segundos = resto_segundos % SEGUNDOS_EM_UM_MINUTO\n",
    "\n",
    "print(\n",
    "    (\n",
    "        f\"{segundos} segundo(s) equivale(m) a {dias} dia(s), \"\n",
    "        f\"{horas} hora(s), {minutos} minuto(s) e {resto_segundos} segundo(s).\"\n",
    "    )\n",
    ")"
   ]
  },
  {
   "cell_type": "markdown",
   "metadata": {},
   "source": [
    "---"
   ]
  },
  {
   "cell_type": "markdown",
   "metadata": {},
   "source": [
    "Passo a passo:"
   ]
  },
  {
   "cell_type": "code",
   "execution_count": 36,
   "metadata": {},
   "outputs": [],
   "source": [
    "# lembre-se:\n",
    "# 1 dia tem 86400 segundos\n",
    "# 2 dias tem 172800 segundos\n",
    "# então podemos afirmar com certeza que 106201 segundos equivalem a mais do que 1 dia, mas menos do que 2 dias\n",
    "# isso PODE ajudar a entender o exercício."
   ]
  },
  {
   "cell_type": "code",
   "execution_count": 37,
   "metadata": {},
   "outputs": [],
   "source": [
    "# vamos lá:\n",
    "# comecei com 106201 segundos\n",
    "segundos = 106201"
   ]
  },
  {
   "cell_type": "code",
   "execution_count": 38,
   "metadata": {},
   "outputs": [
    {
     "data": {
      "text/plain": [
       "1.2291782407407408"
      ]
     },
     "execution_count": 38,
     "metadata": {},
     "output_type": "execute_result"
    }
   ],
   "source": [
    "# um dia tem 86400 segundos\n",
    "SEGUNDOS_EM_UM_DIA = 86400\n",
    "\n",
    "# se eu dividir a quantidade de segundos pelo total de segundos em um dia, temos:\n",
    "segundos / SEGUNDOS_EM_UM_DIA"
   ]
  },
  {
   "cell_type": "code",
   "execution_count": 39,
   "metadata": {},
   "outputs": [],
   "source": [
    "# isso significa que em 106201 segundos temos 1.2291782407407408 dias\n",
    "# MAS eu não quero minha resposta em dias, eu não estou satisfeito com a resposta 1.2291782407407408 dias"
   ]
  },
  {
   "cell_type": "code",
   "execution_count": 40,
   "metadata": {},
   "outputs": [
    {
     "name": "stdout",
     "output_type": "stream",
     "text": [
      "dias: 1\n",
      "segundos restantes: 19801\n"
     ]
    },
    {
     "data": {
      "text/plain": [
       "5.500277777777778"
      ]
     },
     "execution_count": 40,
     "metadata": {},
     "output_type": "execute_result"
    }
   ],
   "source": [
    "# então eu pego a parte inteira desse resultado\n",
    "dias = segundos // SEGUNDOS_EM_UM_DIA\n",
    "print(f'dias: {dias}')\n",
    "\n",
    "# e o que sobrou dos segundos eu vou dividir pelo total de segundos em uma hora:\n",
    "segundos_restantes = segundos % SEGUNDOS_EM_UM_DIA\n",
    "print(f\"segundos restantes: {segundos_restantes}\")\n",
    "\n",
    "# uma hora tem 3600 segundos\n",
    "SEGUNDOS_EM_UMA_HORA = 3600\n",
    "\n",
    "segundos_restantes / SEGUNDOS_EM_UMA_HORA"
   ]
  },
  {
   "cell_type": "code",
   "execution_count": 41,
   "metadata": {},
   "outputs": [],
   "source": [
    "# isso significa que em 19801 segundos temos 5.500277777777778 horas\n",
    "# MAS, NOVAMENTE, eu não quero minha resposta em dias e horas, eu não estou satisfeito com a resposta 1 dia e 5.500277777777778 horas\n",
    "# eu quero dias, horas, minutos e segundos"
   ]
  },
  {
   "cell_type": "code",
   "execution_count": 42,
   "metadata": {},
   "outputs": [
    {
     "name": "stdout",
     "output_type": "stream",
     "text": [
      "horas: 5\n",
      "segundos restantes: 1801\n"
     ]
    },
    {
     "data": {
      "text/plain": [
       "30.016666666666666"
      ]
     },
     "execution_count": 42,
     "metadata": {},
     "output_type": "execute_result"
    }
   ],
   "source": [
    "# então eu pego a parte inteira desse resultado\n",
    "horas = segundos_restantes // SEGUNDOS_EM_UMA_HORA\n",
    "print(f'horas: {horas}')\n",
    "\n",
    "# e o que sobrou dos segundos eu vou dividir pelo total de segundos em um minuto:\n",
    "segundos_restantes = segundos_restantes % SEGUNDOS_EM_UMA_HORA\n",
    "print(f\"segundos restantes: {segundos_restantes}\")\n",
    "\n",
    "# um minuto tem 60 segundos\n",
    "SEGUNDOS_EM_UM_MINUTO = 60\n",
    "\n",
    "segundos_restantes / SEGUNDOS_EM_UM_MINUTO"
   ]
  },
  {
   "cell_type": "code",
   "execution_count": 43,
   "metadata": {},
   "outputs": [],
   "source": [
    "# isso significa que em 1801 segundos temos 30.016666666666666 minutos\n",
    "# MAS, NOVAMENTE, eu não quero minha resposta em dias, horas e minutos, eu não estou satisfeito com a resposta 1 dia, 5 horas e 30.016666666666666 minutos\n",
    "# eu quero dias, horas, minutos e segundos"
   ]
  },
  {
   "cell_type": "code",
   "execution_count": 44,
   "metadata": {},
   "outputs": [
    {
     "name": "stdout",
     "output_type": "stream",
     "text": [
      "minutos: 30\n",
      "segundos restantes: 1\n"
     ]
    }
   ],
   "source": [
    "# então eu pego a parte inteira desse resultado\n",
    "minutos = segundos_restantes // SEGUNDOS_EM_UM_MINUTO\n",
    "print(f'minutos: {minutos}')\n",
    "\n",
    "# e o que sobrou de segundos não precisa ser manipulado\n",
    "segundos_restantes = segundos_restantes % SEGUNDOS_EM_UM_MINUTO\n",
    "print(f\"segundos restantes: {segundos_restantes}\")"
   ]
  },
  {
   "cell_type": "code",
   "execution_count": 45,
   "metadata": {},
   "outputs": [
    {
     "data": {
      "text/plain": [
       "(1, 5, 30, 1)"
      ]
     },
     "execution_count": 45,
     "metadata": {},
     "output_type": "execute_result"
    }
   ],
   "source": [
    "# agora sim, temos:\n",
    "dias, horas, minutos, segundos_restantes"
   ]
  },
  {
   "cell_type": "code",
   "execution_count": 46,
   "metadata": {},
   "outputs": [],
   "source": [
    "# ou seja, 1 dia, 5 horas, 30 minutos e 1 segundo."
   ]
  },
  {
   "cell_type": "markdown",
   "metadata": {},
   "source": [
    "---"
   ]
  },
  {
   "cell_type": "markdown",
   "metadata": {},
   "source": [
    "# 12 - Temperatura Celsius -> Fahrenheit e Kelvin\n",
    "Escreva um programa que recebe uma temperatura em Celsius e exibe essa temperatura em Fahrenheit e Kelvin.\n",
    "\n",
    "__Exemplo de input:__  \n",
    "25\n",
    "\n",
    "__Exemplo de output:__  \n",
    "25.00° Celsius equivale a 77.00° Fahrenheit e 298.15 Kelvin."
   ]
  },
  {
   "cell_type": "markdown",
   "metadata": {},
   "source": [
    "#### Solução\n",
    "Esse exercício envolve procurar no google a fórmula para essas conversões e escrevê-las como código Python.  "
   ]
  },
  {
   "cell_type": "code",
   "execution_count": 47,
   "metadata": {},
   "outputs": [
    {
     "name": "stdin",
     "output_type": "stream",
     "text": [
      "Insira a temperatura em Celsius: 25\n"
     ]
    },
    {
     "name": "stdout",
     "output_type": "stream",
     "text": [
      "25.00° Celsius equivale a 77.00° Fahrenheit e 298.15 Kelvin.\n"
     ]
    }
   ],
   "source": [
    "temperatura_celsius = float(input(\"Insira a temperatura em Celsius:\"))\n",
    "\n",
    "temperatura_fahrenheit = (temperatura_celsius * 9 / 5) + 32\n",
    "temperatura_kelvin = temperatura_celsius + 273.15\n",
    "\n",
    "print(\n",
    "    (\n",
    "        f\"{temperatura_celsius:.2f}° Celsius equivale a \"\n",
    "        f\"{temperatura_fahrenheit:.2f}° Fahrenheit e \"\n",
    "        f\"{temperatura_kelvin:.2f} Kelvin.\"\n",
    "    )\n",
    ")"
   ]
  },
  {
   "cell_type": "markdown",
   "metadata": {},
   "source": [
    "---"
   ]
  }
 ],
 "metadata": {
  "kernelspec": {
   "display_name": "Python 3",
   "language": "python",
   "name": "python3"
  },
  "language_info": {
   "codemirror_mode": {
    "name": "ipython",
    "version": 3
   },
   "file_extension": ".py",
   "mimetype": "text/x-python",
   "name": "python",
   "nbconvert_exporter": "python",
   "pygments_lexer": "ipython3",
   "version": "3.7.4"
  }
 },
 "nbformat": 4,
 "nbformat_minor": 4
}
