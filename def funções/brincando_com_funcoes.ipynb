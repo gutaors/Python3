{
 "cells": [
  {
   "cell_type": "markdown",
   "id": "24c686fb",
   "metadata": {},
   "source": [
    "faça um código que diga <br>\n",
    "<ul> número é divisível por 3, <br>\n",
    "ou por 5 <br>\n",
    "ou por ambos <br>\n",
    "ou por nenhum dos dois<br>"
   ]
  },
  {
   "cell_type": "code",
   "execution_count": 30,
   "id": "f6b9276c",
   "metadata": {},
   "outputs": [
    {
     "name": "stdout",
     "output_type": "stream",
     "text": [
      "45634 não é divisível \n"
     ]
    }
   ],
   "source": [
    "def verifica(numero):\n",
    "    if numero % 3 == 0:\n",
    "        return 'divisível por 3'\n",
    "    elif numero % 5 == 0:\n",
    "        return 'divisível por 5'\n",
    "    elif numero % 3 == 0 and numero % 5 == 0:\n",
    "        return 'divisível por ambos'\n",
    "    else:\n",
    "        return f'{numero} não é divisível '\n",
    "print(verifica(45634))"
   ]
  },
  {
   "cell_type": "code",
   "execution_count": 33,
   "id": "8be97b5c",
   "metadata": {},
   "outputs": [
    {
     "name": "stdout",
     "output_type": "stream",
     "text": [
      "45634 não é divisível \n"
     ]
    }
   ],
   "source": [
    "def verifica(numero):\n",
    "    if numero % 3 == 0:\n",
    "        return f'{numero} divisível por 3'\n",
    "    elif numero % 5 == 0:\n",
    "        return f'{numero} divisível por 5'\n",
    "    elif numero % 3 == 0 and numero % 5 == 0:\n",
    "        return f'{numero} divisível por ambos'\n",
    "    return f'{numero} não é divisível '\n",
    "print(verifica(45634))"
   ]
  },
  {
   "cell_type": "code",
   "execution_count": 34,
   "id": "93f1b851",
   "metadata": {},
   "outputs": [
    {
     "name": "stdout",
     "output_type": "stream",
     "text": [
      "45634435 divisível por 5\n"
     ]
    }
   ],
   "source": [
    "print(verifica(45634435))"
   ]
  },
  {
   "cell_type": "code",
   "execution_count": null,
   "id": "7889e711",
   "metadata": {},
   "outputs": [],
   "source": [
    "for random import randint"
   ]
  },
  {
   "cell_type": "code",
   "execution_count": 4,
   "id": "b40ca689",
   "metadata": {},
   "outputs": [
    {
     "name": "stdout",
     "output_type": "stream",
     "text": [
      "(1, 3, 5, 9)\n"
     ]
    }
   ],
   "source": [
    "def func(*args):\n",
    "    print (args)\n",
    "func (1, 3, 5, 9)"
   ]
  },
  {
   "cell_type": "code",
   "execution_count": 11,
   "id": "714c2991",
   "metadata": {},
   "outputs": [
    {
     "name": "stdout",
     "output_type": "stream",
     "text": [
      "3 4 5\n"
     ]
    }
   ],
   "source": [
    "lista = [1, 2, 3,  4, 5, 6]\n",
    "n1, n2, *n, n6 = lista\n",
    "print (*n)"
   ]
  },
  {
   "cell_type": "code",
   "execution_count": null,
   "id": "4508fb49",
   "metadata": {},
   "outputs": [],
   "source": []
  }
 ],
 "metadata": {
  "jupytext": {
   "encoding": "# -*- coding: utf-8 -*-",
   "formats": "ipynb,py",
   "main_language": "python"
  },
  "kernelspec": {
   "display_name": "Python 3 (ipykernel)",
   "language": "python",
   "name": "python3"
  },
  "language_info": {
   "codemirror_mode": {
    "name": "ipython",
    "version": 3
   },
   "file_extension": ".py",
   "mimetype": "text/x-python",
   "name": "python",
   "nbconvert_exporter": "python",
   "pygments_lexer": "ipython3",
   "version": "3.9.7"
  }
 },
 "nbformat": 4,
 "nbformat_minor": 5
}
