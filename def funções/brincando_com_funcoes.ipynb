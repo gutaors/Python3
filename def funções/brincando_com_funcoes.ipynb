{
 "cells": [
  {
   "cell_type": "markdown",
   "id": "8608d206",
   "metadata": {},
   "source": [
    "faça um código que diga <br>\n",
    "<ul> número é divisível por 3, <br>\n",
    "ou por 5 <br>\n",
    "ou por ambos <br>\n",
    "ou por nenhum dos dois<br>"
   ]
  },
  {
   "cell_type": "code",
   "execution_count": 30,
   "id": "7099262e",
   "metadata": {},
   "outputs": [
    {
     "name": "stdout",
     "output_type": "stream",
     "text": [
      "45634 não é divisível \n"
     ]
    }
   ],
   "source": [
    "def verifica(numero):\n",
    "    if numero % 3 == 0:\n",
    "        return 'divisível por 3'\n",
    "    elif numero % 5 == 0:\n",
    "        return 'divisível por 5'\n",
    "    elif numero % 3 == 0 and numero % 5 == 0:\n",
    "        return 'divisível por ambos'\n",
    "    else:\n",
    "        return f'{numero} não é divisível '\n",
    "print(verifica(45634))"
   ]
  },
  {
   "cell_type": "code",
   "execution_count": 33,
   "id": "c5c56112",
   "metadata": {},
   "outputs": [
    {
     "name": "stdout",
     "output_type": "stream",
     "text": [
      "45634 não é divisível \n"
     ]
    }
   ],
   "source": [
    "def verifica(numero):\n",
    "    if numero % 3 == 0:\n",
    "        return f'{numero} divisível por 3'\n",
    "    elif numero % 5 == 0:\n",
    "        return f'{numero} divisível por 5'\n",
    "    elif numero % 3 == 0 and numero % 5 == 0:\n",
    "        return f'{numero} divisível por ambos'\n",
    "    return f'{numero} não é divisível '\n",
    "print(verifica(45634))"
   ]
  },
  {
   "cell_type": "code",
   "execution_count": 34,
   "id": "614cbd03",
   "metadata": {},
   "outputs": [
    {
     "name": "stdout",
     "output_type": "stream",
     "text": [
      "45634435 divisível por 5\n"
     ]
    }
   ],
   "source": [
    "print(verifica(45634435))"
   ]
  },
  {
   "cell_type": "code",
   "execution_count": null,
   "id": "7f3912fc",
   "metadata": {},
   "outputs": [],
   "source": []
  },
  {
   "cell_type": "code",
   "execution_count": null,
   "id": "298782bd",
   "metadata": {},
   "outputs": [],
   "source": []
  }
 ],
 "metadata": {
  "kernelspec": {
   "display_name": "Python 3 (ipykernel)",
   "language": "python",
   "name": "python3"
  },
  "language_info": {
   "codemirror_mode": {
    "name": "ipython",
    "version": 3
   },
   "file_extension": ".py",
   "mimetype": "text/x-python",
   "name": "python",
   "nbconvert_exporter": "python",
   "pygments_lexer": "ipython3",
   "version": "3.9.7"
  }
 },
 "nbformat": 4,
 "nbformat_minor": 5
}
