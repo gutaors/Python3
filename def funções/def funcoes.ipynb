{
 "cells": [
  {
   "cell_type": "markdown",
   "id": "508afa2a",
   "metadata": {},
   "source": [
    "# def.py\n"
   ]
  },
  {
   "cell_type": "code",
   "execution_count": 39,
   "id": "5662dd6c",
   "metadata": {},
   "outputs": [
    {
     "name": "stdout",
     "output_type": "stream",
     "text": [
      "olá usuário\n",
      "valor que eu quero\n",
      "nenhum valor\n",
      "2.0\n",
      "1.1 <class 'float'>\n",
      "1.1 <class 'float'>\n"
     ]
    }
   ],
   "source": [
    "#aulas 52 ate 59\n",
    "\n",
    "def saudacao(msg='olá', nome='usuário'):\n",
    "    nome = nome.replace('e','3')\n",
    "    msg = msg.replace('e','3')\n",
    "    return f'{msg} {nome}'\n",
    "\n",
    "\n",
    "\n",
    "variavel = saudacao()\n",
    "print(variavel)\n",
    "\n",
    "saudacao(nome = 'zezinho', msg='oi')\n",
    "saudacao('oi', 'luiz')\n",
    "saudacao('hello', 'maria')\n",
    "saudacao('olá', 'otavio')\n",
    "saudacao('olá', 'joão')\n",
    "\n",
    "def funcao(var):\n",
    "    print(var)\n",
    "\n",
    "variavel = funcao('valor que eu quero')\n",
    "\n",
    "if variavel:\n",
    "    print(variavel)\n",
    "else:\n",
    "    print('nenhum valor')\n",
    "\n",
    "\n",
    "def divisao(n1, n2):\n",
    "    if n2 == 0: \n",
    "        return\n",
    "    \n",
    "    return n1 / n2\n",
    "\n",
    "divide = divisao(8, 4)\n",
    "\n",
    "if divide:\n",
    "    print(divide)\n",
    "else:\n",
    "    print(\"conta inválida\")\n",
    "\n",
    "\n",
    "def dumb():\n",
    "    return 1.1\n",
    "\n",
    "var = dumb()\n",
    "print(var,type(var))\n",
    "print(dumb(), type(dumb()))\n"
   ]
  },
  {
   "cell_type": "code",
   "execution_count": 36,
   "id": "1f1eebad",
   "metadata": {},
   "outputs": [
    {
     "name": "stdout",
     "output_type": "stream",
     "text": [
      "2.0\n"
     ]
    }
   ],
   "source": [
    "def divisao(n1, n2):\n",
    "    if n2 == 0: \n",
    "        return\n",
    "    \n",
    "    return n1 / n2\n",
    "\n",
    "divide = divisao(8, 4)\n",
    "\n",
    "if divide:\n",
    "    print(divide)\n",
    "else:\n",
    "    print(\"conta inválida\")"
   ]
  },
  {
   "cell_type": "code",
   "execution_count": 31,
   "id": "9d52d09a",
   "metadata": {},
   "outputs": [],
   "source": [
    "\n",
    "def saudacao(msg='olá', nome='usuário'):\n",
    "    nome = nome.replace('e','3')\n",
    "    nome = nome.replace('a','@')\n",
    "    msg = msg.replace('e','3')\n",
    "    return f'{msg} {nome}'\n"
   ]
  },
  {
   "cell_type": "code",
   "execution_count": 32,
   "id": "b5a897f6",
   "metadata": {},
   "outputs": [
    {
     "data": {
      "text/plain": [
       "'oi f3ll@'"
      ]
     },
     "execution_count": 32,
     "metadata": {},
     "output_type": "execute_result"
    }
   ],
   "source": [
    "saudacao(\"oi\",\"fella\")"
   ]
  },
  {
   "cell_type": "markdown",
   "id": "f06c2199",
   "metadata": {},
   "source": [
    " # def args kwargs\n",
    " "
   ]
  },
  {
   "cell_type": "code",
   "execution_count": 2,
   "id": "b961b8d0",
   "metadata": {},
   "outputs": [
    {
     "ename": "IndentationError",
     "evalue": "unexpected indent (Temp/ipykernel_18120/2495808816.py, line 18)",
     "output_type": "error",
     "traceback": [
      "\u001b[1;36m  File \u001b[1;32m\"C:\\Users\\SEGES\\AppData\\Local\\Temp/ipykernel_18120/2495808816.py\"\u001b[1;36m, line \u001b[1;32m18\u001b[0m\n\u001b[1;33m    def ola_mundo():\u001b[0m\n\u001b[1;37m    ^\u001b[0m\n\u001b[1;31mIndentationError\u001b[0m\u001b[1;31m:\u001b[0m unexpected indent\n"
     ]
    }
   ],
   "source": [
    "#aula 59\n",
    "\"\"\"\n",
    "1 - Crie uma função1 que recebe uma função2 como parâmetro e retorne o valor da\n",
    "função2 executada.\n",
    "\"\"\"\n",
    "\n",
    "# def ola_mundo():\n",
    "#     return 'Olá mundo!'\n",
    "#\n",
    "#\n",
    "# def mestre(funcao):\n",
    "#     return funcao()\n",
    "#\n",
    "#\n",
    "# print(ola_mundo())\n",
    "\n",
    "# minha versão\n",
    " def ola_mundo():\n",
    "     return 'Olá mundo!'\n",
    "\n",
    "\n",
    " def funcao1(funcao2):\n",
    "     return funcao2()\n",
    "\n",
    "\n",
    " print(ola_mundo())\n",
    "\n",
    "\"\"\"\n",
    "2 - Crie uma função1 que recebe uma função2 como parâmetro e retorne o valor da\n",
    "função2 executada. Faça a função1 executar duas funções que recebam um número \n",
    "diferente de argumentos.\n",
    "\"\"\"\n",
    "\n",
    "#primeiro faco uma def que recebe nomefunc, args e kwargs\n",
    "# e que return nomefunc(args kwargs)\n",
    "def mestre(funcao, *args, **kwargs):\n",
    "    return funcao(*args, **kwargs)\n",
    "\n",
    "#depois crio uma def com nomefunc(arg)\n",
    "#   e que return um f'{}\n",
    "def fala_oi(nome):\n",
    "    return f'Oi {nome}'\n",
    "\n",
    "#por ultimo faco outra que recebe dois args e retorna ambos\n",
    "def saudacao(nome, saudacao):\n",
    "    return f'{saudacao} {nome}'\n",
    "\n",
    "\n",
    "executando = mestre(fala_oi, 'Luiz')\n",
    "executando2 = mestre(saudacao, 'Luiz', saudacao='Bom dia!')\n",
    "print(executando)\n",
    "print(executando2)\n"
   ]
  },
  {
   "cell_type": "code",
   "execution_count": null,
   "id": "30d3dcaf",
   "metadata": {},
   "outputs": [],
   "source": []
  },
  {
   "cell_type": "markdown",
   "id": "cf3e66fe",
   "metadata": {},
   "source": [
    "# exer funcoes"
   ]
  },
  {
   "cell_type": "code",
   "execution_count": 3,
   "id": "f30e6194",
   "metadata": {},
   "outputs": [
    {
     "ename": "IndentationError",
     "evalue": "unexpected indent (Temp/ipykernel_18120/2495808816.py, line 18)",
     "output_type": "error",
     "traceback": [
      "\u001b[1;36m  File \u001b[1;32m\"C:\\Users\\SEGES\\AppData\\Local\\Temp/ipykernel_18120/2495808816.py\"\u001b[1;36m, line \u001b[1;32m18\u001b[0m\n\u001b[1;33m    def ola_mundo():\u001b[0m\n\u001b[1;37m    ^\u001b[0m\n\u001b[1;31mIndentationError\u001b[0m\u001b[1;31m:\u001b[0m unexpected indent\n"
     ]
    }
   ],
   "source": [
    "#aula 59\n",
    "\"\"\"\n",
    "1 - Crie uma função1 que recebe uma função2 como parâmetro e retorne o valor da\n",
    "função2 executada. (preste atenção na palavra retorne = return)\n",
    "\"\"\"\n",
    "\n",
    "# def ola_mundo():\n",
    "#     return 'Olá mundo!'\n",
    "#\n",
    "#\n",
    "# def mestre(funcao):\n",
    "#     return funcao()\n",
    "#\n",
    "#\n",
    "# print(ola_mundo())\n",
    "\n",
    "# minha versão\n",
    " def ola_mundo():\n",
    "     return 'Olá mundo!'\n",
    "\n",
    "\n",
    " def funcao1(funcao2):\n",
    "     return funcao2()\n",
    "\n",
    "\n",
    " print(ola_mundo())\n",
    "\n",
    "\"\"\"\n",
    "2 - Crie uma função1 que recebe uma função2 como parâmetro e retorne o valor da\n",
    "função2 executada. Faça a função1 executar duas funções que recebam um número \n",
    "diferente de argumentos.\n",
    "\"\"\"\n",
    "\n",
    "#primeiro faco uma def que recebe nomefunc, args e kwargs\n",
    "# e que return nomefunc(args kwargs)\n",
    "def mestre(funcao, *args, **kwargs):\n",
    "    return funcao(*args, **kwargs)\n",
    "\n",
    "#depois crio uma def com nomefunc(arg)\n",
    "#   e que return um f'{}\n",
    "def fala_oi(nome):\n",
    "    return f'Oi {nome}'\n",
    "\n",
    "#por ultimo faco outra que recebe dois args e retorna ambos\n",
    "def saudacao(nome, saudacao):\n",
    "    return f'{saudacao} {nome}'\n",
    "\n",
    "\n",
    "executando = mestre(fala_oi, 'Luiz')\n",
    "executando2 = mestre(saudacao, 'Luiz', saudacao='Bom dia!')\n",
    "print(executando)\n",
    "print(executando2)\n"
   ]
  },
  {
   "cell_type": "code",
   "execution_count": 9,
   "id": "f24bbb60",
   "metadata": {},
   "outputs": [
    {
     "name": "stdout",
     "output_type": "stream",
     "text": [
      "Olá mundo!\n"
     ]
    }
   ],
   "source": [
    "# minha versão\n",
    "def funcao_q_vou_chamar():\n",
    "     return 'Olá mundo!'\n",
    "\n",
    "\n",
    "def chamaoutra(funcao2):\n",
    "     return funcao2()\n",
    "\n",
    "\n",
    "#print(ola_mundo())\n",
    "print(chamaoutra(funcao_q_vou_chamar))"
   ]
  },
  {
   "cell_type": "code",
   "execution_count": null,
   "id": "e60341c0",
   "metadata": {},
   "outputs": [],
   "source": []
  }
 ],
 "metadata": {
  "kernelspec": {
   "display_name": "Python 3 (ipykernel)",
   "language": "python",
   "name": "python3"
  },
  "language_info": {
   "codemirror_mode": {
    "name": "ipython",
    "version": 3
   },
   "file_extension": ".py",
   "mimetype": "text/x-python",
   "name": "python",
   "nbconvert_exporter": "python",
   "pygments_lexer": "ipython3",
   "version": "3.9.7"
  }
 },
 "nbformat": 4,
 "nbformat_minor": 5
}
