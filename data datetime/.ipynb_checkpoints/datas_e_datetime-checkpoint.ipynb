{
 "cells": [
  {
   "cell_type": "code",
   "execution_count": 2,
   "id": "ec06d7c6",
   "metadata": {},
   "outputs": [
    {
     "name": "stdout",
     "output_type": "stream",
     "text": [
      "20/04/2019 10:53:20\n"
     ]
    }
   ],
   "source": [
    "from datetime import datetime, timedelta \n",
    "data = datetime(2019, 4, 20, 10, 53, 20)\n",
    "print(data.strftime('%d/%m/%Y %H:%M:%S')) \n",
    "# ele chama os % acima de diretivas, note que yY maiiúsculo é ano com 4 dígitos\n",
    "# para saber quais são os parâmetros, olhar em https://docs.python.org/2/library/datetime.html\n",
    "\n",
    "\n"
   ]
  },
  {
   "cell_type": "code",
   "execution_count": null,
   "id": "abdfb6c5",
   "metadata": {},
   "outputs": [],
   "source": []
  }
 ],
 "metadata": {
  "kernelspec": {
   "display_name": "Python 3 (ipykernel)",
   "language": "python",
   "name": "python3"
  },
  "language_info": {
   "codemirror_mode": {
    "name": "ipython",
    "version": 3
   },
   "file_extension": ".py",
   "mimetype": "text/x-python",
   "name": "python",
   "nbconvert_exporter": "python",
   "pygments_lexer": "ipython3",
   "version": "3.9.7"
  }
 },
 "nbformat": 4,
 "nbformat_minor": 5
}
