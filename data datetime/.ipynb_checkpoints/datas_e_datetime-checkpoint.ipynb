{
 "cells": [
  {
   "cell_type": "markdown",
   "id": "d531428b",
   "metadata": {},
   "source": [
    "# Aula 130"
   ]
  },
  {
   "cell_type": "code",
   "execution_count": 10,
   "id": "e55914a6",
   "metadata": {},
   "outputs": [
    {
     "name": "stdout",
     "output_type": "stream",
     "text": [
      "20/04/2019 10:53:20\n",
      "1555729200.0\n",
      "2019-04-20 00:00:00\n",
      "2019-04-20 00:00:00\n"
     ]
    }
   ],
   "source": [
    "from datetime import datetime, timedelta \n",
    "data = datetime(2019, 4, 20, 10, 53, 20)\n",
    "print(data.strftime('%d/%m/%Y %H:%M:%S')) \n",
    "# ele chama os % acima de diretivas, note que yY maiiúsculo é ano com 4 dígitos\n",
    "# para saber quais são os parâmetros, olhar em https://docs.python.org/2/library/datetime.html\n",
    "\n",
    "data = datetime.strptime('20/04/2019', '%d/%m/%Y')\n",
    "print(data.timestamp())\n",
    "print(datetime.fromtimestamp(data.timestamp()))\n",
    "print(data)\n",
    "\n"
   ]
  },
  {
   "cell_type": "code",
   "execution_count": 13,
   "id": "4368e434",
   "metadata": {},
   "outputs": [],
   "source": [
    "d1 = datetime.strptime('20/04/1987 20:00:00', '%d/%m/%Y %H:%M:%S')\n",
    "d2 = datetime.strptime('20/04/1987 22:33:00', '%d/%m/%Y %H:%M:%S')"
   ]
  },
  {
   "cell_type": "markdown",
   "id": "35d58c5b",
   "metadata": {},
   "source": [
    "# Aula 131"
   ]
  },
  {
   "cell_type": "code",
   "execution_count": 14,
   "id": "a6697c66",
   "metadata": {},
   "outputs": [
    {
     "name": "stdout",
     "output_type": "stream",
     "text": [
      "31\n",
      "terça-feira, 22 de março de 2022\n"
     ]
    }
   ],
   "source": [
    "from datetime import datetime\n",
    "from locale import setlocale, LC_ALL\n",
    "from calendar import mdays\n",
    "\n",
    "#para usar local que estou, do computador do usuário\n",
    "setlocale (LC_ALL, '')\n",
    "#para usar local brasil\n",
    "setlocale (LC_ALL, 'pt_BR.utf-8')\n",
    "dt = datetime.now()\n",
    "mes_atual = int(dt.strftime('%m'))\n",
    "formatacao1 = dt.strftime('%A, %d de %B de %Y')\n",
    "formatacao2 = dt.strftime('%d/%m/%Y %H:&M:%S')\n",
    "\n",
    "#quantos dias tem o mes atual\n",
    "print(mdays[mes_atual])\n",
    "\n",
    "print(formatacao1)\n"
   ]
  },
  {
   "cell_type": "markdown",
   "id": "0a6ab883",
   "metadata": {},
   "source": [
    "# Aula 132"
   ]
  },
  {
   "cell_type": "code",
   "execution_count": 16,
   "id": "f37137ba",
   "metadata": {},
   "outputs": [
    {
     "name": "stdout",
     "output_type": "stream",
     "text": [
      "(5, 29)\n",
      "29\n",
      "[31, 28, 31, 30, 31, 30, 31, 31, 30, 31, 30, 31]\n"
     ]
    }
   ],
   "source": [
    "#Na aula anterior, você viu como utilizar mdays de calendar (que pega a quantidade de dias do mês) para pegar o último dia do mês. Isso pode não funcionar como esperado em ano bissexto.\n",
    "\n",
    "#Você também pode utilizar a função monthrange de calendar para pegar o número do dia na semana (entre 0-6) e último dia do mês (entre 28-31), exemplo:\n",
    "\n",
    "\n",
    "\n",
    "from calendar import monthrange\n",
    " \n",
    "# Retorna uma tupla contendo o número do dia na semana (0-6)\n",
    "# e último dia de fevereiro de 2020\n",
    "print(monthrange(2020, 2))\n",
    " \n",
    "# Saída - (5, 29)\n",
    "# O 5 significa que é um sábado\n",
    "# O 29 significa que este é o último dia do mês\n",
    "#O número do dia na semana vai de 0 a 6 (segunda é 0, domingo é 6).\n",
    "\n",
    "#Caso queira retornar apenas um valor, você pode fazer o desempacotamento, assim:\n",
    "\n",
    "from calendar import monthrange\n",
    "dia_semana, ultimo_dia = monthrange(2020, 2)\n",
    "print(ultimo_dia)  # Saída: 29 (último dia de fevereiro de 2020)\n",
    "#Você também pode criar uma lista, assim como mdays, contendo todos os últimos dias de meses do ano atual:\n",
    "\n",
    "from datetime import datetime\n",
    "from calendar import monthrange\n",
    " \n",
    "ultimos_dias_de_meses_do_ano_atual = [\n",
    "    monthrange(datetime.now().year, mes)[1] for mes in range(1, 13)\n",
    "]\n",
    "print(ultimos_dias_de_meses_do_ano_atual)\n",
    "# Saída: [31, 29, 31, 30, 31, 30, 31, 31, 30, 31, 30, 31]\n",
    "# Observação: meu ano atual é 2020 neste momento"
   ]
  },
  {
   "cell_type": "code",
   "execution_count": null,
   "id": "4a1ad9b4",
   "metadata": {},
   "outputs": [],
   "source": []
  },
  {
   "cell_type": "code",
   "execution_count": null,
   "id": "ad86d9e3",
   "metadata": {},
   "outputs": [],
   "source": []
  }
 ],
 "metadata": {
  "kernelspec": {
   "display_name": "Python 3 (ipykernel)",
   "language": "python",
   "name": "python3"
  },
  "language_info": {
   "codemirror_mode": {
    "name": "ipython",
    "version": 3
   },
   "file_extension": ".py",
   "mimetype": "text/x-python",
   "name": "python",
   "nbconvert_exporter": "python",
   "pygments_lexer": "ipython3",
   "version": "3.9.7"
  }
 },
 "nbformat": 4,
 "nbformat_minor": 5
}
