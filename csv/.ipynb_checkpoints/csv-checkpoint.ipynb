{
 "cells": [
  {
   "cell_type": "code",
   "execution_count": 1,
   "id": "15f7cdcd-6836-48f1-ad30-8ea86a6f69ac",
   "metadata": {},
   "outputs": [],
   "source": [
    "\"\"\"\n",
    "Comma Separated Values - CSV (Valores separados por vírgula)\n",
    "É um formato de dados muito usado em tabelas (Excel, Google Sheets), bases de\n",
    "dados, clientes de e-mail, etc...\n",
    "\"\"\"\n",
    "import csv\n",
    "\n",
    "with open('clientes.csv', 'r') as arquivo:\n",
    "    dados = [x for x in csv.DictReader(arquivo)]\n",
    "\n",
    "with open('cliente2.csv', 'w') as arquivo:\n",
    "    escreve = csv.writer(\n",
    "        arquivo,\n",
    "        delimiter=',',\n",
    "        quotechar='\"',\n",
    "        quoting=csv.QUOTE_ALL\n",
    "    )\n",
    "\n",
    "    chaves = dados[0].keys()\n",
    "    chaves = list(chaves)\n",
    "    escreve.writerow(\n",
    "        [\n",
    "            chaves[0],\n",
    "            chaves[1],\n",
    "            chaves[2],\n",
    "            chaves[3]\n",
    "        ]\n",
    "    )\n",
    "\n",
    "    for dado in dados:\n",
    "        escreve.writerow(\n",
    "            [\n",
    "                dado['Nome'],\n",
    "                dado['Sobrenome'],\n",
    "                dado['E-mail'],\n",
    "                dado['Telefone']\n",
    "            ]\n",
    "        )"
   ]
  },
  {
   "cell_type": "code",
   "execution_count": 3,
   "id": "7bc0661b-e86a-483e-8fe7-f5f4cbf4f54d",
   "metadata": {},
   "outputs": [
    {
     "data": {
      "text/plain": [
       "['Nome', 'Sobrenome', 'E-mail', 'Telefone']"
      ]
     },
     "execution_count": 3,
     "metadata": {},
     "output_type": "execute_result"
    }
   ],
   "source": [
    "chaves"
   ]
  },
  {
   "cell_type": "code",
   "execution_count": 4,
   "id": "0580f549-0185-416e-84fa-93ffdf7ddfce",
   "metadata": {},
   "outputs": [
    {
     "data": {
      "text/plain": [
       "[{'Nome': 'Luiz',\n",
       "  'Sobrenome': 'Otávio',\n",
       "  'E-mail': 'luizotavio@email.com',\n",
       "  'Telefone': '55 (55) 55555-5555'},\n",
       " {'Nome': 'Maria',\n",
       "  'Sobrenome': 'Figueiredo',\n",
       "  'E-mail': 'maria@empresa.com',\n",
       "  'Telefone': '55 (99) 99999-9999'},\n",
       " {'Nome': 'Joãozinho',\n",
       "  'Sobrenome': 'Miranda',\n",
       "  'E-mail': 'jm@email.com.br',\n",
       "  'Telefone': '55 (44) 44444-4444'}]"
      ]
     },
     "execution_count": 4,
     "metadata": {},
     "output_type": "execute_result"
    }
   ],
   "source": [
    "dados"
   ]
  },
  {
   "cell_type": "code",
   "execution_count": 5,
   "id": "a090328b-39c8-4d1f-9cf4-b85e6f209aad",
   "metadata": {},
   "outputs": [
    {
     "name": "stdout",
     "output_type": "stream",
     "text": [
      "['Nome', 'Sobrenome', 'E-mail', 'Telefone']\n",
      "['Luiz', 'Otávio', 'luizotavio@email.com', '55 (55) 55555-5555']\n",
      "['Maria', 'Figueiredo', 'maria@empresa.com', '55 (99) 99999-9999']\n",
      "['Joãozinho', 'Miranda', 'jm@email.com.br', '55 (44) 44444-4444']\n"
     ]
    }
   ],
   "source": [
    "#LENDO NNORMAL\n",
    "import csv\n",
    "with open('clientes.csv', 'r') as arquivo:\n",
    "    dados = [x for x in csv.reader(arquivo)]\n",
    "for dado in dados:\n",
    "    print(dado)"
   ]
  },
  {
   "cell_type": "code",
   "execution_count": 7,
   "id": "2ecd57d1-2a67-41bd-b2f2-5ef00f46932d",
   "metadata": {},
   "outputs": [
    {
     "name": "stdout",
     "output_type": "stream",
     "text": [
      "{'Nome': 'Luiz', 'Sobrenome': 'Otávio', 'E-mail': 'luizotavio@email.com', 'Telefone': '55 (55) 55555-5555'}\n",
      "{'Nome': 'Maria', 'Sobrenome': 'Figueiredo', 'E-mail': 'maria@empresa.com', 'Telefone': '55 (99) 99999-9999'}\n",
      "{'Nome': 'Joãozinho', 'Sobrenome': 'Miranda', 'E-mail': 'jm@email.com.br', 'Telefone': '55 (44) 44444-4444'}\n"
     ]
    }
   ],
   "source": [
    "#LENDO COMO DICIONARIO \n",
    "import csv\n",
    "with open('clientes.csv', 'r') as arquivo:\n",
    "    dados = [x for x in csv.DictReader(arquivo)]\n",
    "for dado in dados:\n",
    "    print(dado)"
   ]
  },
  {
   "cell_type": "code",
   "execution_count": null,
   "id": "ec674e88-c10e-40dd-a5b1-01e867f5d660",
   "metadata": {},
   "outputs": [],
   "source": []
  }
 ],
 "metadata": {
  "kernelspec": {
   "display_name": "Python 3 (ipykernel)",
   "language": "python",
   "name": "python3"
  },
  "language_info": {
   "codemirror_mode": {
    "name": "ipython",
    "version": 3
   },
   "file_extension": ".py",
   "mimetype": "text/x-python",
   "name": "python",
   "nbconvert_exporter": "python",
   "pygments_lexer": "ipython3",
   "version": "3.9.7"
  }
 },
 "nbformat": 4,
 "nbformat_minor": 5
}
