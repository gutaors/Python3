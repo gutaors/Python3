{
 "cells": [
  {
   "cell_type": "code",
   "execution_count": 7,
   "id": "6c66d475",
   "metadata": {},
   "outputs": [
    {
     "name": "stdout",
     "output_type": "stream",
     "text": [
      "<class 'float'>\n"
     ]
    },
    {
     "data": {
      "text/plain": [
       "tuple"
      ]
     },
     "execution_count": 7,
     "metadata": {},
     "output_type": "execute_result"
    }
   ],
   "source": [
    "# o separador de casas decimais é ponto e não a vírgula\n",
    "\n",
    "print(type(1.44))\n",
    "# se coloco vírgula ele acha que é uma tupla\n",
    "\n",
    "valor = 1,44\n",
    "type(valor)"
   ]
  },
  {
   "cell_type": "code",
   "execution_count": 9,
   "id": "67d87a3f",
   "metadata": {},
   "outputs": [
    {
     "name": "stdout",
     "output_type": "stream",
     "text": [
      "1.0\n"
     ]
    }
   ],
   "source": [
    "#converte de inteiro para float\n",
    "num = 1\n",
    "print (float(num))"
   ]
  },
  {
   "cell_type": "code",
   "execution_count": 10,
   "id": "4c30d837",
   "metadata": {},
   "outputs": [
    {
     "data": {
      "text/plain": [
       "6.13"
      ]
     },
     "execution_count": 10,
     "metadata": {},
     "output_type": "execute_result"
    }
   ],
   "source": [
    "salario = 2.56\n",
    "salario2 = 3.57\n",
    "salario + salario2"
   ]
  },
  {
   "cell_type": "code",
   "execution_count": null,
   "id": "cc131001",
   "metadata": {},
   "outputs": [],
   "source": []
  }
 ],
 "metadata": {
  "kernelspec": {
   "display_name": "Python 3 (ipykernel)",
   "language": "python",
   "name": "python3"
  },
  "language_info": {
   "codemirror_mode": {
    "name": "ipython",
    "version": 3
   },
   "file_extension": ".py",
   "mimetype": "text/x-python",
   "name": "python",
   "nbconvert_exporter": "python",
   "pygments_lexer": "ipython3",
   "version": "3.9.7"
  }
 },
 "nbformat": 4,
 "nbformat_minor": 5
}
