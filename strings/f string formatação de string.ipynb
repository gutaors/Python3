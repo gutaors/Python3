{
 "cells": [
  {
   "cell_type": "code",
   "execution_count": 1,
   "id": "b2beca67",
   "metadata": {},
   "outputs": [],
   "source": [
    "nome = 'gustavo silveira'\n",
    "idade = 30\n",
    "altura = 1.81\n",
    "e_maior = idade>18\n",
    "peso = 80\n",
    "imc = peso/(altura**2)"
   ]
  },
  {
   "cell_type": "code",
   "execution_count": 10,
   "id": "407be432",
   "metadata": {},
   "outputs": [
    {
     "name": "stdout",
     "output_type": "stream",
     "text": [
      "meu nome é gustavo silveira e tenho 30 anos e imc 24.42\n"
     ]
    }
   ],
   "source": [
    "print (f'meu nome é {nome} e tenho {idade} anos e imc {imc:.2f}') # :.2f formata para 2 casas decimais"
   ]
  },
  {
   "cell_type": "code",
   "execution_count": 13,
   "id": "ef8142d8",
   "metadata": {},
   "outputs": [
    {
     "name": "stdout",
     "output_type": "stream",
     "text": [
      "24.42 é imc gustavo silveira é meu nome, tenho imc de 24.41927902078691\n"
     ]
    }
   ],
   "source": [
    "print('{2:.2f} é imc {0} é meu nome, tenho imc de {2}'.format(nome, idade, imc))"
   ]
  },
  {
   "cell_type": "code",
   "execution_count": null,
   "id": "fc3e6e42",
   "metadata": {},
   "outputs": [],
   "source": []
  }
 ],
 "metadata": {
  "kernelspec": {
   "display_name": "Python 3 (ipykernel)",
   "language": "python",
   "name": "python3"
  },
  "language_info": {
   "codemirror_mode": {
    "name": "ipython",
    "version": 3
   },
   "file_extension": ".py",
   "mimetype": "text/x-python",
   "name": "python",
   "nbconvert_exporter": "python",
   "pygments_lexer": "ipython3",
   "version": "3.9.7"
  }
 },
 "nbformat": 4,
 "nbformat_minor": 5
}
