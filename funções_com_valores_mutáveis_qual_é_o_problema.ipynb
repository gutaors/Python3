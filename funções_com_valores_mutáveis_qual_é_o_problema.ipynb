{
 "cells": [
  {
   "cell_type": "markdown",
   "metadata": {},
   "source": [
    "# Funções com valores mutáveis: Qual é o problema? - Dicas de Python\n",
    "\n",
    "E aí, beleza?\n",
    "\n",
    "Dá uma olhada na célula abaixo. O que você acha que esse bloco vai exibir como output?"
   ]
  },
  {
   "cell_type": "code",
   "execution_count": 1,
   "metadata": {},
   "outputs": [
    {
     "output_type": "stream",
     "name": "stdout",
     "text": "[1, 1] [1, 1]\n"
    }
   ],
   "source": [
    "def acrescenta_1(lista=[]):\n",
    "    lista.append(1)\n",
    "    return lista\n",
    "\n",
    "print(acrescenta_1(), acrescenta_1())"
   ]
  },
  {
   "cell_type": "markdown",
   "metadata": {},
   "source": [
    "Era o que você esperava? Quer entender o motivo do resultado ser esse? Então é só seguir com a leitura.\n",
    "\n",
    "Só preciso aproveitar agora que eu tenho a sua atenção e dizer que essa aula só existe por causa desse tweet: https://twitter.com/jakevdp/status/1235271748867612673. Vale a pena entrar nesse link e acompanhar a discussão.\n",
    "\n",
    "Então vamos lá. A primeira coisa que vamos entender é por que as respostas erradas estão erradas. Como você deve ter reparado no tweet que inspira a aula de hoje, 52% das pessoas acharam que o output desse código seria \\[1\\] \\[1\\]. Uma possível linha de raciocínio que nos permite chegar nessa resposta é a seguinte:\n",
    "\n",
    "1. Chamo a função pela primeira vez e, com isso, uma lista vazia é criada;\n",
    "2. Adiciono um novo item a essa lista, no caso esse item é o número 1;\n",
    "3. Nesse exato momento minha lista está assim: \\[1\\], então a função print vai exibir exatamente isso;\n",
    "4. Chamo a função pela segunda vez e, com isso, uma nova lista vazia é criada;\n",
    "5. Adiciono um novo item a essa lista, no caso esse item é o número 1;\n",
    "6. Nesse exato momento minha lista está assim: \\[1\\], então a função print vai exibir exatamente isso;\n",
    "\n",
    "Não se sinta mal por ter pensado desse jeito. O raciocínio faz sentido, mas chega na resposta errada, porque não é assim que o Python funciona!\n",
    "\n",
    "30% das pessoas acharam que a resposta seria \\[1\\] \\[1, 1\\]. Uma possível linha de raciocínio que nos permite chegar nessa resposta é a seguinte:\n",
    "\n",
    "1. Chamo a função pela primeira vez e, com isso, uma lista vazia é criada;\n",
    "2. Adiciono um novo item a essa lista, no caso esse item é o número 1;\n",
    "3. Nesse exato momento minha lista está assim: \\[1\\], então a função print vai exibir exatamente isso;\n",
    "4. Chamo a função pela segunda vez e, dessa vez, ela vai usar a mesma lista criada na primeira chamada;\n",
    "5. Adiciono um novo item a essa lista, no caso esse item é o número 1;\n",
    "6. Nesse exato momento minha lista está assim: \\[1, 1\\], então a função print vai exibir exatamente isso;\n",
    "\n",
    "Quase lá! Esse raciocínio chega muito perto da resposta correta, e mostra que entendemos como funcionam os objetos mutáveis no Python. Mas faltou um detalhe pra acertar...\n",
    "\n",
    "Vamos discutir agora alguns fundamentos de Python necessários para chegar na resposta correta (e entendê-la). Não é bruxaria, não é o Python de sacanagem com a gente. É simplesmente uma questão de entender como o Python funciona. Vamos lá:\n",
    "\n",
    "# Objetos mutáveis e suas armadilhas\n",
    "Isso aqui é um clássico do Python e já pegou muita gente desprevenida.\n",
    "\n",
    "Observe esse bloco de código e pense: Qual vai ser o valor das variáveis __números_do_fabio__ e __números_da_josi__?"
   ]
  },
  {
   "cell_type": "code",
   "execution_count": 2,
   "metadata": {},
   "outputs": [
    {
     "output_type": "stream",
     "name": "stdout",
     "text": "Números escolhidos pela Josi: [1, 2, 3, 4]\nNúmeros escolhidos pelo Fabio: [1, 2, 3, 4]\n"
    }
   ],
   "source": [
    "números_do_fabio = [1, 2, 3]\n",
    "números_da_josi = números_do_fabio\n",
    "\n",
    "números_da_josi.append(4)\n",
    "print(f\"Números escolhidos pela Josi: {números_da_josi}\")\n",
    "print(f\"Números escolhidos pelo Fabio: {números_do_fabio}\")"
   ]
  },
  {
   "cell_type": "markdown",
   "metadata": {},
   "source": [
    "O resultado te surpreendeu novamente, ou por essa você já esperava?\n",
    "\n",
    "Pra entender o que aconteceu nesse bloco de código precisamos entender como __variáveis__ funcionam no Python. Calma, já já vamos voltar a falar sobre a função que iniciou a aula de hoje, agora precisamos garantir que entendemos o seguinte: no Python, variáveis não são caixas. Variáveis, no Python, são nomes, rótulos, etiquetas, apelidos.\n",
    "\n",
    "Muitos de nós aprendemos em algum momento da nossa vida a famosa analogia de que variáveis são caixas que armazenam objetos. Essa analogia é ótima e funciona muito bem para várias linguagens de programação. No Python, se variáveis fossem caixas (ou gavetas), que armazenam um objeto, o bloco de código acima retornaria algo diferente. A operação __números_da_josi = números_do_fabio__ poderia ser entendida como a criação de uma nova caixa, e essa caixa armazena o valor atual da variável __números_do_fabio__, então temos duas caixas diferentes, e, portanto, alterações no conteúdo de uma não deveria afetar o conteúdo de outra.\n",
    "\n",
    "Mas não é assim que as variáveis funcionam no Python. É melhor pensar em variáveis como nomes que damos para objetos. Ou apelidos. Ou rótulos. Ou etiquetas. Acho que uma imagem exemplifica isso muito bem:\n",
    "\n",
    "Variáveis no Python __não são__ caixas:\n",
    "![Caixa A](http://www.omahapython.org/IdiomaticPython_files/a2box.png)\n",
    "![Caixa B](http://www.omahapython.org/IdiomaticPython_files/b2box.png)\n",
    "\n",
    "Variáveis no Python __são__ nomes, rótulos, etiquetas, apelidos:\n",
    "![Rótulo AB](http://www.omahapython.org/IdiomaticPython_files/ab2tag.png)\n",
    "\n",
    "Fonte dessas imagens: [http://www.omahapython.org/IdiomaticPython.html](http://www.omahapython.org/IdiomaticPython.html). Artigo excelente. Recomendo estudá-lo quando possível.\n",
    "\n",
    "Observações:\n",
    "\n",
    "1. Claro que variáveis são apenas variáveis. Quando digo que elas são nomes, ou caixas, ou qualquer outra coisa, é apenas uma analogia.\n",
    "2. Esse caso é especial porque estamos lidando com listas, que são objetos __mutáveis__! O exemplo abaixo não deve causar nenhuma estranheza ou confusão, e também não tem nenhuma pegadinha:"
   ]
  },
  {
   "cell_type": "code",
   "execution_count": 3,
   "metadata": {},
   "outputs": [
    {
     "output_type": "stream",
     "name": "stdout",
     "text": "Objeto da Josi: 43\nObjeto do Fabio: 42\n"
    }
   ],
   "source": [
    "objeto_não_mutável_do_fabio = 42\n",
    "objeto_não_mutável_da_josi = objeto_não_mutável_do_fabio\n",
    "\n",
    "objeto_não_mutável_da_josi = 43\n",
    "print(f\"Objeto da Josi: {objeto_não_mutável_da_josi}\")\n",
    "print(f\"Objeto do Fabio: {objeto_não_mutável_do_fabio}\")"
   ]
  },
  {
   "cell_type": "markdown",
   "metadata": {},
   "source": [
    "3. Esse bloco de código também não deve causar nenhuma estranheza. A lista __números_do_fabio__ não é modificada. Isso acontece porque, apesar das duas listas serem visualmente idênticas, elas são objetos diferentes, iniciados em momentos diferentes, ocupando lugares (endereços) diferentes na memória do computador."
   ]
  },
  {
   "cell_type": "code",
   "execution_count": 4,
   "metadata": {},
   "outputs": [
    {
     "output_type": "stream",
     "name": "stdout",
     "text": "Números escolhidos pela Josi: [1, 2, 3, 4]\nNúmeros escolhidos pelo Fabio: [1, 2, 3]\n"
    }
   ],
   "source": [
    "números_do_fabio = [1, 2, 3]\n",
    "números_da_josi = [1, 2, 3]\n",
    "\n",
    "números_da_josi.append(4)\n",
    "print(f\"Números escolhidos pela Josi: {números_da_josi}\")\n",
    "print(f\"Números escolhidos pelo Fabio: {números_do_fabio}\")"
   ]
  },
  {
   "cell_type": "markdown",
   "metadata": {},
   "source": [
    "4. Nosso objetivo inicial com o código __números_da_josi = números_do_fabio__ era ter dois objetos diferentes, apontando para duas listas diferentes (sim, listas com valores iguais, mas objetos diferentes. Se você ainda estiver com dúvidas com relação a isso, me pergunte!), podemos fazer isso com uma pequena modificação no código, basta utilizar o método copy:"
   ]
  },
  {
   "cell_type": "code",
   "execution_count": 5,
   "metadata": {},
   "outputs": [
    {
     "output_type": "stream",
     "name": "stdout",
     "text": "Números escolhidos pela Josi: [1, 2, 3, 4]\nNúmeros escolhidos pelo Fabio: [1, 2, 3]\n"
    }
   ],
   "source": [
    "números_do_fabio = [1, 2, 3]\n",
    "números_da_josi = números_do_fabio.copy()\n",
    "\n",
    "números_da_josi.append(4)\n",
    "print(f\"Números escolhidos pela Josi: {números_da_josi}\")\n",
    "print(f\"Números escolhidos pelo Fabio: {números_do_fabio}\")"
   ]
  },
  {
   "cell_type": "markdown",
   "metadata": {},
   "source": [
    "Ok. Até aqui nós entendemos como variáveis funcionam no Python (\"nomes\" em vez de \"caixas\"), e entendemos que saber esse fundamento nos permite não sermos surpreendidos pelo bloco que iniciou essa seção (onde equivocadamente achamos que estamos modificando apenas uma lista e acabamos modificando as duas, porque na verdade não tem duas listas, é só uma mesmo!)\n",
    "\n",
    "Isso nos permite voltar para a função do início da aula:"
   ]
  },
  {
   "cell_type": "code",
   "execution_count": 6,
   "metadata": {},
   "outputs": [],
   "source": [
    "def acrescenta_1(lista=[]):\n",
    "    lista.append(1)\n",
    "    return lista"
   ]
  },
  {
   "cell_type": "code",
   "execution_count": 7,
   "metadata": {},
   "outputs": [
    {
     "output_type": "execute_result",
     "data": {
      "text/plain": "<function __main__.acrescenta_1(lista=[])>"
     },
     "metadata": {},
     "execution_count": 7
    }
   ],
   "source": [
    "acrescenta_1"
   ]
  },
  {
   "cell_type": "markdown",
   "metadata": {},
   "source": [
    "A lista vazia é criada exatamente uma vez, no momento em que a função é definida.\n",
    "\n",
    "Todas as vezes que executarmos essa função, a mesma lista será utilizada:"
   ]
  },
  {
   "cell_type": "code",
   "execution_count": 8,
   "metadata": {},
   "outputs": [
    {
     "output_type": "execute_result",
     "data": {
      "text/plain": "[1]"
     },
     "metadata": {},
     "execution_count": 8
    }
   ],
   "source": [
    "acrescenta_1()"
   ]
  },
  {
   "cell_type": "code",
   "execution_count": 9,
   "metadata": {},
   "outputs": [
    {
     "output_type": "execute_result",
     "data": {
      "text/plain": "<function __main__.acrescenta_1(lista=[1])>"
     },
     "metadata": {},
     "execution_count": 9
    }
   ],
   "source": [
    "acrescenta_1"
   ]
  },
  {
   "cell_type": "code",
   "execution_count": 10,
   "metadata": {},
   "outputs": [
    {
     "output_type": "execute_result",
     "data": {
      "text/plain": "[1, 1]"
     },
     "metadata": {},
     "execution_count": 10
    }
   ],
   "source": [
    "acrescenta_1()"
   ]
  },
  {
   "cell_type": "code",
   "execution_count": 11,
   "metadata": {},
   "outputs": [
    {
     "output_type": "execute_result",
     "data": {
      "text/plain": "<function __main__.acrescenta_1(lista=[1, 1])>"
     },
     "metadata": {},
     "execution_count": 11
    }
   ],
   "source": [
    "acrescenta_1"
   ]
  },
  {
   "cell_type": "markdown",
   "metadata": {},
   "source": [
    "# Como as funções funcionam\n",
    "Agora temos o último fundamento que nos permite entender o comportamento do código que iniciou a aula:\n",
    "\n",
    "Quando escrevemos __print(acrescenta_1(), acrescenta_1())__, estamos chamando a __função__ print, certo?\n",
    "\n",
    "O pulo do gato aqui é o seguinte: Antes de executar a função print, o Python primeiro executa as duas chamadas dentro do parêntesis! Isso não é uma particularidade da função print, e sim uma particularidade de funções no Python.\n",
    "\n",
    "Na prática é isso aqui que está acontecendo:"
   ]
  },
  {
   "cell_type": "code",
   "execution_count": 12,
   "metadata": {},
   "outputs": [
    {
     "output_type": "stream",
     "name": "stdout",
     "text": "[1, 1, 1, 1] [1, 1, 1, 1]\n"
    }
   ],
   "source": [
    "lista_1 = acrescenta_1()\n",
    "lista_2 = acrescenta_1()\n",
    "print(lista_1, lista_2)"
   ]
  },
  {
   "cell_type": "markdown",
   "metadata": {},
   "source": [
    "Como as duas variáveis __lista_1__ e __lista_2__ apontam para o mesmo objeto, é natural que o resultado do print seja esse, afinal, estamos printando duas vezes o mesmo objeto! \n",
    "\n",
    "É exatamente isso: Estamos exibindo na tela duas vezes o mesmo objeto, acontece que esse objeto possui dois nomes/apelidos/rótulos.\n",
    "\n",
    "Lembre-se disso: ![Rótulo AB](http://www.omahapython.org/IdiomaticPython_files/ab2tag.png)"
   ]
  },
  {
   "cell_type": "markdown",
   "metadata": {},
   "source": [
    "# Curiosidade: Pylint nos alerta sobre isso!\n",
    "\n",
    "Faça esse teste! Crie um arquivo python com o código dessa função. Você receberá o alerta __Dangerous default value [] as argument pylint(dangerous-default-value)__\n",
    "\n",
    "# Eu preciso usar uma lista vazia na minha função, qual é o procedimento correto?\n",
    "\n",
    "Basta fazer essas pequenas modificações na função:"
   ]
  },
  {
   "cell_type": "code",
   "execution_count": 13,
   "metadata": {},
   "outputs": [],
   "source": [
    "def acrescenta_1_sem_padrao_mutável(lista=None):\n",
    "    if lista is None:\n",
    "        lista = []\n",
    "    lista.append(1)\n",
    "    return lista"
   ]
  },
  {
   "cell_type": "markdown",
   "metadata": {},
   "source": [
    "Agora sim, com o código escrito dessa forma, uma lista nova será criada todas as vezes que chamarmos a função (e não passarmos uma lista como argumento do parâmetro lista)!\n",
    "\n",
    "Então, com essa modificação, você consegue adivinhar o output do código abaixo?"
   ]
  },
  {
   "cell_type": "code",
   "execution_count": 14,
   "metadata": {},
   "outputs": [
    {
     "output_type": "stream",
     "name": "stdout",
     "text": "[1] [1]\n"
    }
   ],
   "source": [
    "print(acrescenta_1_sem_padrao_mutável(), acrescenta_1_sem_padrao_mutável())"
   ]
  },
  {
   "cell_type": "markdown",
   "metadata": {},
   "source": [
    "# Existe algum caso em que usar um valor mutável padrão como parâmetro seja útil?\n",
    "\n",
    "Sim! Já ouviu falar de memoization? Observe esse exemplo:"
   ]
  },
  {
   "cell_type": "code",
   "execution_count": 15,
   "metadata": {},
   "outputs": [],
   "source": [
    "def enésimo_elemento_fibonacci(n, fibonacci_cached={0: 0, 1: 1}):\n",
    "    if n not in fibonacci_cached:\n",
    "        fibonacci_cached[n] = enésimo_elemento_fibonacci(n - 1) + enésimo_elemento_fibonacci(n - 2)\n",
    "    return fibonacci_cached[n]"
   ]
  },
  {
   "cell_type": "code",
   "execution_count": 16,
   "metadata": {},
   "outputs": [
    {
     "output_type": "execute_result",
     "data": {
      "text/plain": "55"
     },
     "metadata": {},
     "execution_count": 16
    }
   ],
   "source": [
    "enésimo_elemento_fibonacci(10)"
   ]
  },
  {
   "cell_type": "code",
   "execution_count": 17,
   "metadata": {},
   "outputs": [
    {
     "output_type": "execute_result",
     "data": {
      "text/plain": "<function __main__.enésimo_elemento_fibonacci(n, fibonacci_cached={0: 0, 1: 1, 2: 1, 3: 2, 4: 3, 5: 5, 6: 8, 7: 13, 8: 21, 9: 34, 10: 55})>"
     },
     "metadata": {},
     "execution_count": 17
    }
   ],
   "source": [
    "enésimo_elemento_fibonacci"
   ]
  },
  {
   "cell_type": "markdown",
   "metadata": {},
   "source": [
    "Observações:\n",
    "- Embora escrever uma função que calcule o enésimo elemento da sequência de Fibonacci de forma recursiva seja muito elegante, obtemos uma performance melhor quando escrevemos de forma iterativa;\n",
    "- O Python tem um decorator (@lru_cache) que pode ser usado para memoization;\n",
    "- Esse exemplo foi feito com dicionário em vez de lista, mas isso não é um problema: Listas e dicionários são objetos mutáveis no Python;\n",
    "- Os códigos dessa seção e da anterior são inspirados nesse artigo da documentação do Python: https://docs.python.org/3/faq/programming.html#why-are-default-values-shared-between-objects."
   ]
  },
  {
   "cell_type": "markdown",
   "metadata": {},
   "source": [
    "# Lição de casa\n",
    "- Crie uma função parecida com a função inicial, avalie o seu comportamento conforme ela vai sendo chamada. Faça ela com listas, sets (conjuntos) e dicionários.\n",
    "\n",
    "- Você conhece a função id()? Crie objetos mutáveis e \"brinque\" com essa função."
   ]
  }
 ],
 "metadata": {
  "kernelspec": {
   "display_name": "Python 3",
   "language": "python",
   "name": "python3"
  },
  "language_info": {
   "codemirror_mode": {
    "name": "ipython",
    "version": 3
   },
   "file_extension": ".py",
   "mimetype": "text/x-python",
   "name": "python",
   "nbconvert_exporter": "python",
   "pygments_lexer": "ipython3",
   "version": "3.8.2-final"
  }
 },
 "nbformat": 4,
 "nbformat_minor": 4
}
