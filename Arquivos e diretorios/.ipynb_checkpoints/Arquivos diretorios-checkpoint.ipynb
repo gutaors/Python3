{
 "cells": [
  {
   "cell_type": "markdown",
   "id": "71cb6573",
   "metadata": {},
   "source": [
    "# Aula 133"
   ]
  },
  {
   "cell_type": "code",
   "execution_count": null,
   "id": "d966eb5c",
   "metadata": {},
   "outputs": [],
   "source": [
    "import os\n",
    "import fnmatch\n",
    "import sys"
   ]
  },
  {
   "cell_type": "markdown",
   "id": "1ec7f257",
   "metadata": {},
   "source": [
    "# Aula 135"
   ]
  },
  {
   "cell_type": "code",
   "execution_count": 1,
   "id": "701e9a63",
   "metadata": {},
   "outputs": [],
   "source": [
    "# https://ffmpeg.zeranoe.com/builds/\n",
    "\n",
    "import os\n",
    "import fnmatch\n",
    "import sys\n",
    "\n",
    "if sys.platform == 'linux':\n",
    "    comando_ffmpeg = 'ffmpeg'\n",
    "else:\n",
    "    comando_ffmpeg = r'ffmpeg\\ffmpeg.exe'\n",
    "\n",
    "codec_video = '-c:v libx264'\n",
    "crf = '-crf 23'\n",
    "preset = '-preset ultrafast'\n",
    "codec_audio = '-c:a aac'\n",
    "bitrate_audio = '-b:a 320k'\n",
    "debug = '-ss 00:00:00 -to 00:00:10'\n",
    "debug = ''\n",
    "\n",
    "caminho_origem = '/home/luizotavio/Desktop/videos'\n",
    "caminho_destino = '/home/luizotavio/Desktop/saida'\n",
    "\n",
    "\n",
    "for raiz, pastas, arquivos in os.walk(caminho_origem):\n",
    "    for arquivo in arquivos:\n",
    "        if not fnmatch.fnmatch(arquivo, '*.mkv'):\n",
    "            continue\n",
    "\n",
    "        caminho_completo = os.path.join(raiz, arquivo)\n",
    "        nome_arquivo, extensao_arquivo = os.path.splitext(caminho_completo)\n",
    "        caminho_legenda = nome_arquivo + '.srt'\n",
    "\n",
    "        if os.path.isfile(caminho_legenda):\n",
    "            input_legenda = f'-i \"{caminho_legenda}\"'\n",
    "            map_legenda = '-c:s srt -map v:0 -map a -map 1:0'\n",
    "        else:\n",
    "            input_legenda = ''\n",
    "            map_legenda = ''\n",
    "\n",
    "        nome_arquivo, extensao_arquivo = os.path.splitext(arquivo)\n",
    "\n",
    "        nome_novo_arquivo = nome_arquivo + '_NOVO' + extensao_arquivo\n",
    "        arquivo_saida = os.path.join(raiz, nome_novo_arquivo)\n",
    "\n",
    "        comando = f'{comando_ffmpeg} -i \"{caminho_completo}\" {input_legenda} ' \\\n",
    "            f'{codec_video} {crf} {preset} {codec_audio} {bitrate_audio} ' \\\n",
    "            f'{debug} {map_legenda} \"{arquivo_saida}\"'\n",
    "\n",
    "        os.system(comando)\n",
    "\n",
    "\n",
    "\n",
    "\n"
   ]
  },
  {
   "cell_type": "code",
   "execution_count": null,
   "id": "7ed10166",
   "metadata": {},
   "outputs": [],
   "source": []
  }
 ],
 "metadata": {
  "kernelspec": {
   "display_name": "Python 3 (ipykernel)",
   "language": "python",
   "name": "python3"
  },
  "language_info": {
   "codemirror_mode": {
    "name": "ipython",
    "version": 3
   },
   "file_extension": ".py",
   "mimetype": "text/x-python",
   "name": "python",
   "nbconvert_exporter": "python",
   "pygments_lexer": "ipython3",
   "version": "3.9.7"
  }
 },
 "nbformat": 4,
 "nbformat_minor": 5
}
