{
 "cells": [
  {
   "cell_type": "code",
   "execution_count": 7,
   "id": "0604a242",
   "metadata": {},
   "outputs": [],
   "source": [
    "import os\n",
    "\n",
    "# caminho = r\"C:\\Users\\Python\\Desktop\\Mover e Renomear Arquivos com Python\"\n",
    "lista_arquivos = os.listdir(\"Mover\")\n",
    "\n",
    "for arquivo in lista_arquivos:\n",
    "    if \".xlsx\" in arquivo:\n",
    "        if \"Jan\" in arquivo:\n",
    "            # jogar pra pasta de janeiro\n",
    "            os.rename(f\"Mover/{arquivo}\", f\"Mover/Jan/{arquivo}\")\n",
    "        if \"Fev\" in arquivo:\n",
    "            # jogar pra pasta de fevereiro\n",
    "            os.rename(f\"Mover/{arquivo}\", f\"Mover/Fev/{arquivo}\")\n",
    "        if \"Mar\" in arquivo:\n",
    "            # jogar pra pasta de março\n",
    "            os.rename(f\"Mover/{arquivo}\", f\"Mover/Mar/{arquivo}\")"
   ]
  },
  {
   "cell_type": "code",
   "execution_count": null,
   "id": "9764fb0c",
   "metadata": {},
   "outputs": [],
   "source": []
  }
 ],
 "metadata": {
  "kernelspec": {
   "display_name": "Python 3",
   "language": "python",
   "name": "python3"
  },
  "language_info": {
   "codemirror_mode": {
    "name": "ipython",
    "version": 3
   },
   "file_extension": ".py",
   "mimetype": "text/x-python",
   "name": "python",
   "nbconvert_exporter": "python",
   "pygments_lexer": "ipython3",
   "version": "3.8.8"
  }
 },
 "nbformat": 4,
 "nbformat_minor": 5
}
