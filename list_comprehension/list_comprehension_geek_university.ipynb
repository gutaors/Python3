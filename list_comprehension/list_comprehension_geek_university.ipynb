{
 "cells": [
  {
   "cell_type": "markdown",
   "id": "5c4c1a8b",
   "metadata": {},
   "source": [
    "# Aula 2 List comprehension parte 1 geek university"
   ]
  },
  {
   "cell_type": "code",
   "execution_count": 1,
   "id": "362bf1ca",
   "metadata": {},
   "outputs": [
    {
     "name": "stdout",
     "output_type": "stream",
     "text": [
      "[10, 20, 30, 40, 50]\n"
     ]
    }
   ],
   "source": [
    "numeros = [1, 2, 3, 4, 5]\n",
    "res = [numero * 10 for numero in numeros]\n",
    "# lemos da direita pra esquerda, para cada número na lista de números, multiplique por 10 e gere uma lista destes números\n",
    "print(res)\n"
   ]
  },
  {
   "cell_type": "markdown",
   "id": "f4d8fea6",
   "metadata": {},
   "source": [
    "### receita de bolo\n",
    "### dividir a expressão em duas partes\n",
    "-a primeira parte: for numero in numeros<br>\n",
    "-a segunda parte: numero * 10"
   ]
  },
  {
   "cell_type": "code",
   "execution_count": 2,
   "id": "fff251ee",
   "metadata": {},
   "outputs": [
    {
     "name": "stdout",
     "output_type": "stream",
     "text": [
      "[0.5, 1.0, 1.5, 2.0, 2.5]\n"
     ]
    }
   ],
   "source": [
    "res = [numero /2 for numero in numeros]\n",
    "print(res)"
   ]
  },
  {
   "cell_type": "code",
   "execution_count": 3,
   "id": "f5fd9d6b",
   "metadata": {},
   "outputs": [
    {
     "name": "stdout",
     "output_type": "stream",
     "text": [
      "[1, 4, 9, 16, 25]\n"
     ]
    }
   ],
   "source": [
    "def funcao(valor):\n",
    "    return valor * valor\n",
    "\n",
    "res = [funcao(numero) for numero in numeros]\n",
    "\n",
    "print(res)"
   ]
  },
  {
   "cell_type": "code",
   "execution_count": 4,
   "id": "8ee16cee",
   "metadata": {},
   "outputs": [
    {
     "name": "stdout",
     "output_type": "stream",
     "text": [
      "[2, 4, 6, 8, 10]\n"
     ]
    }
   ],
   "source": [
    "# list comprehension vs loop\n",
    "numeros = [1, 2, 3, 4, 5]\n",
    "\n",
    "numeros_dobrados = []\n",
    "for numero in numeros:\n",
    "    numero_dobrado = numero * 2\n",
    "    numeros_dobrados.append(numero_dobrado)\n",
    "print(numeros_dobrados)"
   ]
  },
  {
   "cell_type": "code",
   "execution_count": 5,
   "id": "667d770a",
   "metadata": {},
   "outputs": [],
   "source": [
    "# a mesma coisa acima usando list comprehension\n",
    "res = [numero * 2 for numero in numeros]\n"
   ]
  },
  {
   "cell_type": "code",
   "execution_count": 6,
   "id": "bab6bee6",
   "metadata": {},
   "outputs": [
    {
     "name": "stdout",
     "output_type": "stream",
     "text": [
      "[2, 4, 6, 8, 10]\n"
     ]
    }
   ],
   "source": [
    "#melhorando um pouco o loop (refatorando)\n",
    "numeros_dobrados = []\n",
    "for numero in numeros:\n",
    "    numeros_dobrados.append(numero*2)\n",
    "print(numeros_dobrados)"
   ]
  },
  {
   "cell_type": "code",
   "execution_count": 7,
   "id": "0fecbbc0",
   "metadata": {},
   "outputs": [
    {
     "name": "stdout",
     "output_type": "stream",
     "text": [
      "[2, 4, 6, 8, 10]\n"
     ]
    }
   ],
   "source": [
    "# refatorando list comprehension\n",
    "res = [numero * 2 for numero in [1, 2, 3, 4, 5]]\n",
    "print(res)"
   ]
  },
  {
   "cell_type": "markdown",
   "id": "ca29adb1",
   "metadata": {},
   "source": [
    "# Aula 3 List comprehension parte 2 geek university\n",
    "### Adicionar estruturas condicionais lógicas"
   ]
  },
  {
   "cell_type": "code",
   "execution_count": 8,
   "id": "b9142f7a",
   "metadata": {},
   "outputs": [
    {
     "name": "stdout",
     "output_type": "stream",
     "text": [
      "[2, 4, 6]\n"
     ]
    }
   ],
   "source": [
    "numeros = [1, 2, 3, 4, 5, 6]\n",
    "pares = [numero for numero in numeros if numero % 2 == 0]\n",
    "print(pares)"
   ]
  },
  {
   "cell_type": "code",
   "execution_count": 9,
   "id": "79136eed",
   "metadata": {},
   "outputs": [
    {
     "name": "stdout",
     "output_type": "stream",
     "text": [
      "[1, 3, 5]\n"
     ]
    }
   ],
   "source": [
    "impares = [numero for numero in numeros if numero % 2 != 0]\n",
    "print(impares)"
   ]
  },
  {
   "cell_type": "code",
   "execution_count": 10,
   "id": "4b9dba66",
   "metadata": {},
   "outputs": [],
   "source": [
    "# refatorar\n",
    "#qualquer par tem módulo de 2 igual a zero, e zero em python é false\n",
    "pares = [numero for numero in numeros if not numero % 2]\n",
    "#qualquer ímpar tem módulo de 2 igual a 1, e um em python é true\n",
    "impares = [numero for numero in numeros if numero % 2]"
   ]
  },
  {
   "cell_type": "code",
   "execution_count": 11,
   "id": "1c632fce",
   "metadata": {},
   "outputs": [
    {
     "name": "stdout",
     "output_type": "stream",
     "text": [
      "[2, 4, 6]\n",
      "[1, 3, 5]\n"
     ]
    }
   ],
   "source": [
    "print(pares)\n",
    "print(impares)"
   ]
  },
  {
   "cell_type": "code",
   "execution_count": 12,
   "id": "8f768715",
   "metadata": {},
   "outputs": [
    {
     "name": "stdout",
     "output_type": "stream",
     "text": [
      "[0.5, 4, 1.5, 8, 2.5, 12]\n"
     ]
    }
   ],
   "source": [
    "# 2\n",
    "res = [numero * 2 if numero % 2 ==0 else numero / 2 for numero in numeros]\n",
    "print (res)\n",
    "# pega o numero \n",
    "# multiplica por 2 se o módulo for igual a zero\n",
    "# se não divide por dois\n",
    "# para cada número in numeros\n",
    "# atribui isto à variável res"
   ]
  },
  {
   "cell_type": "code",
   "execution_count": 13,
   "id": "e601be20",
   "metadata": {},
   "outputs": [
    {
     "name": "stdout",
     "output_type": "stream",
     "text": [
      "2\n",
      "9\n"
     ]
    }
   ],
   "source": [
    "# Listas aninhadas\n",
    "listas = [[1,2,3],[4,5,6],[7,8,9]]\n",
    "print(listas[0][1])\n",
    "print(listas[2][2])\n"
   ]
  },
  {
   "cell_type": "code",
   "execution_count": 14,
   "id": "f0d7eb73",
   "metadata": {},
   "outputs": [
    {
     "name": "stdout",
     "output_type": "stream",
     "text": [
      "1\n",
      "2\n",
      "3\n",
      "4\n",
      "5\n",
      "6\n",
      "7\n",
      "8\n",
      "9\n"
     ]
    }
   ],
   "source": [
    "for lista in listas:\n",
    "    for num in lista:\n",
    "        print(num)\n"
   ]
  },
  {
   "cell_type": "code",
   "execution_count": 15,
   "id": "56c29cec",
   "metadata": {},
   "outputs": [
    {
     "name": "stdout",
     "output_type": "stream",
     "text": [
      "1\n",
      "2\n",
      "3\n",
      "4\n",
      "5\n",
      "6\n",
      "7\n",
      "8\n",
      "9\n"
     ]
    },
    {
     "data": {
      "text/plain": [
       "[[None, None, None], [None, None, None], [None, None, None]]"
      ]
     },
     "execution_count": 15,
     "metadata": {},
     "output_type": "execute_result"
    }
   ],
   "source": [
    "\n",
    "#usando list comprehension\n",
    "[[print(valor) for valor in lista] for lista in listas] \n",
    "# sao dois loops, um dentro do outro, lemos da direita para a esquerda\n",
    "# for lista in listas] \n",
    "#[[print(valor) for valor in lista]  "
   ]
  },
  {
   "cell_type": "code",
   "execution_count": 16,
   "id": "c881dde8",
   "metadata": {},
   "outputs": [
    {
     "name": "stdout",
     "output_type": "stream",
     "text": [
      "[[1, 2, 3], [1, 2, 3], [1, 2, 3]]\n"
     ]
    }
   ],
   "source": [
    "# outro exemplo, note aqui que range 1, 4 vai de 1 até 3, o 4 fica de fora\n",
    "tabuleiro = [[numero for numero in range(1, 4)] for valor in  range (1, 4)]\n",
    "print(tabuleiro)"
   ]
  },
  {
   "cell_type": "code",
   "execution_count": 17,
   "id": "736304c7",
   "metadata": {},
   "outputs": [
    {
     "name": "stdout",
     "output_type": "stream",
     "text": [
      "[['O', 'x', 'O'], ['O', 'x', 'O'], ['O', 'x', 'O']]\n"
     ]
    }
   ],
   "source": [
    "# gerando jogadas para o jogo da velha\n",
    "velha = [['x' if numero % 2 == 0 else 'O' for numero in range(1, 4)] for valor in range(1, 4)]\n",
    "print(velha)"
   ]
  },
  {
   "cell_type": "markdown",
   "id": "ba2f8b25",
   "metadata": {},
   "source": [
    "# Dictionary comprehension\n",
    "{chave:valor for valor in iteravel}\n",
    "\n",
    "{chave:valor for valor in iteravel}\n"
   ]
  },
  {
   "cell_type": "code",
   "execution_count": 18,
   "id": "69b195ce",
   "metadata": {},
   "outputs": [],
   "source": [
    "numeros = {'a':1, 'b':2, 'c':3, 'd':4, 'e':5}"
   ]
  },
  {
   "cell_type": "code",
   "execution_count": 19,
   "id": "6b8e3991",
   "metadata": {},
   "outputs": [
    {
     "name": "stdout",
     "output_type": "stream",
     "text": [
      "{'a': 1, 'b': 4, 'c': 9, 'd': 16, 'e': 25}\n"
     ]
    }
   ],
   "source": [
    "quadrado = {chave: valor**2 for chave, valor in numeros.items()}\n",
    "print(quadrado)"
   ]
  },
  {
   "cell_type": "code",
   "execution_count": 20,
   "id": "f0abed10",
   "metadata": {},
   "outputs": [
    {
     "name": "stdout",
     "output_type": "stream",
     "text": [
      "{1: 1, 2: 4, 3: 9, 4: 16, 5: 25}\n"
     ]
    }
   ],
   "source": [
    "#usando uma lista para gerar  um dicionário\n",
    "numeros = (1, 2, 3, 4, 5)\n",
    "quadrados = {valor: valor**2 for valor in numeros}\n",
    "print(quadrados)"
   ]
  },
  {
   "cell_type": "markdown",
   "id": "173eb5f0",
   "metadata": {},
   "source": [
    "### em dicionário não pode ter repetição de chave"
   ]
  },
  {
   "cell_type": "code",
   "execution_count": null,
   "id": "695e6848",
   "metadata": {},
   "outputs": [],
   "source": []
  },
  {
   "cell_type": "code",
   "execution_count": 21,
   "id": "e8e8d656",
   "metadata": {},
   "outputs": [
    {
     "name": "stdout",
     "output_type": "stream",
     "text": [
      "{'a': 1, 'b': 2, 'c': 3, 'd': 4, 'e': 5}\n"
     ]
    }
   ],
   "source": [
    "chaves = 'abcde'\n",
    "valores = [1, 2, 3, 4, 5]\n",
    "mistura = {chaves[i]: valores[i] for i in range(0, len(chaves))}\n",
    "print(mistura)"
   ]
  },
  {
   "cell_type": "code",
   "execution_count": 22,
   "id": "7614d344",
   "metadata": {},
   "outputs": [
    {
     "name": "stdout",
     "output_type": "stream",
     "text": [
      "{1: 'impar', 2: 'par', 3: 'impar', 4: 'par', 5: 'impar'}\n"
     ]
    }
   ],
   "source": [
    "numeros = [1, 2, 3, 4, 5]\n",
    "res = {num: ('par' if num % 2 == 0 else 'impar') for num in numeros}\n",
    "print(res)"
   ]
  },
  {
   "cell_type": "markdown",
   "id": "91f0c468",
   "metadata": {},
   "source": [
    "# Set comprehension {set é lista com chaves}\n",
    "### não aceita valores repetidos e não guarda ordenação"
   ]
  },
  {
   "cell_type": "code",
   "execution_count": 23,
   "id": "53cc7a87",
   "metadata": {},
   "outputs": [
    {
     "name": "stdout",
     "output_type": "stream",
     "text": [
      "{1, 2, 3, 4, 5, 6}\n"
     ]
    }
   ],
   "source": [
    "numeros = {num for num in range(1,7)}\n",
    "print(numeros)\n"
   ]
  },
  {
   "cell_type": "code",
   "execution_count": 24,
   "id": "8148cf69",
   "metadata": {},
   "outputs": [
    {
     "name": "stdout",
     "output_type": "stream",
     "text": [
      "{0, 1, 64, 4, 36, 9, 16, 49, 81, 25}\n"
     ]
    }
   ],
   "source": [
    "\n",
    "numeros = {x**2 for x in range(10)}\n",
    "print(numeros)"
   ]
  },
  {
   "cell_type": "code",
   "execution_count": 25,
   "id": "65660688",
   "metadata": {},
   "outputs": [
    {
     "name": "stdout",
     "output_type": "stream",
     "text": [
      "{0: 0, 1: 1, 2: 4, 3: 9, 4: 16, 5: 25, 6: 36, 7: 49, 8: 64, 9: 81}\n"
     ]
    }
   ],
   "source": [
    "#altere a estrutura acima para gerar dicionário ao invés de set\n",
    "# a diferença é que  dicionario é chave valor,  tem que colocar chave, pois já temos valor\n",
    "numeros = {x: x**2 for x in range(10)}\n",
    "print(numeros)"
   ]
  },
  {
   "cell_type": "code",
   "execution_count": 26,
   "id": "07789880",
   "metadata": {},
   "outputs": [
    {
     "name": "stdout",
     "output_type": "stream",
     "text": [
      "{'r', 't', 'y', 'n', 's', 'v', 'k', ' ', 'e', 'G', 'i', 'U'}\n"
     ]
    }
   ],
   "source": [
    "#set de strings\n",
    "letras = {letra for letra in 'Geek University'}\n",
    "print (letras)\n",
    "#veja que não mantem a ordenação nem tem repetição"
   ]
  },
  {
   "cell_type": "code",
   "execution_count": null,
   "id": "db8dff2d",
   "metadata": {},
   "outputs": [],
   "source": []
  },
  {
   "cell_type": "code",
   "execution_count": null,
   "id": "a84ce5e3",
   "metadata": {},
   "outputs": [],
   "source": []
  },
  {
   "cell_type": "code",
   "execution_count": null,
   "id": "88f4df3d",
   "metadata": {},
   "outputs": [],
   "source": []
  }
 ],
 "metadata": {
  "kernelspec": {
   "display_name": "Python 3 (ipykernel)",
   "language": "python",
   "name": "python3"
  },
  "language_info": {
   "codemirror_mode": {
    "name": "ipython",
    "version": 3
   },
   "file_extension": ".py",
   "mimetype": "text/x-python",
   "name": "python",
   "nbconvert_exporter": "python",
   "pygments_lexer": "ipython3",
   "version": "3.9.7"
  }
 },
 "nbformat": 4,
 "nbformat_minor": 5
}
