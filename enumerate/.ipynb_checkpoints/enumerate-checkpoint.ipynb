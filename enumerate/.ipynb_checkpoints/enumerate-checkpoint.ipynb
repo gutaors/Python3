{
 "cells": [
  {
   "cell_type": "code",
   "execution_count": 1,
   "id": "ce863398",
   "metadata": {},
   "outputs": [],
   "source": [
    "vendedores = [\"marcus\",\"amanda\", \"ale\", \"carol\"]\n",
    "vendas =[15,20,10,30]"
   ]
  },
  {
   "cell_type": "code",
   "execution_count": 2,
   "id": "32a0d653",
   "metadata": {},
   "outputs": [
    {
     "name": "stdout",
     "output_type": "stream",
     "text": [
      "marcus\n",
      "amanda\n",
      "ale\n",
      "carol\n"
     ]
    }
   ],
   "source": [
    "for vendedor in vendedores:\n",
    "    print(vendedor)"
   ]
  },
  {
   "cell_type": "code",
   "execution_count": 3,
   "id": "d3544a20",
   "metadata": {},
   "outputs": [
    {
     "name": "stdout",
     "output_type": "stream",
     "text": [
      "marcus\n",
      "15\n",
      "amanda\n",
      "20\n",
      "ale\n",
      "10\n",
      "carol\n",
      "30\n"
     ]
    }
   ],
   "source": [
    "tamanho_lista = len(vendedores)\n",
    "for i in range(tamanho_lista):\n",
    "    print(vendedores[i])\n",
    "    print(vendas[i])"
   ]
  },
  {
   "cell_type": "markdown",
   "id": "774ab1f3",
   "metadata": {},
   "source": [
    "Aqui em cima nós temos duas listas, uma delas com o nome dos vendedores e outra com a quantidade de vendas de cada um deles.\n",
    "\n",
    "Só que a ideia é obter o nome do vendedor e a quantidade de vendas que aquele vendedor fez.\n",
    "\n",
    "Então nós podemos utilizar a estrutura de repetição FOR no Python para trazer os nomes dos vendedores, ou ainda podemos utilizar essa estrutura com o tamanho dessa lista para trazer tanto o nome quanto as vendas.\n",
    "\n",
    "Só que dessa forma nós temos que fazer o procedimento de pegar o tamanho da lista e fazer a estrutura de repetição utilizando esse tamanho para obter tanto os vendedores quanto as vendas.\n",
    "\n",
    "Agora nós vamos fazer a repetição com índices no Python utilizando o enumerate para obter o mesmo resultado sem precisar trazer o tamanho da lista com uma linha extra de código."
   ]
  },
  {
   "cell_type": "code",
   "execution_count": null,
   "id": "ffa238d1",
   "metadata": {},
   "outputs": [],
   "source": []
  },
  {
   "cell_type": "markdown",
   "id": "d19e4cef",
   "metadata": {},
   "source": [
    "Estrutura enumerate\n",
    "Ainda vamos utilizar o FOR, mas aqui vamos ter a repetição com índices no Python, então ao utilizar o enumerate dessa forma o Python vai trazer em primeiro lugar o índice daquela informação e depois a informação desejada.\n",
    "\n",
    "Então teremos os índices em uma estrutura de repetição dentro da primeira variável (pode ser qualquer uma, não precisa ser necessariamente a letra “i”).\n",
    "\n",
    "E a segunda variável é a informação de dentro da lista que está percorrendo, que nesse caso é o nome do vendedor.\n",
    "\n",
    "IMPORTANTE: Dentro da estrutura enumerate ele sempre vai retornar o índice e depois a informação deseja nessa ordem. Então sempre terá primeiro o índice, isso é muito importante para que você não troque as informações e troque suas variáveis."
   ]
  },
  {
   "cell_type": "code",
   "execution_count": 7,
   "id": "6d0f013a",
   "metadata": {},
   "outputs": [
    {
     "name": "stdout",
     "output_type": "stream",
     "text": [
      "marcus\n",
      "15\n",
      "amanda\n",
      "20\n",
      "ale\n",
      "10\n",
      "carol\n",
      "30\n"
     ]
    }
   ],
   "source": [
    "for i, vendedor in enumerate(vendedores):\n",
    "    print(vendedor)\n",
    "    print(vendas[i])"
   ]
  },
  {
   "cell_type": "markdown",
   "id": "ff7e3c80",
   "metadata": {},
   "source": [
    "BÔNUS\n",
    "\n",
    "Como bônus vamos deixar a estrutra Zip no Python, que funciona de forma parecida com a enumerate, mas aqui nós vamos poder trazer 2 elementos de duas listas diferentes.\n",
    "\n",
    "Então não vamos precisar trazer o índice, nós vamos trazer o primeiro elemento de duas listas separadas"
   ]
  },
  {
   "cell_type": "code",
   "execution_count": 9,
   "id": "3b262b1f",
   "metadata": {},
   "outputs": [
    {
     "name": "stdout",
     "output_type": "stream",
     "text": [
      "marcus\n",
      "15\n",
      "amanda\n",
      "20\n",
      "ale\n",
      "10\n",
      "carol\n",
      "30\n"
     ]
    }
   ],
   "source": [
    "for vendedor, venda in zip(vendedores, vendas):\n",
    "    print(vendedor)\n",
    "    print(venda)\n"
   ]
  },
  {
   "cell_type": "code",
   "execution_count": null,
   "id": "b8ef15c8",
   "metadata": {},
   "outputs": [],
   "source": []
  }
 ],
 "metadata": {
  "kernelspec": {
   "display_name": "Python 3 (ipykernel)",
   "language": "python",
   "name": "python3"
  },
  "language_info": {
   "codemirror_mode": {
    "name": "ipython",
    "version": 3
   },
   "file_extension": ".py",
   "mimetype": "text/x-python",
   "name": "python",
   "nbconvert_exporter": "python",
   "pygments_lexer": "ipython3",
   "version": "3.9.7"
  }
 },
 "nbformat": 4,
 "nbformat_minor": 5
}
