{
 "cells": [
  {
   "cell_type": "code",
   "execution_count": 1,
   "id": "35ccef28",
   "metadata": {},
   "outputs": [],
   "source": [
    "# #Classe pessoa\n"
   ]
  },
  {
   "cell_type": "code",
   "execution_count": 2,
   "id": "3a6bcd90",
   "metadata": {},
   "outputs": [],
   "source": [
    "from datetime import datetime"
   ]
  },
  {
   "cell_type": "code",
   "execution_count": 3,
   "id": "d423daa5",
   "metadata": {},
   "outputs": [],
   "source": [
    "class Pessoa:\n",
    "    ano_atual = int(datetime.strftime(datetime.now(), '%Y'))\n",
    "\n",
    "    def __init__(self, nome, idade, comendo=False, falando=False):\n",
    "       self.nome = nome\n",
    "       self.idade = idade\n",
    "       self.comendo = comendo\n",
    "       self.falando = falando\n",
    "\n",
    "    def falar(self, assunto):\n",
    "        if self.comendo:\n",
    "            print(f'{self.nome} não pode falar comendo.')\n",
    "            return\n",
    "\n",
    "        if self.falando:\n",
    "            print(f'{self.nome} já está falando.')\n",
    "            return\n",
    "\n",
    "        print(f'{self.nome} está falando sobre {assunto}.')\n",
    "        self.falando = True\n",
    "\n",
    "    def parar_falar(self):\n",
    "        if not self.falando:\n",
    "            print(f'{self.nome} não está falando')\n",
    "            return\n",
    "\n",
    "        print(f'{self.nome} parou de falar.')\n",
    "        self.falando = False\n",
    "\n",
    "    def comer(self, alimento):\n",
    "        if self.comendo:\n",
    "            print(f'{self.nome} já está comendo.')\n",
    "            return\n",
    "\n",
    "        if self.falando:\n",
    "            print(f'{self.nome} não pode comer falando.')\n",
    "            return\n",
    "\n",
    "        print(f'{self.nome} está comendo {alimento}.')\n",
    "        self.comendo = True\n",
    "\n",
    "    def parar_comer(self):\n",
    "        if not self.comendo:\n",
    "            print(f'{self.nome} não está comendo.')\n",
    "            return\n",
    "\n",
    "        print(f'{self.nome} parou de comer.')\n",
    "        self.comendo = False\n",
    "\n",
    "    def get_ano_nascimento(self):\n",
    "        return self.ano_atual - self.idade"
   ]
  },
  {
   "cell_type": "code",
   "execution_count": 6,
   "id": "db6f0a03",
   "metadata": {},
   "outputs": [],
   "source": [
    "from pessoa import Pessoa"
   ]
  },
  {
   "cell_type": "code",
   "execution_count": 7,
   "id": "6fc4fa77",
   "metadata": {},
   "outputs": [],
   "source": [
    "p1 = Pessoa('Luiz', 29)\n",
    "p2 = Pessoa('João', 32)"
   ]
  },
  {
   "cell_type": "code",
   "execution_count": 8,
   "id": "a5486788",
   "metadata": {},
   "outputs": [
    {
     "name": "stdout",
     "output_type": "stream",
     "text": [
      "1993\n",
      "1990\n"
     ]
    }
   ],
   "source": [
    "print(p1.get_ano_nascimento())\n",
    "print(p2.get_ano_nascimento())"
   ]
  },
  {
   "cell_type": "code",
   "execution_count": 9,
   "id": "584d5862",
   "metadata": {},
   "outputs": [
    {
     "name": "stdout",
     "output_type": "stream",
     "text": [
      "Luiz\n"
     ]
    }
   ],
   "source": [
    "print(p1.nome)"
   ]
  },
  {
   "cell_type": "code",
   "execution_count": 10,
   "id": "ee0f28c9",
   "metadata": {},
   "outputs": [
    {
     "name": "stdout",
     "output_type": "stream",
     "text": [
      "João\n"
     ]
    }
   ],
   "source": [
    "print(p2.nome)"
   ]
  },
  {
   "cell_type": "code",
   "execution_count": null,
   "id": "3d3af24c",
   "metadata": {},
   "outputs": [],
   "source": []
  }
 ],
 "metadata": {
  "kernelspec": {
   "display_name": "Python 3 (ipykernel)",
   "language": "python",
   "name": "python3"
  },
  "language_info": {
   "codemirror_mode": {
    "name": "ipython",
    "version": 3
   },
   "file_extension": ".py",
   "mimetype": "text/x-python",
   "name": "python",
   "nbconvert_exporter": "python",
   "pygments_lexer": "ipython3",
   "version": "3.9.7"
  }
 },
 "nbformat": 4,
 "nbformat_minor": 5
}
