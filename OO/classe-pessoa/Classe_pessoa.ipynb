{
 "cells": [
  {
   "cell_type": "code",
   "execution_count": 1,
   "id": "2b6e4ec9",
   "metadata": {},
   "outputs": [],
   "source": [
    "# #Classe pessoa\n"
   ]
  },
  {
   "cell_type": "code",
   "execution_count": 2,
   "id": "3c353336",
   "metadata": {},
   "outputs": [],
   "source": [
    "from datetime import datetime"
   ]
  },
  {
   "cell_type": "code",
   "execution_count": 3,
   "id": "45c961ed",
   "metadata": {},
   "outputs": [],
   "source": [
    "class Pessoa:\n",
    "    ano_atual = int(datetime.strftime(datetime.now(), '%Y'))\n",
    "\n",
    "    def __init__(self, nome, idade, comendo=False, falando=False):\n",
    "       self.nome = nome\n",
    "       self.idade = idade\n",
    "       self.comendo = comendo\n",
    "       self.falando = falando\n",
    "\n",
    "    def falar(self, assunto):\n",
    "        if self.comendo:\n",
    "            print(f'{self.nome} não pode falar comendo.')\n",
    "            return\n",
    "\n",
    "        if self.falando:\n",
    "            print(f'{self.nome} já está falando.')\n",
    "            return\n",
    "\n",
    "        print(f'{self.nome} está falando sobre {assunto}.')\n",
    "        self.falando = True\n",
    "\n",
    "    def parar_falar(self):\n",
    "        if not self.falando:\n",
    "            print(f'{self.nome} não está falando')\n",
    "            return\n",
    "\n",
    "        print(f'{self.nome} parou de falar.')\n",
    "        self.falando = False\n",
    "\n",
    "    def comer(self, alimento):\n",
    "        if self.comendo:\n",
    "            print(f'{self.nome} já está comendo.')\n",
    "            return\n",
    "\n",
    "        if self.falando:\n",
    "            print(f'{self.nome} não pode comer falando.')\n",
    "            return\n",
    "\n",
    "        print(f'{self.nome} está comendo {alimento}.')\n",
    "        self.comendo = True\n",
    "\n",
    "    def parar_comer(self):\n",
    "        if not self.comendo:\n",
    "            print(f'{self.nome} não está comendo.')\n",
    "            return\n",
    "\n",
    "        print(f'{self.nome} parou de comer.')\n",
    "        self.comendo = False\n",
    "\n",
    "    def get_ano_nascimento(self):\n",
    "        return self.ano_atual - self.idade"
   ]
  },
  {
   "cell_type": "code",
   "execution_count": 4,
   "id": "ee8bc497",
   "metadata": {},
   "outputs": [],
   "source": [
    "from pessoa import Pessoa"
   ]
  },
  {
   "cell_type": "code",
   "execution_count": 16,
   "id": "19430765",
   "metadata": {},
   "outputs": [],
   "source": [
    "p1 = Pessoa('Luiz', 29)\n",
    "p2 = Pessoa('João', 32)\n",
    "p3 = Pessoa('Gustavo', 50)"
   ]
  },
  {
   "cell_type": "code",
   "execution_count": 17,
   "id": "2f6209bb",
   "metadata": {},
   "outputs": [
    {
     "name": "stdout",
     "output_type": "stream",
     "text": [
      "1993\n",
      "1990\n",
      "1972\n"
     ]
    }
   ],
   "source": [
    "print(p1.get_ano_nascimento())\n",
    "print(p2.get_ano_nascimento())\n",
    "print(p3.get_ano_nascimento())"
   ]
  },
  {
   "cell_type": "code",
   "execution_count": 9,
   "id": "e7316ab5",
   "metadata": {},
   "outputs": [
    {
     "name": "stdout",
     "output_type": "stream",
     "text": [
      "Luiz\n"
     ]
    }
   ],
   "source": [
    "print(p1.nome)"
   ]
  },
  {
   "cell_type": "code",
   "execution_count": 10,
   "id": "466ad22d",
   "metadata": {},
   "outputs": [
    {
     "name": "stdout",
     "output_type": "stream",
     "text": [
      "João\n"
     ]
    }
   ],
   "source": [
    "print(p2.nome)"
   ]
  },
  {
   "cell_type": "code",
   "execution_count": 37,
   "id": "be33d33d",
   "metadata": {},
   "outputs": [
    {
     "name": "stdout",
     "output_type": "stream",
     "text": [
      "Luiz está falando sobre bosta.\n",
      "None\n"
     ]
    }
   ],
   "source": [
    "#print(p1.falar('merda'))\n",
    "print(p1.falar('bosta'))"
   ]
  },
  {
   "cell_type": "code",
   "execution_count": 38,
   "id": "c21a2c97",
   "metadata": {},
   "outputs": [
    {
     "name": "stdout",
     "output_type": "stream",
     "text": [
      "Luiz parou de falar.\n"
     ]
    }
   ],
   "source": [
    "#print(p1.falar('merda'))\n",
    "p1.parar_falar()"
   ]
  },
  {
   "cell_type": "code",
   "execution_count": 39,
   "id": "5d23f3cf",
   "metadata": {},
   "outputs": [
    {
     "name": "stdout",
     "output_type": "stream",
     "text": [
      "Luiz está comendo merda.\n"
     ]
    }
   ],
   "source": [
    "p1.comer('merda')"
   ]
  },
  {
   "cell_type": "code",
   "execution_count": 40,
   "id": "e0b3230d",
   "metadata": {},
   "outputs": [
    {
     "name": "stdout",
     "output_type": "stream",
     "text": [
      "Luiz parou de comer.\n"
     ]
    }
   ],
   "source": [
    "p1.parar_comer()"
   ]
  },
  {
   "cell_type": "markdown",
   "id": "5ce132db",
   "metadata": {},
   "source": [
    "# Minhas anotações\n",
    "\n"
   ]
  },
  {
   "cell_type": "code",
   "execution_count": 8,
   "id": "a40bf003",
   "metadata": {},
   "outputs": [
    {
     "name": "stdout",
     "output_type": "stream",
     "text": [
      "<__main__.Pessoa object at 0x000001C22EA8F730>\n",
      "Gustavo 50\n",
      "1972\n",
      "11472\n",
      "19613\n"
     ]
    }
   ],
   "source": [
    "from datetime import datetime\n",
    "#import random\n",
    "from random import randint\n",
    "\n",
    "#a classe é como se fosse um molde para gerar objetos\n",
    "class Pessoa:\n",
    "    ano_atual = int(datetime.strftime(datetime.now(), '%Y'))\n",
    "\n",
    "    def __init__(self, nome, idade, comendo=False, falando=False):\n",
    "       self.nome = nome\n",
    "       self.idade = idade\n",
    "       self.comendo = comendo\n",
    "       self.falando = falando\n",
    "    \n",
    "    # Métodos de instância são métodos que \n",
    "    # precisam de uma instância para a gente utilizar\n",
    "    def get_ano_nascimento(self):\n",
    "        print(self.ano_atual - self.idade)\n",
    "    \n",
    "    # Métodos de classe são métodos que são relativos à classe inteira\n",
    "    # não preciso de instância mas preciso da classe\n",
    "    #recebem decorador\n",
    "    @classmethod\n",
    "    def por_ano_nascimento(cls, nome, ano_nascimento):\n",
    "        idade = cls.ano_atual - ano_nascimento\n",
    "        return cls(nome, idade)\n",
    "    \n",
    "    # Métodos estáticos não precisam de instância nem da classe\n",
    "    # mas precisam estar dentro da classe, se quiser pode receber parâmetro\n",
    "    #recebem decorador\n",
    "    @staticmethod\n",
    "    def gera_id():\n",
    "        rand = randint(10000, 19999)\n",
    "        #podemos crir variáveis sem self e sem cls, aí só vai estar disponível dentro deste método\n",
    "        #como é static não podemos mesmo usar cls nem self\n",
    "        return rand\n",
    "        \n",
    "# p1 = Pessoa.por_ano_nascimento('Luiz', 1987)\n",
    "p1 = Pessoa('Gustavo', 50)\n",
    "print (p1)\n",
    "print(p1.nome, p1.idade)\n",
    "p1.get_ano_nascimento()\n",
    "print(Pessoa.gera_id())\n",
    "#também posso chamar este método pela instância\n",
    "#porém não tenho acesso à instância pelo método mas vai funcionar\n",
    "print(p1.gera_id())\n"
   ]
  },
  {
   "cell_type": "code",
   "execution_count": null,
   "id": "9116f8cb",
   "metadata": {},
   "outputs": [],
   "source": []
  }
 ],
 "metadata": {
  "kernelspec": {
   "display_name": "Python 3 (ipykernel)",
   "language": "python",
   "name": "python3"
  },
  "language_info": {
   "codemirror_mode": {
    "name": "ipython",
    "version": 3
   },
   "file_extension": ".py",
   "mimetype": "text/x-python",
   "name": "python",
   "nbconvert_exporter": "python",
   "pygments_lexer": "ipython3",
   "version": "3.9.7"
  }
 },
 "nbformat": 4,
 "nbformat_minor": 5
}
