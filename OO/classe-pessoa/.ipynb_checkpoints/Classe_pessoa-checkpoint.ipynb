{
 "cells": [
  {
   "cell_type": "code",
   "execution_count": 1,
   "id": "4d592133",
   "metadata": {},
   "outputs": [],
   "source": [
    "# #Classe pessoa\n"
   ]
  },
  {
   "cell_type": "code",
   "execution_count": 2,
   "id": "6d5df644",
   "metadata": {},
   "outputs": [],
   "source": [
    "from datetime import datetime"
   ]
  },
  {
   "cell_type": "code",
   "execution_count": 3,
   "id": "2989f504",
   "metadata": {},
   "outputs": [],
   "source": [
    "class Pessoa:\n",
    "    ano_atual = int(datetime.strftime(datetime.now(), '%Y'))\n",
    "\n",
    "    def __init__(self, nome, idade, comendo=False, falando=False):\n",
    "       self.nome = nome\n",
    "       self.idade = idade\n",
    "       self.comendo = comendo\n",
    "       self.falando = falando\n",
    "\n",
    "    def falar(self, assunto):\n",
    "        if self.comendo:\n",
    "            print(f'{self.nome} não pode falar comendo.')\n",
    "            return\n",
    "\n",
    "        if self.falando:\n",
    "            print(f'{self.nome} já está falando.')\n",
    "            return\n",
    "\n",
    "        print(f'{self.nome} está falando sobre {assunto}.')\n",
    "        self.falando = True\n",
    "\n",
    "    def parar_falar(self):\n",
    "        if not self.falando:\n",
    "            print(f'{self.nome} não está falando')\n",
    "            return\n",
    "\n",
    "        print(f'{self.nome} parou de falar.')\n",
    "        self.falando = False\n",
    "\n",
    "    def comer(self, alimento):\n",
    "        if self.comendo:\n",
    "            print(f'{self.nome} já está comendo.')\n",
    "            return\n",
    "\n",
    "        if self.falando:\n",
    "            print(f'{self.nome} não pode comer falando.')\n",
    "            return\n",
    "\n",
    "        print(f'{self.nome} está comendo {alimento}.')\n",
    "        self.comendo = True\n",
    "\n",
    "    def parar_comer(self):\n",
    "        if not self.comendo:\n",
    "            print(f'{self.nome} não está comendo.')\n",
    "            return\n",
    "\n",
    "        print(f'{self.nome} parou de comer.')\n",
    "        self.comendo = False\n",
    "\n",
    "    def get_ano_nascimento(self):\n",
    "        return self.ano_atual - self.idade"
   ]
  },
  {
   "cell_type": "code",
   "execution_count": 6,
   "id": "ca7bc97c",
   "metadata": {},
   "outputs": [],
   "source": [
    "from pessoa import Pessoa"
   ]
  },
  {
   "cell_type": "code",
   "execution_count": 7,
   "id": "d18565fa",
   "metadata": {},
   "outputs": [],
   "source": [
    "p1 = Pessoa('Luiz', 29)\n",
    "p2 = Pessoa('João', 32)"
   ]
  },
  {
   "cell_type": "code",
   "execution_count": 8,
   "id": "0e11ea6f",
   "metadata": {},
   "outputs": [
    {
     "name": "stdout",
     "output_type": "stream",
     "text": [
      "1993\n",
      "1990\n"
     ]
    }
   ],
   "source": [
    "print(p1.get_ano_nascimento())\n",
    "print(p2.get_ano_nascimento())"
   ]
  },
  {
   "cell_type": "code",
   "execution_count": 9,
   "id": "e03c00b7",
   "metadata": {},
   "outputs": [
    {
     "name": "stdout",
     "output_type": "stream",
     "text": [
      "Luiz\n"
     ]
    }
   ],
   "source": [
    "print(p1.nome)"
   ]
  },
  {
   "cell_type": "code",
   "execution_count": 10,
   "id": "c0f7ed2a",
   "metadata": {},
   "outputs": [
    {
     "name": "stdout",
     "output_type": "stream",
     "text": [
      "João\n"
     ]
    }
   ],
   "source": [
    "print(p2.nome)"
   ]
  },
  {
   "cell_type": "code",
   "execution_count": 37,
   "id": "d105bdca",
   "metadata": {},
   "outputs": [
    {
     "name": "stdout",
     "output_type": "stream",
     "text": [
      "Luiz está falando sobre bosta.\n",
      "None\n"
     ]
    }
   ],
   "source": [
    "#print(p1.falar('merda'))\n",
    "print(p1.falar('bosta'))"
   ]
  },
  {
   "cell_type": "code",
   "execution_count": 33,
   "id": "248d6ced",
   "metadata": {},
   "outputs": [
    {
     "name": "stdout",
     "output_type": "stream",
     "text": [
      "Luiz parou de falar.\n"
     ]
    }
   ],
   "source": [
    "#print(p1.falar('merda'))\n",
    "p1.parar_falar()"
   ]
  },
  {
   "cell_type": "code",
   "execution_count": 34,
   "id": "54c32330",
   "metadata": {},
   "outputs": [
    {
     "name": "stdout",
     "output_type": "stream",
     "text": [
      "Luiz está comendo merda.\n"
     ]
    }
   ],
   "source": [
    "p1.comer('merda')"
   ]
  },
  {
   "cell_type": "code",
   "execution_count": 36,
   "id": "9a1c0994",
   "metadata": {},
   "outputs": [
    {
     "name": "stdout",
     "output_type": "stream",
     "text": [
      "Luiz parou de comer.\n"
     ]
    }
   ],
   "source": [
    "p1.parar_comer()"
   ]
  },
  {
   "cell_type": "code",
   "execution_count": null,
   "id": "42d28bd4",
   "metadata": {},
   "outputs": [],
   "source": []
  }
 ],
 "metadata": {
  "kernelspec": {
   "display_name": "Python 3 (ipykernel)",
   "language": "python",
   "name": "python3"
  },
  "language_info": {
   "codemirror_mode": {
    "name": "ipython",
    "version": 3
   },
   "file_extension": ".py",
   "mimetype": "text/x-python",
   "name": "python",
   "nbconvert_exporter": "python",
   "pygments_lexer": "ipython3",
   "version": "3.9.7"
  }
 },
 "nbformat": 4,
 "nbformat_minor": 5
}
