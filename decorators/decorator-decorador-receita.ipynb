{
 "cells": [
  {
   "cell_type": "markdown",
   "id": "38bbcc51",
   "metadata": {},
   "source": [
    "https://www.youtube.com/watch?v=O9vhwaQAuHU\n",
    "https://pythonacademy.com.br/blog/domine-decorators-em-pythonhttps://www.youtube.com/watch?v=O9vhwaQAuHU"
   ]
  },
  {
   "cell_type": "markdown",
   "id": "d52912f9",
   "metadata": {},
   "source": [
    "### 1 - EMBUTINDO F DENTRO DE F1 DO JEITO TRADICIONAL: primeiro entender esta logica aqui:"
   ]
  },
  {
   "cell_type": "code",
   "execution_count": 24,
   "id": "abfcd3b9",
   "metadata": {},
   "outputs": [
    {
     "name": "stdout",
     "output_type": "stream",
     "text": [
      "ola\n"
     ]
    }
   ],
   "source": [
    "#funcao que vai ter a outra embutida - vai decorar (abraçar) e executar a outra\n",
    "def f1(func):\n",
    "    def wrapper():\n",
    "        print('inicio')\n",
    "        func()\n",
    "        print('final')\n",
    "#este () aqui embaixo só é necessario para botar a função f dentro da função f1\n",
    "    return wrapper()\n",
    "#funcao que vai ser abraçada - decorada\n",
    "def f():\n",
    "    print('ola')\n",
    "    \n",
    "#print(f1(f))\n",
    "#executa sem decorar\n",
    "f()\n"
   ]
  },
  {
   "cell_type": "markdown",
   "id": "a8edbac3",
   "metadata": {},
   "source": [
    "#agora vou botar f dentro de f1"
   ]
  },
  {
   "cell_type": "code",
   "execution_count": 23,
   "id": "ea9cce1c",
   "metadata": {},
   "outputs": [
    {
     "name": "stdout",
     "output_type": "stream",
     "text": [
      "inicio\n",
      "ola\n",
      "final\n"
     ]
    }
   ],
   "source": [
    "# para isto aqui funcionar eu preciso ir lá na f1 e no  no return wrapper e colocar ()\n",
    "f1(f)"
   ]
  },
  {
   "cell_type": "markdown",
   "id": "0e370706",
   "metadata": {},
   "source": [
    "### 2- EMBUTINDO F DENTRO DE F1 COM DECORATOR"
   ]
  },
  {
   "cell_type": "code",
   "execution_count": 13,
   "id": "d54dc7a3",
   "metadata": {},
   "outputs": [
    {
     "name": "stdout",
     "output_type": "stream",
     "text": [
      "inicio\n",
      "ola\n",
      "final\n"
     ]
    }
   ],
   "source": [
    "#funcao que vai ter a outra embutida - vai decorar (abraçar) e executar a outra\n",
    "def f1(func):\n",
    "    def wrapper():\n",
    "        print('inicio')\n",
    "        func()\n",
    "        print('final')\n",
    "\n",
    "    return wrapper\n",
    "#basta colocar arroba e nome da função que quero decorar (que vai receber a outra dentro dela)\n",
    "\n",
    "@f1\n",
    "#funcao que vai ser abraçada - decorada\n",
    "def f():\n",
    "    print('ola')\n",
    "    \n",
    "#print(f1(f))\n",
    "#executa de forma decorada\n",
    "f()"
   ]
  },
  {
   "cell_type": "markdown",
   "id": "81ddc903",
   "metadata": {},
   "source": [
    "### 3- EMBUTINDO F DENTRO DE F1 COM DECORATOR E PASSANDO ARGUMENTOS"
   ]
  },
  {
   "cell_type": "code",
   "execution_count": 29,
   "id": "801cffb4",
   "metadata": {},
   "outputs": [
    {
     "name": "stdout",
     "output_type": "stream",
     "text": [
      "inicio\n",
      "ola gustavo tudo bem?\n",
      "final\n"
     ]
    }
   ],
   "source": [
    "#funcao que vai ter a outra embutida - vai decorar (abraçar) e executar a outra\n",
    "def f1(func):\n",
    "    #aqui na wrapper(empacotadora coloco args e kwargs * e **)\n",
    "    def wrapper(*args,**kwargs):\n",
    "        print('inicio')\n",
    "        #não é so na wrapper, lembre se que aqui na func(funcao) também coloco args e kwargs * e **\n",
    "        func(*args,**kwargs)\n",
    "        print('final')\n",
    "\n",
    "    return wrapper\n",
    "#basta colocar arroba e nome da função que quero decorar (que vai receber a outra dentro dela)\n",
    "@f1\n",
    "#funcao que vai ser abraçada - decorada\n",
    "#veja que desta vez coloco argumento nome\n",
    "def f(nome,gentileza):\n",
    "    #quarta alteração desta vez, colocar nome no print\n",
    "    print('ola '+nome+gentileza)\n",
    "    \n",
    "#print(f1(f))\n",
    "#executa de forma decorada\n",
    "f(\"gustavo\",\" tudo bem?\")"
   ]
  },
  {
   "cell_type": "markdown",
   "id": "7e700f01",
   "metadata": {},
   "source": [
    "### 4-CALCULANDO TEMPO DE EXECUCAO"
   ]
  },
  {
   "cell_type": "code",
   "execution_count": 30,
   "id": "b798d00b",
   "metadata": {},
   "outputs": [
    {
     "name": "stdout",
     "output_type": "stream",
     "text": [
      "[main] Tempo total de execução: 0.4960446357727051\n"
     ]
    }
   ],
   "source": [
    "import time\n",
    "\n",
    "# Define nosso decorator\n",
    "def calcula_duracao(funcao):\n",
    "    def wrapper():\n",
    "        # Calcula o tempo de execução\n",
    "        tempo_inicial = time.time()\n",
    "        funcao()\n",
    "        tempo_final = time.time()\n",
    "\n",
    "        # Formata a mensagem que será mostrada na tela\n",
    "        print(\"[{funcao}] Tempo total de execução: {tempo_total}\".format(\n",
    "            funcao=funcao.__name__,\n",
    "            tempo_total=str(tempo_final - tempo_inicial))\n",
    "        )\n",
    "\n",
    "    return wrapper\n",
    "\n",
    "# Decora a função com o decorator\n",
    "@calcula_duracao\n",
    "def main():\n",
    "    for n in range(0, 10000000):\n",
    "        pass\n",
    "\n",
    "# Executa a função main\n",
    "main()"
   ]
  },
  {
   "cell_type": "code",
   "execution_count": null,
   "id": "8851f73d",
   "metadata": {},
   "outputs": [],
   "source": []
  }
 ],
 "metadata": {
  "kernelspec": {
   "display_name": "Python 3",
   "language": "python",
   "name": "python3"
  },
  "language_info": {
   "codemirror_mode": {
    "name": "ipython",
    "version": 3
   },
   "file_extension": ".py",
   "mimetype": "text/x-python",
   "name": "python",
   "nbconvert_exporter": "python",
   "pygments_lexer": "ipython3",
   "version": "3.8.8"
  }
 },
 "nbformat": 4,
 "nbformat_minor": 5
}
