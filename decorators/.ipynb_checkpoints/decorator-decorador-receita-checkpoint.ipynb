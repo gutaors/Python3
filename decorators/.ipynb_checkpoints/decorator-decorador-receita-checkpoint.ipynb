{
 "cells": [
  {
   "cell_type": "markdown",
   "id": "70b7860e",
   "metadata": {},
   "source": [
    "primeiro entender esta logica aqui:"
   ]
  },
  {
   "cell_type": "code",
   "execution_count": 14,
   "id": "bbbd9285",
   "metadata": {},
   "outputs": [
    {
     "name": "stdout",
     "output_type": "stream",
     "text": [
      "ola\n"
     ]
    }
   ],
   "source": [
    "def f1(func):\n",
    "    def wrapper():\n",
    "        print('inicio')\n",
    "        func()\n",
    "        print('final')\n",
    "\n",
    "    return wrapper\n",
    "\n",
    "def f():\n",
    "    print('ola')\n",
    "    \n",
    "#print(f1(f))\n",
    "f()\n"
   ]
  },
  {
   "cell_type": "raw",
   "id": "a59d7693",
   "metadata": {},
   "source": [
    "#agora vou botar f dentro de f1"
   ]
  },
  {
   "cell_type": "code",
   "execution_count": 11,
   "id": "6725fe8a",
   "metadata": {},
   "outputs": [
    {
     "name": "stdout",
     "output_type": "stream",
     "text": [
      "inicio\n",
      "ola\n",
      "final\n"
     ]
    }
   ],
   "source": [
    "f1(f)"
   ]
  },
  {
   "cell_type": "markdown",
   "id": "9e205f99",
   "metadata": {},
   "source": [
    "agora vou fazer o mesmo com decorator"
   ]
  },
  {
   "cell_type": "code",
   "execution_count": 13,
   "id": "a212f8b8",
   "metadata": {},
   "outputs": [
    {
     "name": "stdout",
     "output_type": "stream",
     "text": [
      "inicio\n",
      "ola\n",
      "final\n"
     ]
    }
   ],
   "source": [
    "def f1(func):\n",
    "    def wrapper():\n",
    "        print('inicio')\n",
    "        func()\n",
    "        print('final')\n",
    "\n",
    "    return wrapper\n",
    "#basta colocar arroba e nome da função que quero decorar (que vai receber a outra dentro dela)\n",
    "\n",
    "@f1\n",
    "def f():\n",
    "    print('ola')\n",
    "    \n",
    "#print(f1(f))\n",
    "f()"
   ]
  },
  {
   "cell_type": "code",
   "execution_count": null,
   "id": "51ec3633",
   "metadata": {},
   "outputs": [],
   "source": []
  }
 ],
 "metadata": {
  "kernelspec": {
   "display_name": "Python 3",
   "language": "python",
   "name": "python3"
  },
  "language_info": {
   "codemirror_mode": {
    "name": "ipython",
    "version": 3
   },
   "file_extension": ".py",
   "mimetype": "text/x-python",
   "name": "python",
   "nbconvert_exporter": "python",
   "pygments_lexer": "ipython3",
   "version": "3.8.8"
  }
 },
 "nbformat": 4,
 "nbformat_minor": 5
}
